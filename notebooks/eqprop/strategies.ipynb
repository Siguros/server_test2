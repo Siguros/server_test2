{
 "cells": [
  {
   "cell_type": "markdown",
   "metadata": {},
   "source": [
    "# SETUP"
   ]
  },
  {
   "cell_type": "code",
   "execution_count": null,
   "metadata": {},
   "outputs": [],
   "source": [
    "import numpy as np\n",
    "import torch\n",
    "\n",
    "from src.core.eqprop.eqprop_util import OTS, P3OTS\n",
    "from src.core.eqprop.strategy import GradientDescentStrategy, NewtonStrategy"
   ]
  },
  {
   "cell_type": "code",
   "execution_count": null,
   "metadata": {},
   "outputs": [],
   "source": [
    "ckpt_path = \"../../logs/test/last.ckpt\"\n",
    "\n",
    "ckpt = torch.load(ckpt_path, map_location=\"cpu\")\n",
    "w1 = ckpt[\"state_dict\"][\"net.model.0.weight\"]\n",
    "w2 = ckpt[\"state_dict\"][\"net.model.1.weight\"]\n",
    "\n",
    "model = torch.nn.Sequential(torch.nn.Linear(3, 2, bias=False), torch.nn.Linear(2, 2, bias=False))\n",
    "model[0].weight.data = w1\n",
    "model[1].weight.data = w2"
   ]
  },
  {
   "cell_type": "code",
   "execution_count": null,
   "metadata": {},
   "outputs": [],
   "source": [
    "w1"
   ]
  },
  {
   "cell_type": "code",
   "execution_count": null,
   "metadata": {},
   "outputs": [],
   "source": [
    "w2"
   ]
  },
  {
   "cell_type": "code",
   "execution_count": null,
   "metadata": {},
   "outputs": [],
   "source": [
    "st = NewtonStrategy(\n",
    "    activation=P3OTS(Is=1e-6, Vl=-0.6, Vr=0.6, Vth=1.0),\n",
    "    clip_threshold=0.5,\n",
    "    amp_factor=1.0,\n",
    "    max_iter=5,\n",
    "    atol=1e-7,\n",
    "    add_nonlin_last=False,\n",
    ")\n",
    "st.set_strategy_params(model)"
   ]
  },
  {
   "cell_type": "code",
   "execution_count": null,
   "metadata": {},
   "outputs": [],
   "source": [
    "print(ckpt[\"state_dict\"][\"net.model.0.positive_node\"])\n",
    "print(ckpt[\"state_dict\"][\"net.model.1.positive_node\"])\n",
    "print(ckpt[\"state_dict\"][\"net.model.0.negative_node\"])\n",
    "print(ckpt[\"state_dict\"][\"net.model.1.negative_node\"])"
   ]
  },
  {
   "cell_type": "code",
   "execution_count": null,
   "metadata": {},
   "outputs": [],
   "source": [
    "p0 = ckpt[\"state_dict\"][\"net.model.0.positive_node\"]\n",
    "p1 = ckpt[\"state_dict\"][\"net.model.1.positive_node\"]\n",
    "# torch.allclose(p0, p1, rtol=1e-7)\n",
    "p1"
   ]
  },
  {
   "cell_type": "markdown",
   "metadata": {},
   "source": [
    "# Run"
   ]
  },
  {
   "cell_type": "code",
   "execution_count": null,
   "metadata": {},
   "outputs": [],
   "source": [
    "import io\n",
    "import logging\n",
    "\n",
    "\n",
    "class LogCapture:\n",
    "    def __init__(self, logger_name: str = None):\n",
    "        \"\"\"Capture log messages to a list\n",
    "\n",
    "        Args:\n",
    "            logger_name (str, optional): Name of the logger. Usually the file path under src. Defaults to None.\n",
    "\n",
    "        Example:\n",
    "            with LogCapture(\"src.core.eqprop.strategy\") as log_capture:\n",
    "                logger = logging.getLogger(\"src.core.eqprop.strategy\")\n",
    "                logger.info(\"Hello\")\n",
    "                logger.info(\"World\")\n",
    "                log_list = log_capture.get_log_list()\n",
    "        \"\"\"\n",
    "        self.log_stream = io.StringIO()\n",
    "        self.logger = logging.getLogger(logger_name)\n",
    "        self.logging_level = self.logger.getEffectiveLevel()\n",
    "        self.stream_handler = logging.StreamHandler(self.log_stream)\n",
    "        self.formatter = logging.Formatter(\"%(message)s\")\n",
    "        self.stream_handler.setFormatter(self.formatter)\n",
    "\n",
    "    def __enter__(self):\n",
    "        self.logger.setLevel(logging.DEBUG)\n",
    "        self.logger.addHandler(self.stream_handler)\n",
    "        return self\n",
    "\n",
    "    def __exit__(self, exc_type, exc_val, exc_tb):\n",
    "        self.logger.removeHandler(self.stream_handler)\n",
    "        self.log_stream.close()\n",
    "        self.logger.setLevel(self.logging_level)\n",
    "\n",
    "    def get_log_list(self):\n",
    "        log_contents = self.log_stream.getvalue().strip().split(\"\\n\")\n",
    "        return log_contents"
   ]
  },
  {
   "cell_type": "code",
   "execution_count": null,
   "metadata": {},
   "outputs": [],
   "source": [
    "import re\n",
    "\n",
    "\n",
    "def extract_and_convert_tensors(log_list):\n",
    "    tensor_list = []\n",
    "    tensor_pattern = re.compile(r\"tensor\\(\\[\\[(.*?)\\]\\]\\)\")\n",
    "\n",
    "    for log in log_list:\n",
    "        match = tensor_pattern.search(log)\n",
    "        if match:\n",
    "            tensor_str = match.group(1)\n",
    "            tensor_values = [float(x) for x in tensor_str.split(\", \")]\n",
    "            tensor = torch.tensor(tensor_values)  # Reshape to match the original format\n",
    "            tensor_list.append(tensor)\n",
    "\n",
    "    return tensor_list"
   ]
  },
  {
   "cell_type": "code",
   "execution_count": null,
   "metadata": {},
   "outputs": [],
   "source": [
    "x = torch.tensor([[-2, 2, 1]]).float()\n",
    "torch.set_printoptions(precision=10)\n",
    "i_ext = None  # torch.tensor(0)\n",
    "with LogCapture(\"src.core.eqprop.strategy\") as log_capture:\n",
    "    st.solve(x, i_ext)\n",
    "    log_list = log_capture.get_log_list()"
   ]
  },
  {
   "cell_type": "code",
   "execution_count": null,
   "metadata": {},
   "outputs": [],
   "source": [
    "v_traj = extract_and_convert_tensors(log_list)\n",
    "print(v_traj)"
   ]
  },
  {
   "cell_type": "code",
   "execution_count": null,
   "metadata": {},
   "outputs": [],
   "source": []
  },
  {
   "cell_type": "markdown",
   "metadata": {},
   "source": [
    "2 2 1.358 1.999\n",
    "2 -2 "
   ]
  },
  {
   "cell_type": "markdown",
   "metadata": {},
   "source": [
    "## Reimplement the solve method"
   ]
  },
  {
   "cell_type": "code",
   "execution_count": null,
   "metadata": {},
   "outputs": [],
   "source": []
  },
  {
   "cell_type": "markdown",
   "metadata": {},
   "source": [
    "# Visualize"
   ]
  },
  {
   "cell_type": "code",
   "execution_count": null,
   "metadata": {},
   "outputs": [],
   "source": [
    "import matplotlib.pyplot as plt"
   ]
  },
  {
   "cell_type": "code",
   "execution_count": null,
   "metadata": {},
   "outputs": [],
   "source": [
    "def project_and_plot(trajectories, target_dim=2, plot_arrow: bool = False):\n",
    "    \"\"\"\n",
    "    n차원 데이터를 2차원 또는 3차원으로 투영하고 플롯합니다.\n",
    "\n",
    "    Parameters:\n",
    "    trajectories (list): n차원 벡터 궤적 리스트\n",
    "    target_dim (int): 투영할 목표 차원 (2 또는 3)\n",
    "    plot\n",
    "    \"\"\"\n",
    "    # 텐서로 변환\n",
    "    # data = torch.tensor(trajectories, dtype=torch.float32)\n",
    "    size = len(trajectories)\n",
    "    data = torch.cat(trajectories).reshape(size, -1)\n",
    "    # SVD 수행\n",
    "    U, S, Vh = torch.linalg.svd(data)\n",
    "\n",
    "    # 첫 target_dim 개의 eigenvector\n",
    "    eigenvectors = Vh[:target_dim, :]\n",
    "\n",
    "    # 데이터를 target_dim 평면으로 투영\n",
    "    projected_data = torch.matmul(data, eigenvectors.T).numpy()\n",
    "\n",
    "    # 플롯\n",
    "    if target_dim == 2:\n",
    "        plt.figure(figsize=(8, 6))\n",
    "        plt.plot(projected_data[:, 0], projected_data[:, 1], \"o-\", label=\"Projected Trajectory\")\n",
    "        if plot_arrow:\n",
    "            for i in range(len(projected_data) - 1):\n",
    "                plt.arrow(\n",
    "                    projected_data[i, 0],\n",
    "                    projected_data[i, 1],\n",
    "                    projected_data[i + 1, 0] - projected_data[i, 0],\n",
    "                    projected_data[i + 1, 1] - projected_data[i, 1],\n",
    "                    head_width=0.1,\n",
    "                    head_length=0.2,\n",
    "                    fc=\"k\",\n",
    "                    ec=\"k\",\n",
    "                )\n",
    "        plt.xlabel(\"First Principal Component\")\n",
    "        plt.ylabel(\"Second Principal Component\")\n",
    "        plt.title(\"Trajectory Projection onto 2D Plane\")\n",
    "        plt.legend()\n",
    "        plt.grid(True)\n",
    "        plt.show()\n",
    "    elif target_dim == 3:\n",
    "        fig = plt.figure(figsize=(10, 8))\n",
    "        ax = fig.add_subplot(111, projection=\"3d\")\n",
    "        ax.plot(\n",
    "            projected_data[:, 0],\n",
    "            projected_data[:, 1],\n",
    "            projected_data[:, 2],\n",
    "            \"o-\",\n",
    "            label=\"Projected Trajectory\",\n",
    "        )\n",
    "        if plot_arrow:\n",
    "            for i in range(len(projected_data) - 1):\n",
    "                ax.quiver(\n",
    "                    projected_data[i, 0],\n",
    "                    projected_data[i, 1],\n",
    "                    projected_data[i, 2],\n",
    "                    projected_data[i + 1, 0] - projected_data[i, 0],\n",
    "                    projected_data[i + 1, 1] - projected_data[i, 1],\n",
    "                    projected_data[i + 1, 2] - projected_data[i, 2],\n",
    "                    arrow_length_ratio=0.1,\n",
    "                    color=\"k\",\n",
    "                )\n",
    "        ax.set_xlabel(\"First Principal Component\")\n",
    "        ax.set_ylabel(\"Second Principal Component\")\n",
    "        ax.set_zlabel(\"Third Principal Component\")\n",
    "        ax.set_title(\"Trajectory Projection onto 3D Space\")\n",
    "        ax.legend()\n",
    "        plt.show()\n",
    "    else:\n",
    "        raise ValueError(\"target_dim must be 2 or 3\")"
   ]
  },
  {
   "cell_type": "code",
   "execution_count": null,
   "metadata": {},
   "outputs": [],
   "source": [
    "project_and_plot(v_traj, target_dim=2)"
   ]
  },
  {
   "cell_type": "code",
   "execution_count": null,
   "metadata": {},
   "outputs": [],
   "source": [
    "torch.any(st.residual(v_traj[1], x, None).abs() > 1e-5)"
   ]
  },
  {
   "cell_type": "code",
   "execution_count": null,
   "metadata": {},
   "outputs": [],
   "source": [
    "st.residual(v_traj[40], x, None)"
   ]
  },
  {
   "cell_type": "code",
   "execution_count": null,
   "metadata": {},
   "outputs": [],
   "source": [
    "L = st.laplacian()"
   ]
  },
  {
   "cell_type": "code",
   "execution_count": null,
   "metadata": {},
   "outputs": [],
   "source": [
    "L @ v_traj[1]"
   ]
  },
  {
   "cell_type": "code",
   "execution_count": null,
   "metadata": {},
   "outputs": [],
   "source": [
    "st.rhs(x)"
   ]
  },
  {
   "cell_type": "code",
   "execution_count": null,
   "metadata": {},
   "outputs": [],
   "source": []
  }
 ],
 "metadata": {
  "kernelspec": {
   "display_name": "torchbase",
   "language": "python",
   "name": "python3"
  },
  "language_info": {
   "codemirror_mode": {
    "name": "ipython",
    "version": 3
   },
   "file_extension": ".py",
   "mimetype": "text/x-python",
   "name": "python",
   "nbconvert_exporter": "python",
   "pygments_lexer": "ipython3",
   "version": "3.11.4"
  }
 },
 "nbformat": 4,
 "nbformat_minor": 2
}
