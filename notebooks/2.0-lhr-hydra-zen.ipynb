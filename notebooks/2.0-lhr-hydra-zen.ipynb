{
 "cells": [
  {
   "cell_type": "markdown",
   "metadata": {},
   "source": [
    "# Basic Usage"
   ]
  },
  {
   "cell_type": "code",
   "execution_count": null,
   "metadata": {},
   "outputs": [],
   "source": [
    "from hydra_zen import builds, instantiate, to_yaml, zen\n",
    "\n",
    "from src.models.components.simple_dense_net import SimpleDenseNet"
   ]
  },
  {
   "cell_type": "code",
   "execution_count": null,
   "metadata": {},
   "outputs": [],
   "source": [
    "# 1.make a config\n",
    "BackboneConf = builds(SimpleDenseNet, populate_full_signature=True)\n",
    "print(to_yaml(BackboneConf))\n",
    "# 2. instantiate\n",
    "net = instantiate(BackboneConf(output_size=20))\n",
    "print(net)"
   ]
  },
  {
   "cell_type": "code",
   "execution_count": null,
   "metadata": {},
   "outputs": [],
   "source": [
    "# 1&2 in one step\n",
    "wrapped_net = zen(SimpleDenseNet)\n",
    "cfg_net = dict(output_size=20)\n",
    "net = wrapped_net(cfg_net)\n",
    "print(net)"
   ]
  },
  {
   "cell_type": "markdown",
   "metadata": {},
   "source": [
    "## store"
   ]
  },
  {
   "cell_type": "code",
   "execution_count": null,
   "metadata": {},
   "outputs": [],
   "source": [
    "from hydra_zen import ZenStore, store"
   ]
  },
  {
   "cell_type": "code",
   "execution_count": null,
   "metadata": {},
   "outputs": [],
   "source": [
    "_ = store(SimpleDenseNet)  # name default to the class name\n",
    "print(store)\n",
    "config = store[None, \"SimpleDenseNet\"]\n",
    "print(to_yaml(config))"
   ]
  },
  {
   "cell_type": "code",
   "execution_count": null,
   "metadata": {},
   "outputs": [],
   "source": [
    "# yaml to DictConfig\n",
    "from omegaconf import OmegaConf\n",
    "\n",
    "OmegaConf.structured(config)"
   ]
  },
  {
   "cell_type": "code",
   "execution_count": null,
   "metadata": {},
   "outputs": [],
   "source": [
    "another_store = ZenStore(name=\"another_store\")\n",
    "_ = another_store(SimpleDenseNet, output_size=20)"
   ]
  },
  {
   "cell_type": "markdown",
   "metadata": {},
   "source": [
    "## compose"
   ]
  },
  {
   "cell_type": "code",
   "execution_count": null,
   "metadata": {},
   "outputs": [],
   "source": [
    "# setup\n",
    "from configs import register_everything\n",
    "\n",
    "register_everything()"
   ]
  },
  {
   "cell_type": "code",
   "execution_count": null,
   "metadata": {},
   "outputs": [],
   "source": [
    "from hydra import compose, initialize\n",
    "\n",
    "with initialize(config_path=\"../configs\", version_base=\"1.3\"):\n",
    "    cfg = compose(config_name=\"train\", return_hydra_config=True, overrides=[])\n",
    "    print(cfg.pretty())"
   ]
  },
  {
   "cell_type": "code",
   "execution_count": null,
   "metadata": {},
   "outputs": [],
   "source": [
    "model_cfg = compose(config_name=\"model\", return_hydra_config=True, overrides=[])"
   ]
  },
  {
   "cell_type": "markdown",
   "metadata": {},
   "source": [
    "## src.utils"
   ]
  },
  {
   "cell_type": "code",
   "execution_count": null,
   "metadata": {},
   "outputs": [],
   "source": [
    "from omegaconf import open_dict\n",
    "\n",
    "from src.utils.utils import get_dictconfig\n",
    "\n",
    "config = get_dictconfig(name=\"ep-xor\", group=\"model\")\n",
    "with open_dict(config):\n",
    "    config.node.net.batch_size = 16\n",
    "    config.node.net.solver.beta = 0.01\n",
    "\n",
    "print(to_yaml(config))"
   ]
  },
  {
   "cell_type": "code",
   "execution_count": null,
   "metadata": {},
   "outputs": [],
   "source": [
    "model = instantiate(config)"
   ]
  },
  {
   "cell_type": "code",
   "execution_count": null,
   "metadata": {},
   "outputs": [],
   "source": []
  }
 ],
 "metadata": {
  "kernelspec": {
   "display_name": "torchbase",
   "language": "python",
   "name": "python3"
  },
  "language_info": {
   "codemirror_mode": {
    "name": "ipython",
    "version": 3
   },
   "file_extension": ".py",
   "mimetype": "text/x-python",
   "name": "python",
   "nbconvert_exporter": "python",
   "pygments_lexer": "ipython3",
   "version": "3.11.4"
  }
 },
 "nbformat": 4,
 "nbformat_minor": 2
}
