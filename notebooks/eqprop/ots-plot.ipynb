{
 "cells": [
  {
   "cell_type": "code",
   "execution_count": null,
   "metadata": {},
   "outputs": [],
   "source": [
    "from src.core.eqprop.eqprop_util import OTS\n",
    "\n",
    "ots = OTS()\n",
    "# plot OTS.i()\n",
    "\n",
    "import matplotlib.pyplot as plt\n",
    "import numpy as np\n",
    "import torch\n",
    "\n",
    "x = np.linspace(-0, 1, 100)\n",
    "y = ots.i(torch.from_numpy(x))\n",
    "plt.plot(x, y, label=\"OTS\", color=\"orange\")\n",
    "# plot vertical half line at x=0.9\n",
    "plt.axvline(x=0.9, ymin=0.5, color=\"k\", linestyle=\"-\")\n",
    "plt.axvline(x=0.1, ymax=0.5, color=\"k\", linestyle=\"-\")\n",
    "plt.axhline(y=0, xmin=0.14, xmax=0.86, color=\"k\", linestyle=\"-\")\n",
    "plt.title(\"OTS current-voltage characteristic\")\n",
    "plt.xlabel(\"Potential (V)\")\n",
    "plt.ylabel(\"Current (A)\")"
   ]
  }
 ],
 "metadata": {
  "language_info": {
   "name": "python"
  }
 },
 "nbformat": 4,
 "nbformat_minor": 2
}
