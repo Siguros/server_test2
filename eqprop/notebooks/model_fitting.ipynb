{
 "cells": [
  {
   "cell_type": "code",
   "execution_count": null,
   "metadata": {},
   "outputs": [],
   "source": [
    "import numpy as np\n",
    "import pandas as pd\n",
    "from scipy.optimize import least_squares"
   ]
  },
  {
   "cell_type": "code",
   "execution_count": null,
   "metadata": {},
   "outputs": [],
   "source": [
    "data = pd.read_excel(\"test.xlsx\")\n",
    "drop_num = []  # data preprocessing, remove odd data\n",
    "\n",
    "for i, val in enumerate(data[\"I\"]):\n",
    "    if (i > 0) and (data[\"V_T\"][i - 1] > data[\"V_T\"][i]) == 1:\n",
    "        drop_num.append(i)\n",
    "\n",
    "    if (val < 0) or (val > 9e-6):\n",
    "        drop_num.append(i)\n",
    "data.drop(drop_num, inplace=True)"
   ]
  },
  {
   "cell_type": "code",
   "execution_count": null,
   "metadata": {},
   "outputs": [],
   "source": [
    "groups = data.groupby(\"cell No.\")\n",
    "pieces = [group for _, group in groups]\n",
    "splitted_pieces = np.array_split(pieces, 6)"
   ]
  },
  {
   "cell_type": "code",
   "execution_count": null,
   "metadata": {},
   "outputs": [],
   "source": [
    "def model_function(x, params):\n",
    "    # Example function: a * x^2 + b * x + c\n",
    "    Is, n = params\n",
    "    return Is * (np.exp(x / n * 0.026) - 1)\n",
    "\n",
    "\n",
    "def residual_function(params, x, y):\n",
    "    return model_function(x, params) - y\n",
    "\n",
    "\n",
    "result_Is = []\n",
    "result_n = []\n",
    "for i, piece in enumerate(splitted_pieces):\n",
    "    x = splitted_pieces[i][0][\"V_T\"]\n",
    "    y = splitted_pieces[i][0][\"I\"]\n",
    "    initial_params = [1e-9, 1]\n",
    "    result = least_squares(residual_function, initial_params, args=(x, y), method=\"lm\")\n",
    "    result_Is.append(result.x[0])\n",
    "    result_n.append(result.x[1])"
   ]
  },
  {
   "cell_type": "code",
   "execution_count": null,
   "metadata": {},
   "outputs": [],
   "source": [
    "print(np.average(result_Is))\n",
    "print(np.average(result_n))"
   ]
  }
 ],
 "metadata": {
  "kernelspec": {
   "display_name": "eqprop_python",
   "language": "python",
   "name": "python3"
  },
  "language_info": {
   "codemirror_mode": {
    "name": "ipython",
    "version": 3
   },
   "file_extension": ".py",
   "mimetype": "text/x-python",
   "name": "python",
   "nbconvert_exporter": "python",
   "pygments_lexer": "ipython3",
   "version": "3.7.13"
  }
 },
 "nbformat": 4,
 "nbformat_minor": 2
}
