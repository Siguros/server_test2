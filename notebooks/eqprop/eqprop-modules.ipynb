{
 "cells": [
  {
   "cell_type": "markdown",
   "metadata": {},
   "source": [
    "# Setup"
   ]
  },
  {
   "cell_type": "code",
   "execution_count": null,
   "metadata": {},
   "outputs": [],
   "source": [
    "import torch\n",
    "\n",
    "input_size = 7\n",
    "hidden_size = 5\n",
    "output_size = 3\n",
    "batch_size = 2\n",
    "\n",
    "x = torch.rand(batch_size, input_size, requires_grad=True)\n",
    "y = torch.rand(batch_size, output_size)\n",
    "y2 = torch.rand(batch_size, hidden_size)"
   ]
  },
  {
   "cell_type": "markdown",
   "metadata": {},
   "source": [
    "# PoC"
   ]
  },
  {
   "cell_type": "code",
   "execution_count": null,
   "metadata": {},
   "outputs": [],
   "source": [
    "import torch.nn as nn\n",
    "\n",
    "from src.core.eqprop import nn as enn\n",
    "\n",
    "model = nn.Sequential(\n",
    "    enn.EqPropLinear(input_size, hidden_size), enn.EqPropLinear(hidden_size, output_size)\n",
    ")\n",
    "optimizer = torch.optim.SGD(model.parameters(), lr=0.1)"
   ]
  },
  {
   "cell_type": "code",
   "execution_count": null,
   "metadata": {},
   "outputs": [],
   "source": [
    "import torch.nn.functional as F\n",
    "\n",
    "print(f\"weight: {model[1].weight}\")\n",
    "logit = model(x)\n",
    "y_hat = F.softmax(logit, dim=1)\n",
    "loss = F.mse_loss(y_hat, y)\n",
    "optimizer.zero_grad()\n",
    "loss.backward()\n",
    "print(model[1].weight.grad)\n",
    "print(f\"input grad: {x.grad}\")\n",
    "optimizer.step()\n",
    "print(f\"new weight: {model[1].weight}\")"
   ]
  },
  {
   "cell_type": "markdown",
   "metadata": {},
   "source": [
    "# Compare to AnalogEP2"
   ]
  },
  {
   "cell_type": "code",
   "execution_count": null,
   "metadata": {},
   "outputs": [],
   "source": [
    "from copy import deepcopy\n",
    "\n",
    "from src._eqprop.eqprop_backbone import AnalogEP2\n",
    "\n",
    "model1 = enn.EqPropLinear(input_size, hidden_size, bias=True)\n",
    "solver = deepcopy(model1.solver)\n",
    "solver.strategy.W = []\n",
    "solver.strategy.B = []\n",
    "solver.strategy.dims = []\n",
    "model2 = AnalogEP2(\n",
    "    batch_size=batch_size,\n",
    "    solver=solver,\n",
    "    bias=True,\n",
    "    cfg=[input_size, hidden_size],\n",
    "    scale_input=1,\n",
    "    scale_output=1,\n",
    ")\n",
    "\n",
    "model1.weight.data = model2.model[0].weight.data.clone().detach()\n",
    "model1.bias.data = model2.model[0].bias.data.clone().detach()"
   ]
  },
  {
   "cell_type": "code",
   "execution_count": null,
   "metadata": {},
   "outputs": [],
   "source": [
    "logit_1 = model1(x)\n",
    "logit_1.retain_grad()\n",
    "y_hat1 = F.softmax(logit_1, dim=1)\n",
    "loss_1 = F.mse_loss(y_hat1, y2)\n",
    "loss_1.backward()\n",
    "logit_2 = model2(x)\n",
    "y_hat2 = F.softmax(logit_2, dim=1)\n",
    "loss_2 = F.mse_loss(y_hat2, y2)\n",
    "loss_2.backward()\n",
    "model2.eqprop(x)\n",
    "print(torch.allclose(y_hat1, y_hat2))\n",
    "torch.allclose(model1.weight.grad, model2.model[0].weight.grad)"
   ]
  },
  {
   "cell_type": "code",
   "execution_count": null,
   "metadata": {},
   "outputs": [],
   "source": [
    "pnode = model2.get_buffer(\"model.0.positive_node\")\n",
    "nnode = model2.get_buffer(\"model.0.negative_node\")\n",
    "model1.zero_grad()\n",
    "model1.calc_n_set_param_grad_(x, (pnode, nnode))"
   ]
  },
  {
   "cell_type": "code",
   "execution_count": null,
   "metadata": {},
   "outputs": [],
   "source": [
    "from src.utils.eqprop_utils import deltaV\n",
    "\n",
    "(deltaV(x, nnode).pow(2) - deltaV(x, pnode).pow(2)).mean(0) / model1.solver.beta"
   ]
  },
  {
   "cell_type": "markdown",
   "metadata": {},
   "source": [
    "# Bias validation"
   ]
  },
  {
   "cell_type": "code",
   "execution_count": null,
   "metadata": {},
   "outputs": [],
   "source": [
    "from src.core.eqprop import nn as enn\n",
    "from src.utils.eqprop_utils import positive_param_init\n",
    "\n",
    "model1 = enn.EqPropLinear(input_size, hidden_size)\n",
    "model2 = enn.EqPropLinear(input_size + 1, hidden_size, bias=False)\n",
    "model1.apply(positive_param_init)\n",
    "\n",
    "# concat model1's weight and grad and paste it into model 2\n",
    "w = model1.weight.data.clone().detach()\n",
    "b = model1.bias.data.clone().detach().unsqueeze(-1)\n",
    "w_tilde = torch.cat((w, b), dim=1)\n",
    "x_tilde = torch.cat((x, torch.ones((x.size(0), 1))), dim=1)\n",
    "\n",
    "model2.weight.data = w_tilde"
   ]
  },
  {
   "cell_type": "code",
   "execution_count": null,
   "metadata": {},
   "outputs": [],
   "source": [
    "import torch.nn.functional as F\n",
    "\n",
    "y2 = torch.rand(batch_size, hidden_size)\n",
    "logit_1 = model1(x)\n",
    "logit_1.retain_grad()\n",
    "y_hat1 = F.softmax(logit_1, dim=1)\n",
    "loss_1 = F.mse_loss(y_hat1, y2)\n",
    "loss_1.backward()\n",
    "logit_2 = model2(x_tilde)\n",
    "y_hat2 = F.softmax(logit_2, dim=1)\n",
    "loss_2 = F.mse_loss(y_hat2, y2)\n",
    "loss_2.backward()\n",
    "print(torch.allclose(y_hat1, y_hat2))\n",
    "# split model2's weight into w and b\n",
    "w_grad, b_grad = torch.split(model2.weight.grad.clone(), input_size, dim=1)\n",
    "print(torch.allclose(model1.weight.grad, w_grad, atol=1e-4))\n",
    "torch.allclose(model1.bias.grad, b_grad, atol=1e-4)"
   ]
  },
  {
   "cell_type": "code",
   "execution_count": null,
   "metadata": {},
   "outputs": [],
   "source": [
    "torch.allclose(model1.bias.grad, b_grad, atol=1e-6)"
   ]
  }
 ],
 "metadata": {
  "kernelspec": {
   "display_name": "ml",
   "language": "python",
   "name": "python3"
  },
  "language_info": {
   "codemirror_mode": {
    "name": "ipython",
    "version": 3
   },
   "file_extension": ".py",
   "mimetype": "text/x-python",
   "name": "python",
   "nbconvert_exporter": "python",
   "pygments_lexer": "ipython3",
   "version": "3.10.14"
  }
 },
 "nbformat": 4,
 "nbformat_minor": 2
}
