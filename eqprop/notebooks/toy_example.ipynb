{
 "cells": [
  {
   "cell_type": "markdown",
   "metadata": {},
   "source": [
    "2 by 2 XOR problem"
   ]
  },
  {
   "cell_type": "code",
   "execution_count": null,
   "metadata": {},
   "outputs": [],
   "source": [
    "import torch\n",
    "from omegaconf import OmegaConf"
   ]
  },
  {
   "cell_type": "code",
   "execution_count": null,
   "metadata": {},
   "outputs": [],
   "source": [
    "# prepare XOR data\n",
    "X = torch.tensor([[-1, -1], [-1, 1], [1, -1], [1, 1]]).float()\n",
    "y = torch.tensor([[0], [1], [1], [0]])\n",
    "\n",
    "cfg = \"\"\"\n",
    "net:\n",
    "  _target_: src.models.components.eqprop_backbone.AnalogEP2\n",
    "  _partial_: true\n",
    "  batch_size: 1\n",
    "  dims: [2,2,1]\n",
    "  beta: 0.01\n",
    "  solver:\n",
    "    _target_: src.eqprop.solver.AnalogEqPropSolver\n",
    "    _partial_: true\n",
    "    amp_factor: 1.0\n",
    "    beta: ${net.beta}\n",
    "    strategy:\n",
    "      _target_: src.eqprop.strategy.NewtonStrategy\n",
    "      clip_threshold: 0.1\n",
    "      amp_factor: ${net.solver.amp_factor}\n",
    "      max_iter: 5\n",
    "      atol: 1e-5\n",
    "      activation:\n",
    "        _target_: src.eqprop.eqprop_util.P3OTS\n",
    "        Is: 1e-6\n",
    "        Vth: 1\n",
    "        Vl: 0\n",
    "        Vr: 0\"\"\"\n",
    "\n",
    "cfg = OmegaConf.create(cfg)"
   ]
  },
  {
   "cell_type": "code",
   "execution_count": null,
   "metadata": {},
   "outputs": [],
   "source": [
    "from hydra.utils import instantiate\n",
    "\n",
    "net = instantiate(cfg.net)\n",
    "net = net(hyper_params={\"bias\": True})"
   ]
  },
  {
   "cell_type": "code",
   "execution_count": null,
   "metadata": {},
   "outputs": [],
   "source": [
    "# train\n",
    "import torch.nn.functional as F\n",
    "\n",
    "from src.eqprop.eqprop_util import init_params\n",
    "\n",
    "optimizer = torch.optim.SGD(net.parameters(), lr=0.01)\n",
    "loss_fn = torch.nn.MSELoss(reduction=\"sum\")\n",
    "net.apply(init_params(min_w=1e-6, max_w_gain=0.3))\n",
    "\n",
    "for i in range(1000):\n",
    "    x = X[i % 4].unsqueeze(0)\n",
    "    optimizer.zero_grad()\n",
    "    logit = net(x)\n",
    "    yhat = F.sigmoid(logit)\n",
    "    y_onehot = F.one_hot(y[i % 4], 2).float()\n",
    "    loss = loss_fn(yhat, y_onehot)\n",
    "    loss.backward()\n",
    "    net.eqprop(x)\n",
    "    optimizer.step()\n",
    "    if i % 100 == 0:\n",
    "        print(net.loss.item())"
   ]
  },
  {
   "cell_type": "code",
   "execution_count": null,
   "metadata": {},
   "outputs": [],
   "source": [
    "for buf in net.named_buffers():\n",
    "    print(buf[0], buf[1].shape)"
   ]
  },
  {
   "cell_type": "markdown",
   "metadata": {},
   "source": [
    "# XOR2"
   ]
  },
  {
   "cell_type": "code",
   "execution_count": null,
   "metadata": {},
   "outputs": [],
   "source": [
    "import torch\n",
    "\n",
    "from src.eqprop.eqprop_util import P3OTS, SymReLU\n",
    "\n",
    "# xor for newton strategy\n",
    "from src.eqprop.strategy import NewtonStrategy\n",
    "\n",
    "model = torch.nn.Sequential(torch.nn.Linear(2, 1, bias=True), torch.nn.Linear(1, 1, bias=True))\n",
    "model[0].weight.data = torch.tensor([[1.0, 1.0]])\n",
    "model[0].bias.data = torch.tensor([1.0])\n",
    "model[1].weight.data = torch.tensor([[2.0]])\n",
    "model[1].bias.data = torch.tensor([0.0])\n",
    "st = NewtonStrategy(\n",
    "    activation=P3OTS(Is=1e-6, Vl=-0.6, Vr=0.6),\n",
    "    clip_threshold=0.1,\n",
    "    amp_factor=1.0,\n",
    "    max_iter=5,\n",
    "    atol=1e-5,\n",
    "    add_nonlin_last=False,\n",
    ")\n",
    "st.set_strategy_params(model)\n",
    "\n",
    "inputs = torch.tensor([[-1, -1]]).float()\n",
    "\n",
    "import matplotlib.pyplot as plt\n",
    "\n",
    "# 2d vector map for the residual using quiver\n",
    "import numpy as np\n",
    "\n",
    "resolution = 40\n",
    "x = np.linspace(-3, 1, resolution)\n",
    "y = np.linspace(-3, 1, resolution)\n",
    "X, Y = np.meshgrid(x, y)\n",
    "U = np.zeros_like(X)\n",
    "V = np.zeros_like(Y)\n",
    "\n",
    "for i in range(resolution):\n",
    "    for j in range(resolution):\n",
    "        v = torch.tensor([[X[i, j], Y[i, j]]]).float()\n",
    "        U[i, j], V[i, j] = st.residual(v, inputs, None).squeeze().numpy()\n",
    "\n",
    "\n",
    "plt.quiver(X, Y, U, V)"
   ]
  },
  {
   "cell_type": "code",
   "execution_count": null,
   "metadata": {},
   "outputs": [],
   "source": [
    "# start from [-1,5. -1,5], and follow the -residual for 10 steps, with step size 0.1 add the trajectory to the quiver plot\n",
    "v_init = torch.tensor([[-2.0, 3.5]]).float()\n",
    "v_prev = v_init\n",
    "plt.plot(v_init[0, 0], v_init[0, 1], \"ro\", alpha=0.5)\n",
    "for i in range(20):\n",
    "    v = v_prev - 0.3 * st.residual(v_prev, inputs, None).squeeze()\n",
    "    # make the color darker and the point smaller for each step\n",
    "    plt.plot(v[0, 0], v[0, 1], \"ro\", alpha=0.5 + 0.01 * i)\n",
    "    # plot arrows for the step\n",
    "    plt.arrow(\n",
    "        v_prev[0, 0],\n",
    "        v_prev[0, 1],\n",
    "        v[0, 0] - v_prev[0, 0],\n",
    "        v[0, 1] - v_prev[0, 1],\n",
    "        head_width=0.01,\n",
    "        head_length=0.01,\n",
    "        fc=\"k\",\n",
    "        ec=\"k\",\n",
    "    )\n",
    "    # mark the last point with a cross and show its coordinates\n",
    "    if i % 5 == 4:\n",
    "        plt.plot(v[0, 0], v[0, 1], \"rx\")\n",
    "        plt.text(v[0, 0], v[0, 1], f\"({v[0, 0]:.3f}, {v[0, 1]:.3f})\")\n",
    "    v_prev = v\n",
    "\n",
    "resolution = 30\n",
    "x = np.linspace(-2, 1, resolution)\n",
    "y = np.linspace(-1.5, 1.5, resolution)\n",
    "X, Y = np.meshgrid(x, y)\n",
    "U = np.zeros_like(X)\n",
    "V = np.zeros_like(Y)\n",
    "\n",
    "for i in range(resolution):\n",
    "    for j in range(resolution):\n",
    "        v_ = torch.tensor([[X[i, j], Y[i, j]]]).float()\n",
    "        U[i, j], V[i, j] = st.residual(v_, inputs, None).squeeze().numpy()\n",
    "\n",
    "\n",
    "plt.quiver(X, Y, U, V)"
   ]
  },
  {
   "cell_type": "code",
   "execution_count": null,
   "metadata": {},
   "outputs": [],
   "source": [
    "v_prev"
   ]
  },
  {
   "cell_type": "code",
   "execution_count": null,
   "metadata": {},
   "outputs": [],
   "source": [
    "v_init = torch.tensor([[-2.0, 3.5]]).float()\n",
    "i_ext = torch.tensor([[1e-3]])\n",
    "v_prev = v_init\n",
    "plt.plot(v_init[0, 0], v_init[0, 1], \"ro\", alpha=0.5)\n",
    "for i in range(20):\n",
    "    res = torch._linalg_solve_ex(st.jacobian(v_prev), -st.residual(v_prev, inputs, i_ext))\n",
    "    v = v_prev + 1 * res.result.squeeze()\n",
    "    # make the color darker and the point smaller for each step\n",
    "    plt.plot(v[0, 0], v[0, 1], \"ro\", alpha=0.5 + 0.02 * i)\n",
    "    # plot arrows for the step\n",
    "    plt.arrow(\n",
    "        v_prev[0, 0],\n",
    "        v_prev[0, 1],\n",
    "        v[0, 0] - v_prev[0, 0],\n",
    "        v[0, 1] - v_prev[0, 1],\n",
    "        head_width=0.01,\n",
    "        head_length=0.01,\n",
    "        fc=\"k\",\n",
    "        ec=\"k\",\n",
    "    )\n",
    "    print(v)\n",
    "    # mark the last point with a cross and show its coordinates\n",
    "    if i % 5 == 4:\n",
    "        plt.plot(v[0, 0], v[0, 1], \"rx\")\n",
    "        plt.text(v[0, 0], v[0, 1], f\"({v[0, 0]:.2f}, {v[0, 1]:.2f})\")\n",
    "    v_prev = v\n",
    "\n",
    "resolution = 40\n",
    "x = np.linspace(-2, 0, resolution)\n",
    "y = np.linspace(-2, 0, resolution)\n",
    "X, Y = np.meshgrid(x, y)\n",
    "U = np.zeros_like(X)\n",
    "V = np.zeros_like(Y)\n",
    "\n",
    "for i in range(resolution):\n",
    "    for j in range(resolution):\n",
    "        v_ = torch.tensor([[X[i, j], Y[i, j]]]).float()\n",
    "        res2 = torch._linalg_solve_ex(st.jacobian(v_), -st.residual(v_, inputs, None))\n",
    "        U[i, j], V[i, j] = res2.result.squeeze().numpy()\n",
    "\n",
    "\n",
    "plt.quiver(X, Y, U, V)"
   ]
  },
  {
   "cell_type": "code",
   "execution_count": null,
   "metadata": {},
   "outputs": [],
   "source": [
    "v_prev[0, 0]"
   ]
  },
  {
   "cell_type": "code",
   "execution_count": null,
   "metadata": {},
   "outputs": [],
   "source": [
    "from src.eqprop.strategy import SecondOrderStrategy\n",
    "\n",
    "\n",
    "def int_relu_f(v, vr=0.6):\n",
    "    w = ((torch.abs(v) - vr) > 0) * (v - vr)\n",
    "    return 0.5 * torch.sum(w**2)\n",
    "\n",
    "\n",
    "def energy(st: SecondOrderStrategy, v, x, i_ext):\n",
    "    L = st.laplacian()\n",
    "    R = st.rhs(x)\n",
    "    if i_ext is not None:\n",
    "        R[:, -st.dims[-1] :] += i_ext * st.amp_factor\n",
    "    return v @ L @ v.T + v @ (R) + int_relu_f(v)"
   ]
  },
  {
   "cell_type": "code",
   "execution_count": null,
   "metadata": {},
   "outputs": [],
   "source": [
    "energy"
   ]
  },
  {
   "cell_type": "code",
   "execution_count": null,
   "metadata": {},
   "outputs": [],
   "source": [
    "# use successive over-relaxation to solve the system\n",
    "v_init = torch.tensor([-1.5, -1.5]).float()\n",
    "v_prev = v_init\n",
    "plt.plot(v_init[0], v_init[1], \"ro\", alpha=0.5)\n",
    "omega = 0.5\n",
    "for i in range(10):\n",
    "    A = st.jacobian(v_prev)\n",
    "    L = torch.tril(A, -1).squeeze()\n",
    "    D = torch.diagonal(A).squeeze()\n",
    "    U = torch.triu(A, 1).squeeze()\n",
    "    B = -st.residual(v_prev, inputs, None)\n",
    "    res = torch._linalg_solve_ex(\n",
    "        D.diag_embed() + omega * L,\n",
    "        ((omega - 1) * (D * v_prev).T - omega * U @ v_prev.T + omega * B).T,\n",
    "    )\n",
    "    v = res.result.squeeze()\n",
    "    print(v)\n",
    "    # make the color darker and the point smaller for each step\n",
    "    plt.plot(v[0], v[1], \"ro\", alpha=0.5 + 0.05 * i)\n",
    "    # plot arrows for the step\n",
    "    plt.arrow(\n",
    "        v_prev[0],\n",
    "        v_prev[1],\n",
    "        v[0] - v_prev[0],\n",
    "        v[1] - v_prev[1],\n",
    "        head_width=0.01,\n",
    "        head_length=0.01,\n",
    "        fc=\"k\",\n",
    "        ec=\"k\",\n",
    "    )\n",
    "    # mark the last point with a cross and show its coordinates\n",
    "    if i % 5 == 4:\n",
    "        plt.plot(v[0], v[1], \"rx\")\n",
    "        plt.text(v[0], v[1], f\"({v[0]:.2f}, {v[1]:.2f})\")\n",
    "    v_prev = v"
   ]
  },
  {
   "cell_type": "code",
   "execution_count": null,
   "metadata": {},
   "outputs": [],
   "source": [
    "A = st.jacobian(v_init).squeeze()\n",
    "L = torch.tril(A, -1)\n",
    "D = torch.diagonal(A)\n",
    "U = torch.triu(A, 1)\n",
    "B = -st.residual(v_init, inputs, None)"
   ]
  },
  {
   "cell_type": "code",
   "execution_count": null,
   "metadata": {},
   "outputs": [],
   "source": [
    "D.squeeze().diag_embed()"
   ]
  },
  {
   "cell_type": "code",
   "execution_count": null,
   "metadata": {},
   "outputs": [],
   "source": [
    "D"
   ]
  },
  {
   "cell_type": "code",
   "execution_count": null,
   "metadata": {},
   "outputs": [],
   "source": [
    "(omega - 1) * D * v_init"
   ]
  },
  {
   "cell_type": "code",
   "execution_count": null,
   "metadata": {},
   "outputs": [],
   "source": [
    "D.diag_embed() + omega * L"
   ]
  },
  {
   "cell_type": "code",
   "execution_count": null,
   "metadata": {},
   "outputs": [],
   "source": [
    "B.T"
   ]
  },
  {
   "cell_type": "code",
   "execution_count": null,
   "metadata": {},
   "outputs": [],
   "source": [
    "(omega - 1) * D * v_prev.T - omega * U @ v_prev.T + omega * B.T"
   ]
  }
 ],
 "metadata": {
  "kernelspec": {
   "display_name": ".venv",
   "language": "python",
   "name": "python3"
  },
  "language_info": {
   "codemirror_mode": {
    "name": "ipython",
    "version": 3
   },
   "file_extension": ".py",
   "mimetype": "text/x-python",
   "name": "python",
   "nbconvert_exporter": "python",
   "pygments_lexer": "ipython3",
   "version": "3.11.0"
  }
 },
 "nbformat": 4,
 "nbformat_minor": 2
}
