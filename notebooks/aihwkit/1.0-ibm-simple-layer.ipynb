{
 "cells": [
  {
   "cell_type": "code",
   "execution_count": null,
   "metadata": {},
   "outputs": [],
   "source": [
    "# (C) Copyright 2020, 2021, 2022, 2023, 2024 IBM. All Rights Reserved.\n",
    "#\n",
    "# This code is licensed under the Apache License, Version 2.0. You may\n",
    "# obtain a copy of this license in the LICENSE.txt file in the root directory\n",
    "# of this source tree or at http://www.apache.org/licenses/LICENSE-2.0.\n",
    "#\n",
    "# Any modifications or derivative works of this code must retain this\n",
    "# copyright notice, and modified files need to carry a notice indicating\n",
    "# that they have been altered from the originals.\n",
    "\n",
    "\"\"\"aihwkit example 1: simple network with one layer.\n",
    "\n",
    "Simple network that consist of one analog layer. The network aims to learn\n",
    "to sum all the elements from one array.\n",
    "\"\"\"\n",
    "# pylint: disable=invalid-name\n",
    "\n",
    "# Imports from aihwkit.\n",
    "from aihwkit.nn import AnalogLinear\n",
    "from aihwkit.optim import AnalogSGD\n",
    "from aihwkit.simulator.configs import ConstantStepDevice, SingleRPUConfig\n",
    "from aihwkit.simulator.rpu_base import cuda\n",
    "\n",
    "# Imports from PyTorch.\n",
    "from torch import Tensor\n",
    "from torch.nn.functional import mse_loss\n",
    "\n",
    "# Prepare the datasets (input and expected output).\n",
    "x = Tensor([[0.1, 0.2, 0.4, 0.3], [0.2, 0.1, 0.1, 0.3]])\n",
    "y = Tensor([[1.0, 0.5], [0.7, 0.3]])\n",
    "\n",
    "# Define a single-layer network, using a constant step device type.\n",
    "rpu_config = SingleRPUConfig(device=ConstantStepDevice())\n",
    "\n",
    "model = AnalogLinear(4, 2, bias=True, rpu_config=rpu_config)\n",
    "\n",
    "# Move the model and tensors to cuda if it is available.\n",
    "if cuda.is_compiled():\n",
    "    x = x.cuda()\n",
    "    y = y.cuda()\n",
    "    model = model.cuda()\n",
    "\n",
    "# Define an analog-aware optimizer, preparing it for using the layers.\n",
    "opt = AnalogSGD(model.parameters(), lr=0.1)\n",
    "opt.regroup_param_groups(model)\n",
    "\n",
    "for epoch in range(100):\n",
    "    # Delete old gradient\n",
    "    opt.zero_grad()\n",
    "    # Add the training Tensor to the model (input).\n",
    "    pred = model(x)\n",
    "    # Add the expected output Tensor.\n",
    "    loss = mse_loss(pred, y)\n",
    "    # Run training (backward propagation).\n",
    "    loss.backward()\n",
    "\n",
    "    opt.step()\n",
    "\n",
    "    print(f\"Loss error: {loss:.16f}\")"
   ]
  },
  {
   "cell_type": "code",
   "execution_count": null,
   "metadata": {},
   "outputs": [],
   "source": [
    "for t in model.analog_tiles():\n",
    "    print(t.tile.forward)"
   ]
  },
  {
   "cell_type": "code",
   "execution_count": null,
   "metadata": {},
   "outputs": [],
   "source": []
  }
 ],
 "metadata": {
  "kernelspec": {
   "display_name": "aihw",
   "language": "python",
   "name": "python3"
  },
  "language_info": {
   "codemirror_mode": {
    "name": "ipython",
    "version": 3
   },
   "file_extension": ".py",
   "mimetype": "text/x-python",
   "name": "python",
   "nbconvert_exporter": "python",
   "pygments_lexer": "ipython3",
   "version": "3.11.9"
  }
 },
 "nbformat": 4,
 "nbformat_minor": 2
}
