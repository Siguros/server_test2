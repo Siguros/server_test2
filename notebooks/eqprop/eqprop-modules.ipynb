{
 "cells": [
  {
   "cell_type": "code",
   "execution_count": null,
   "metadata": {},
   "outputs": [],
   "source": [
    "import torch\n",
    "\n",
    "from src.core.eqprop import nn as enn\n",
    "\n",
    "input_size = 5\n",
    "x = torch.rand(1, input_size, requires_grad=True)\n",
    "y = torch.rand(1, 2)\n",
    "layer = enn.EqPropLinear(input_size, 2, bias=False)\n",
    "optimizer = torch.optim.SGD(layer.parameters(), lr=layer.solver.beta)"
   ]
  },
  {
   "cell_type": "code",
   "execution_count": null,
   "metadata": {},
   "outputs": [],
   "source": [
    "import torch.nn.functional as F\n",
    "\n",
    "print(layer.weight)\n",
    "y_hat = layer(x)\n",
    "loss = F.mse_loss(y_hat, y)\n",
    "optimizer.zero_grad()\n",
    "loss.backward()\n",
    "print(layer.weight.grad)\n",
    "print(x.grad)\n",
    "optimizer.step()\n",
    "print(layer.weight)"
   ]
  },
  {
   "cell_type": "code",
   "execution_count": null,
   "metadata": {},
   "outputs": [],
   "source": []
  }
 ],
 "metadata": {
  "kernelspec": {
   "display_name": "ml",
   "language": "python",
   "name": "python3"
  },
  "language_info": {
   "codemirror_mode": {
    "name": "ipython",
    "version": 3
   },
   "file_extension": ".py",
   "mimetype": "text/x-python",
   "name": "python",
   "nbconvert_exporter": "python",
   "pygments_lexer": "ipython3",
   "version": "3.10.14"
  }
 },
 "nbformat": 4,
 "nbformat_minor": 2
}
