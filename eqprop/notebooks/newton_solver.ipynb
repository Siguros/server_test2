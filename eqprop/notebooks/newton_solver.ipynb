{
 "cells": [
  {
   "attachments": {},
   "cell_type": "markdown",
   "metadata": {},
   "source": [
    "# Setup"
   ]
  },
  {
   "cell_type": "code",
   "execution_count": 1,
   "metadata": {},
   "outputs": [],
   "source": [
    "import sys\n",
    "sys.path.append('../src')\n",
    "sys.path.append('../../EP2')"
   ]
  },
  {
   "cell_type": "code",
   "execution_count": 2,
   "metadata": {},
   "outputs": [],
   "source": [
    "from hydra import compose, initialize\n",
    "from omegaconf import DictConfig, open_dict\n",
    "import pyrootutils\n",
    "\n",
    "def get_cfg():\n",
    "    with initialize(version_base=\"1.2\", config_path=\"../../EP2/configs\"):\n",
    "        cfg = compose(config_name=\"train.yaml\", return_hydra_config=True, overrides=[])\n",
    "        with open_dict(cfg):\n",
    "            cfg.paths.root_dir = str(pyrootutils.find_root())\n",
    "            cfg.trainer.max_epochs = 1\n",
    "            cfg.trainer.limit_train_batches = 0.01\n",
    "            cfg.trainer.limit_val_batches = 0.1\n",
    "            cfg.trainer.limit_test_batches = 0.1\n",
    "            cfg.trainer.accelerator = \"cpu\"\n",
    "            cfg.trainer.devices = 1\n",
    "            cfg.datamodule.num_workers = 0\n",
    "            cfg.datamodule.pin_memory = False\n",
    "            cfg.datamodule.batch_size = 1\n",
    "            cfg.extras.print_config = False\n",
    "            cfg.extras.enforce_tags = False\n",
    "            cfg.logger = None\n",
    "            \n",
    "        return cfg"
   ]
  },
  {
   "cell_type": "code",
   "execution_count": 7,
   "metadata": {},
   "outputs": [],
   "source": [
    "import json\n",
    "\n",
    "def print_pretty_json(json_obj):\n",
    "    print(json.dumps(json_obj, indent=4, sort_keys=True))"
   ]
  },
  {
   "attachments": {},
   "cell_type": "markdown",
   "metadata": {},
   "source": [
    "# Compare solving method\n",
    "\n",
    "$\\bf -f=J(X)\\Delta X$\n",
    "\n",
    "$\\bf f=B, X=\\tilde V, \\mathbf J = \\frac{\\partial \\mathbf {\\tilde L}}{\\partial \\mathbf{\\tilde V}}$\n",
    "\n",
    "Between \n",
    "\n",
    "i) add $i(V)$ to $B$\n",
    "\n",
    "ii) add $\\text{diag}(a(V))$ to $J$"
   ]
  },
  {
   "cell_type": "code",
   "execution_count": null,
   "metadata": {},
   "outputs": [],
   "source": [
    "from src.models.components.E_minimizer import _stepsolve2\n",
    "\n"
   ]
  },
  {
   "attachments": {},
   "cell_type": "markdown",
   "metadata": {},
   "source": [
    "# Newton solver 1 vs 2"
   ]
  },
  {
   "cell_type": "code",
   "execution_count": 4,
   "metadata": {},
   "outputs": [
    {
     "name": "stderr",
     "output_type": "stream",
     "text": [
      "/root/miniconda3/envs/EP/lib/python3.9/site-packages/tqdm/auto.py:22: TqdmWarning: IProgress not found. Please update jupyter and ipywidgets. See https://ipywidgets.readthedocs.io/en/stable/user_install.html\n",
      "  from .autonotebook import tqdm as notebook_tqdm\n"
     ]
    }
   ],
   "source": [
    "from src.models.components.eqprop_backbone import AnalogEP, AnalogEP2\n",
    "import torch"
   ]
  },
  {
   "cell_type": "code",
   "execution_count": 5,
   "metadata": {},
   "outputs": [],
   "source": [
    "x, y = torch.rand(1, 784).clamp_min(0.01), torch.randint(0, 10, (1,))"
   ]
  },
  {
   "attachments": {},
   "cell_type": "markdown",
   "metadata": {},
   "source": [
    "### 2"
   ]
  },
  {
   "cell_type": "code",
   "execution_count": 12,
   "metadata": {},
   "outputs": [],
   "source": [
    "ep2 = AnalogEP2()"
   ]
  },
  {
   "cell_type": "code",
   "execution_count": 20,
   "metadata": {},
   "outputs": [
    {
     "data": {
      "text/plain": [
       "Sequential(\n",
       "  (lin1): Linear(in_features=784, out_features=256, bias=False)\n",
       "  (last): Linear(in_features=256, out_features=10, bias=False)\n",
       ")"
      ]
     },
     "execution_count": 20,
     "metadata": {},
     "output_type": "execute_result"
    }
   ],
   "source": [
    "from src.utils.eqprop import init_params\n",
    "from functools import partial\n",
    "\n",
    "ep2.model.apply(partial(init_params, min=1e-5, max=1))"
   ]
  },
  {
   "cell_type": "code",
   "execution_count": 29,
   "metadata": {},
   "outputs": [
    {
     "name": "stdout",
     "output_type": "stream",
     "text": [
      "2.66 ms ± 419 µs per loop (mean ± std. dev. of 7 runs, 100 loops each)\n"
     ]
    }
   ],
   "source": [
    "%%timeit\n",
    "ep2.forward(x)"
   ]
  },
  {
   "cell_type": "code",
   "execution_count": 23,
   "metadata": {},
   "outputs": [
    {
     "data": {
      "text/plain": [
       "[('ypred',\n",
       "  tensor([[-8.4466e-28,  4.5881e-41, -8.4466e-28,  4.5881e-41,  0.0000e+00,\n",
       "            0.0000e+00,  2.8026e-45,  0.0000e+00,  0.0000e+00,  1.4013e-45]])),\n",
       " ('lin1.free_node',\n",
       "  tensor([[0.5059, 0.5046, 0.5002, 0.5033, 0.5032, 0.5045, 0.5036, 0.5091, 0.4985,\n",
       "           0.5060, 0.5164, 0.4977, 0.5138, 0.5130, 0.5056, 0.5074, 0.5005, 0.5015,\n",
       "           0.4993, 0.5032, 0.5001, 0.5099, 0.5033, 0.5074, 0.5033, 0.5064, 0.5096,\n",
       "           0.4958, 0.5003, 0.5028, 0.5126, 0.5013, 0.5087, 0.5047, 0.4989, 0.5052,\n",
       "           0.4985, 0.5094, 0.5006, 0.4994, 0.4988, 0.5030, 0.5055, 0.5067, 0.5032,\n",
       "           0.5052, 0.4929, 0.5045, 0.5053, 0.5111, 0.5063, 0.5024, 0.5059, 0.4936,\n",
       "           0.5066, 0.4998, 0.5041, 0.5123, 0.5028, 0.5010, 0.5079, 0.4899, 0.5003,\n",
       "           0.5179, 0.5058, 0.5001, 0.5107, 0.4938, 0.5035, 0.5032, 0.5143, 0.4924,\n",
       "           0.5029, 0.5098, 0.4950, 0.5170, 0.4933, 0.4961, 0.5061, 0.4951, 0.4975,\n",
       "           0.5012, 0.5051, 0.5140, 0.5098, 0.5059, 0.5057, 0.5013, 0.5119, 0.5054,\n",
       "           0.4982, 0.5046, 0.5054, 0.5096, 0.5100, 0.4994, 0.5088, 0.5052, 0.5017,\n",
       "           0.5084, 0.4964, 0.5093, 0.5076, 0.5013, 0.5036, 0.5203, 0.5071, 0.5007,\n",
       "           0.5024, 0.5061, 0.5066, 0.4948, 0.4993, 0.5042, 0.5087, 0.5050, 0.5123,\n",
       "           0.5051, 0.4965, 0.4982, 0.4973, 0.5089, 0.5007, 0.4981, 0.5199, 0.4989,\n",
       "           0.5075, 0.5012, 0.5118, 0.4956, 0.5023, 0.5002, 0.4944, 0.5043, 0.4822,\n",
       "           0.5083, 0.5150, 0.5024, 0.4988, 0.5008, 0.5041, 0.5069, 0.5051, 0.5021,\n",
       "           0.4982, 0.5118, 0.5077, 0.5075, 0.4996, 0.5060, 0.5034, 0.5001, 0.5054,\n",
       "           0.5088, 0.5071, 0.5060, 0.5058, 0.5162, 0.5116, 0.4935, 0.5010, 0.5040,\n",
       "           0.4971, 0.4988, 0.5029, 0.5126, 0.5049, 0.5048, 0.5054, 0.4958, 0.4987,\n",
       "           0.4976, 0.5074, 0.5053, 0.4990, 0.5001, 0.5086, 0.5016, 0.4969, 0.4941,\n",
       "           0.5053, 0.5080, 0.5003, 0.5165, 0.5146, 0.5049, 0.4993, 0.4998, 0.5122,\n",
       "           0.5102, 0.5003, 0.4998, 0.5043, 0.5110, 0.5029, 0.5127, 0.5008, 0.5098,\n",
       "           0.5103, 0.5152, 0.5142, 0.5089, 0.4964, 0.5002, 0.5092, 0.4995, 0.5063,\n",
       "           0.5034, 0.5081, 0.5071, 0.5052, 0.5061, 0.5067, 0.4997, 0.4925, 0.5060,\n",
       "           0.5073, 0.5180, 0.5134, 0.4932, 0.4972, 0.4982, 0.5084, 0.5020, 0.5021,\n",
       "           0.5100, 0.4969, 0.4956, 0.5018, 0.5076, 0.4949, 0.5155, 0.4954, 0.5077,\n",
       "           0.5062, 0.5097, 0.4962, 0.5045, 0.5068, 0.5019, 0.5094, 0.5028, 0.5148,\n",
       "           0.5049, 0.5012, 0.5117, 0.4907, 0.5138, 0.5112, 0.5014, 0.5053, 0.5026,\n",
       "           0.4978, 0.5016, 0.5013, 0.5055]])),\n",
       " ('lin1.nudge_node',\n",
       "  tensor([[0., 0., 0., 0., 0., 0., 0., 0., 0., 0., 0., 0., 0., 0., 0., 0., 0., 0., 0., 0., 0., 0., 0., 0.,\n",
       "           0., 0., 0., 0., 0., 0., 0., 0., 0., 0., 0., 0., 0., 0., 0., 0., 0., 0., 0., 0., 0., 0., 0., 0.,\n",
       "           0., 0., 0., 0., 0., 0., 0., 0., 0., 0., 0., 0., 0., 0., 0., 0., 0., 0., 0., 0., 0., 0., 0., 0.,\n",
       "           0., 0., 0., 0., 0., 0., 0., 0., 0., 0., 0., 0., 0., 0., 0., 0., 0., 0., 0., 0., 0., 0., 0., 0.,\n",
       "           0., 0., 0., 0., 0., 0., 0., 0., 0., 0., 0., 0., 0., 0., 0., 0., 0., 0., 0., 0., 0., 0., 0., 0.,\n",
       "           0., 0., 0., 0., 0., 0., 0., 0., 0., 0., 0., 0., 0., 0., 0., 0., 0., 0., 0., 0., 0., 0., 0., 0.,\n",
       "           0., 0., 0., 0., 0., 0., 0., 0., 0., 0., 0., 0., 0., 0., 0., 0., 0., 0., 0., 0., 0., 0., 0., 0.,\n",
       "           0., 0., 0., 0., 0., 0., 0., 0., 0., 0., 0., 0., 0., 0., 0., 0., 0., 0., 0., 0., 0., 0., 0., 0.,\n",
       "           0., 0., 0., 0., 0., 0., 0., 0., 0., 0., 0., 0., 0., 0., 0., 0., 0., 0., 0., 0., 0., 0., 0., 0.,\n",
       "           0., 0., 0., 0., 0., 0., 0., 0., 0., 0., 0., 0., 0., 0., 0., 0., 0., 0., 0., 0., 0., 0., 0., 0.,\n",
       "           0., 0., 0., 0., 0., 0., 0., 0., 0., 0., 0., 0., 0., 0., 0., 0.]])),\n",
       " ('last.free_node',\n",
       "  tensor([[0.5042, 0.5043, 0.5041, 0.5039, 0.5039, 0.5040, 0.5044, 0.5043, 0.5039,\n",
       "           0.5045]], requires_grad=True)),\n",
       " ('last.nudge_node', tensor([[0., 0., 0., 0., 0., 0., 0., 0., 0., 0.]]))]"
      ]
     },
     "execution_count": 23,
     "metadata": {},
     "output_type": "execute_result"
    }
   ],
   "source": [
    "list(ep2.model.named_buffers())"
   ]
  },
  {
   "attachments": {},
   "cell_type": "markdown",
   "metadata": {},
   "source": [
    "### 1"
   ]
  },
  {
   "cell_type": "code",
   "execution_count": 6,
   "metadata": {},
   "outputs": [],
   "source": [
    "cfg = get_cfg()\n",
    "cfg.datamodule.batch_size\n",
    "ep1 = AnalogEP(cfg.datamodule.batch_size, pos_W=True, L=[1e-5]*2, U=[1]*2)\n"
   ]
  },
  {
   "cell_type": "code",
   "execution_count": 30,
   "metadata": {},
   "outputs": [
    {
     "name": "stdout",
     "output_type": "stream",
     "text": [
      "4.83 ms ± 93.8 µs per loop (mean ± std. dev. of 7 runs, 100 loops each)\n"
     ]
    }
   ],
   "source": [
    "%%timeit\n",
    "nodes = ep1.minimize(x)"
   ]
  },
  {
   "cell_type": "code",
   "execution_count": 7,
   "metadata": {},
   "outputs": [],
   "source": [
    "n1, n2 = nodes"
   ]
  },
  {
   "cell_type": "code",
   "execution_count": 11,
   "metadata": {},
   "outputs": [
    {
     "data": {
      "text/plain": [
       "tensor(1.)"
      ]
     },
     "execution_count": 11,
     "metadata": {},
     "output_type": "execute_result"
    }
   ],
   "source": [
    "import torch.linalg as la\n",
    "\n",
    "la.cond(n2)"
   ]
  },
  {
   "attachments": {},
   "cell_type": "markdown",
   "metadata": {},
   "source": [
    "## condition number"
   ]
  },
  {
   "cell_type": "code",
   "execution_count": 10,
   "metadata": {},
   "outputs": [
    {
     "data": {
      "text/plain": [
       "tensor(689.8808)"
      ]
     },
     "execution_count": 10,
     "metadata": {},
     "output_type": "execute_result"
    }
   ],
   "source": [
    "import torch\n",
    "import torch.linalg as la\n",
    "\n",
    "A = torch.randn(3, 3)\n",
    "B = A@A.T\n",
    "\n",
    "B.cond()"
   ]
  },
  {
   "cell_type": "code",
   "execution_count": 11,
   "metadata": {},
   "outputs": [
    {
     "data": {
      "text/plain": [
       "tensor([[ 0.8220,  0.6741, -0.4242],\n",
       "        [ 0.6741,  1.1324, -1.0595],\n",
       "        [-0.4242, -1.0595,  1.1031]])"
      ]
     },
     "execution_count": 11,
     "metadata": {},
     "output_type": "execute_result"
    }
   ],
   "source": [
    "B"
   ]
  },
  {
   "cell_type": "code",
   "execution_count": null,
   "metadata": {},
   "outputs": [],
   "source": []
  },
  {
   "attachments": {},
   "cell_type": "markdown",
   "metadata": {},
   "source": [
    "# OTS"
   ]
  },
  {
   "attachments": {},
   "cell_type": "markdown",
   "metadata": {},
   "source": [
    "## Picecwise linear approximation"
   ]
  },
  {
   "cell_type": "code",
   "execution_count": null,
   "metadata": {},
   "outputs": [],
   "source": [
    "import m"
   ]
  },
  {
   "cell_type": "code",
   "execution_count": 25,
   "metadata": {},
   "outputs": [
    {
     "data": {
      "image/png": "[encoded data removed]",
      "text/plain": [
       "<Figure size 640x480 with 1 Axes>"
      ]
     },
     "metadata": {},
     "output_type": "display_data"
    }
   ],
   "source": [
    "import matplotlib.pyplot as plt\n",
    "import numpy as np\n",
    "\n",
    "vth = 0.5\n",
    "beta = 0.1\n",
    "x = np.linspace(vth-0.2,vth+0.3, 100)\n",
    "v = (x-vth)/beta\n",
    "y = np.exp(v)\n",
    "y2 = np.maximum(0, v+v**2/2) # piecewise\n",
    "plt.plot(x, y, label=\"exponential\")\n",
    "plt.plot(x, y2, label=\"piecewise linear\")\n",
    "plt.show()\n"
   ]
  },
  {
   "cell_type": "code",
   "execution_count": 26,
   "metadata": {},
   "outputs": [
    {
     "data": {
      "text/plain": [
       "0.1353352832366127"
      ]
     },
     "execution_count": 26,
     "metadata": {},
     "output_type": "execute_result"
    }
   ],
   "source": [
    "y.min()"
   ]
  },
  {
   "attachments": {},
   "cell_type": "markdown",
   "metadata": {},
   "source": [
    "# Laplacian-Tree"
   ]
  },
  {
   "attachments": {},
   "cell_type": "markdown",
   "metadata": {},
   "source": [
    "## Low level"
   ]
  },
  {
   "cell_type": "code",
   "execution_count": 1,
   "metadata": {},
   "outputs": [
    {
     "name": "stderr",
     "output_type": "stream",
     "text": [
      "/root/miniconda3/envs/EP/lib/python3.9/site-packages/tqdm/auto.py:22: TqdmWarning: IProgress not found. Please update jupyter and ipywidgets. See https://ipywidgets.readthedocs.io/en/stable/user_install.html\n",
      "  from .autonotebook import tqdm as notebook_tqdm\n"
     ]
    },
    {
     "data": {
      "text/plain": [
       "<_LinalgBackend.Default: 0>"
      ]
     },
     "execution_count": 1,
     "metadata": {},
     "output_type": "execute_result"
    }
   ],
   "source": [
    "import torch\n",
    "torch.backends.cuda.preferred_linalg_library()"
   ]
  },
  {
   "cell_type": "code",
   "execution_count": 31,
   "metadata": {},
   "outputs": [],
   "source": [
    "w = torch.randn(3, 4).clamp_min(0.01)"
   ]
  },
  {
   "cell_type": "code",
   "execution_count": 32,
   "metadata": {},
   "outputs": [],
   "source": [
    "Ll = torch.concat([torch.diag(w.sum(dim=1)), w.T], dim=0)\n",
    "Lr = torch.concat((w, torch.diag(w.sum(dim=0))), dim=0)\n",
    "L = torch.concat((Ll, Lr), dim=1)"
   ]
  },
  {
   "cell_type": "code",
   "execution_count": 33,
   "metadata": {},
   "outputs": [],
   "source": [
    "Lp = L+torch.eye(7)*1e-5"
   ]
  },
  {
   "cell_type": "code",
   "execution_count": 34,
   "metadata": {},
   "outputs": [],
   "source": [
    "c_2 = torch.linalg.cholesky(Lp)"
   ]
  },
  {
   "cell_type": "code",
   "execution_count": 35,
   "metadata": {},
   "outputs": [],
   "source": [
    "c_1, info1 = torch.linalg.cholesky_ex(L)"
   ]
  },
  {
   "cell_type": "code",
   "execution_count": 36,
   "metadata": {},
   "outputs": [],
   "source": [
    "c_3 ,info2 = torch.linalg.cholesky_ex(Lp)"
   ]
  },
  {
   "cell_type": "code",
   "execution_count": 42,
   "metadata": {},
   "outputs": [
    {
     "data": {
      "text/plain": [
       "True"
      ]
     },
     "execution_count": 42,
     "metadata": {},
     "output_type": "execute_result"
    }
   ],
   "source": [
    "info1.item() ==7"
   ]
  },
  {
   "cell_type": "code",
   "execution_count": 47,
   "metadata": {},
   "outputs": [
    {
     "data": {
      "text/plain": [
       "tensor([[ 0.5350,  0.0000,  0.0000,  0.0000,  0.0000,  0.0000,  0.0000],\n",
       "        [ 0.0000,  0.7685,  0.0000,  0.0000,  0.0000,  0.0000,  0.0000],\n",
       "        [ 0.0000,  0.0000,  0.5589,  0.0000,  0.0000,  0.0000,  0.0000],\n",
       "        [ 0.4789,  0.0130,  0.0179,  0.2154,  0.0000,  0.0000,  0.0000],\n",
       "        [ 0.0187,  0.7295,  0.0179, -0.0871,  0.2006,  0.0000,  0.0000],\n",
       "        [ 0.0187,  0.0130,  0.1192, -0.0523, -0.0824,  0.2498,  0.0000],\n",
       "        [ 0.0187,  0.0130,  0.4038, -0.0759, -0.1181, -0.2497,  0.0084]])"
      ]
     },
     "execution_count": 47,
     "metadata": {},
     "output_type": "execute_result"
    }
   ],
   "source": [
    "c_3"
   ]
  },
  {
   "cell_type": "code",
   "execution_count": 44,
   "metadata": {},
   "outputs": [
    {
     "data": {
      "text/plain": [
       "True"
      ]
     },
     "execution_count": 44,
     "metadata": {},
     "output_type": "execute_result"
    }
   ],
   "source": [
    "torch.allclose(c_2, c_3)"
   ]
  },
  {
   "cell_type": "code",
   "execution_count": 45,
   "metadata": {},
   "outputs": [
    {
     "data": {
      "text/plain": [
       "tensor(0.)"
      ]
     },
     "execution_count": 45,
     "metadata": {},
     "output_type": "execute_result"
    }
   ],
   "source": [
    "abs(c_3-c_2).max()"
   ]
  },
  {
   "cell_type": "code",
   "execution_count": 41,
   "metadata": {},
   "outputs": [],
   "source": [
    "cond = torch.linalg.cond(Lp)"
   ]
  },
  {
   "cell_type": "code",
   "execution_count": 42,
   "metadata": {},
   "outputs": [
    {
     "data": {
      "text/plain": [
       "tensor(114481.3125)"
      ]
     },
     "execution_count": 42,
     "metadata": {},
     "output_type": "execute_result"
    }
   ],
   "source": [
    "cond"
   ]
  },
  {
   "attachments": {},
   "cell_type": "markdown",
   "metadata": {},
   "source": [
    "## Sparsifier"
   ]
  },
  {
   "attachments": {},
   "cell_type": "markdown",
   "metadata": {},
   "source": [
    "### CNN"
   ]
  },
  {
   "cell_type": "code",
   "execution_count": 1,
   "metadata": {},
   "outputs": [
    {
     "name": "stderr",
     "output_type": "stream",
     "text": [
      "/root/miniconda3/envs/EP/lib/python3.9/site-packages/tqdm/auto.py:22: TqdmWarning: IProgress not found. Please update jupyter and ipywidgets. See https://ipywidgets.readthedocs.io/en/stable/user_install.html\n",
      "  from .autonotebook import tqdm as notebook_tqdm\n"
     ]
    }
   ],
   "source": [
    "import torch\n",
    "import torch.nn as nn\n",
    "\n",
    "x = torch.rand(1, 1, 8, 8) # batch size, channels, height, width\n",
    "\n",
    "l1 = nn.Conv2d(1, 3, 3, 1, bias=False) # in_channels, out_channels, kernel_size, stride"
   ]
  },
  {
   "cell_type": "code",
   "execution_count": null,
   "metadata": {},
   "outputs": [],
   "source": [
    "def conv2d(x, w):\n",
    "    return torch.einsum('bchw, oihw -> bco', x, w)"
   ]
  },
  {
   "cell_type": "code",
   "execution_count": 4,
   "metadata": {},
   "outputs": [
    {
     "data": {
      "text/plain": [
       "torch.Size([3, 1, 3, 3])"
      ]
     },
     "execution_count": 4,
     "metadata": {},
     "output_type": "execute_result"
    }
   ],
   "source": [
    "l1.weight.shape"
   ]
  },
  {
   "attachments": {},
   "cell_type": "markdown",
   "metadata": {},
   "source": [
    "## Laplacian.jl"
   ]
  },
  {
   "cell_type": "code",
   "execution_count": 3,
   "metadata": {},
   "outputs": [
    {
     "ename": "FileNotFoundError",
     "evalue": "[Errno 2] No such file or directory: 'julia'",
     "output_type": "error",
     "traceback": [
      "\u001b[0;31m---------------------------------------------------------------------------\u001b[0m",
      "\u001b[0;31mFileNotFoundError\u001b[0m                         Traceback (most recent call last)",
      "Cell \u001b[0;32mIn[3], line 2\u001b[0m\n\u001b[1;32m      1\u001b[0m \u001b[39mimport\u001b[39;00m \u001b[39mjulia\u001b[39;00m\n\u001b[0;32m----> 2\u001b[0m \u001b[39mfrom\u001b[39;00m \u001b[39mjulia\u001b[39;00m \u001b[39mimport\u001b[39;00m Base\n\u001b[1;32m      4\u001b[0m julia\u001b[39m.\u001b[39minstall()\n\u001b[1;32m      5\u001b[0m j \u001b[39m=\u001b[39m julia\u001b[39m.\u001b[39mJulia()\n",
      "File \u001b[0;32m<frozen importlib._bootstrap>:1007\u001b[0m, in \u001b[0;36m_find_and_load\u001b[0;34m(name, import_)\u001b[0m\n",
      "File \u001b[0;32m<frozen importlib._bootstrap>:986\u001b[0m, in \u001b[0;36m_find_and_load_unlocked\u001b[0;34m(name, import_)\u001b[0m\n",
      "File \u001b[0;32m<frozen importlib._bootstrap>:664\u001b[0m, in \u001b[0;36m_load_unlocked\u001b[0;34m(spec)\u001b[0m\n",
      "File \u001b[0;32m<frozen importlib._bootstrap>:627\u001b[0m, in \u001b[0;36m_load_backward_compatible\u001b[0;34m(spec)\u001b[0m\n",
      "File \u001b[0;32m~/miniconda3/envs/EP/lib/python3.9/site-packages/julia/core.py:248\u001b[0m, in \u001b[0;36mJuliaModuleLoader.load_module\u001b[0;34m(self, fullname)\u001b[0m\n\u001b[1;32m    245\u001b[0m \u001b[39mif\u001b[39;00m juliapath \u001b[39m==\u001b[39m \u001b[39m'\u001b[39m\u001b[39mMain\u001b[39m\u001b[39m'\u001b[39m:\n\u001b[1;32m    246\u001b[0m     \u001b[39mreturn\u001b[39;00m sys\u001b[39m.\u001b[39mmodules\u001b[39m.\u001b[39msetdefault(fullname,\n\u001b[1;32m    247\u001b[0m                                   JuliaMainModule(\u001b[39mself\u001b[39m, fullname))\n\u001b[0;32m--> 248\u001b[0m \u001b[39melif\u001b[39;00m \u001b[39mself\u001b[39;49m\u001b[39m.\u001b[39;49mjulia\u001b[39m.\u001b[39misafunction(juliapath):\n\u001b[1;32m    249\u001b[0m     \u001b[39mreturn\u001b[39;00m \u001b[39mself\u001b[39m\u001b[39m.\u001b[39mjulia\u001b[39m.\u001b[39meval(juliapath)\n\u001b[1;32m    251\u001b[0m \u001b[39mtry\u001b[39;00m:\n",
      "File \u001b[0;32m~/miniconda3/envs/EP/lib/python3.9/site-packages/julia/core.py:239\u001b[0m, in \u001b[0;36mJuliaModuleLoader.julia\u001b[0;34m(self)\u001b[0m\n\u001b[1;32m    237\u001b[0m \u001b[39m@property\u001b[39m\n\u001b[1;32m    238\u001b[0m \u001b[39mdef\u001b[39;00m \u001b[39mjulia\u001b[39m(\u001b[39mself\u001b[39m):\n\u001b[0;32m--> 239\u001b[0m     \u001b[39mself\u001b[39m\u001b[39m.\u001b[39m\u001b[39m__class__\u001b[39m\u001b[39m.\u001b[39mjulia \u001b[39m=\u001b[39m julia \u001b[39m=\u001b[39m Julia()\n\u001b[1;32m    240\u001b[0m     \u001b[39mreturn\u001b[39;00m julia\n",
      "File \u001b[0;32m~/miniconda3/envs/EP/lib/python3.9/site-packages/julia/core.py:468\u001b[0m, in \u001b[0;36mJulia.__init__\u001b[0;34m(self, init_julia, jl_init_path, runtime, jl_runtime_path, debug, **julia_options)\u001b[0m\n\u001b[1;32m    466\u001b[0m     \u001b[39mself\u001b[39m\u001b[39m.\u001b[39mapi \u001b[39m=\u001b[39m get_libjulia()\n\u001b[1;32m    467\u001b[0m \u001b[39melif\u001b[39;00m init_julia:\n\u001b[0;32m--> 468\u001b[0m     jlinfo \u001b[39m=\u001b[39m JuliaInfo\u001b[39m.\u001b[39;49mload(runtime)\n\u001b[1;32m    469\u001b[0m     \u001b[39mif\u001b[39;00m jlinfo\u001b[39m.\u001b[39mversion_info \u001b[39m<\u001b[39m (\u001b[39m0\u001b[39m, \u001b[39m7\u001b[39m):\n\u001b[1;32m    470\u001b[0m         \u001b[39mraise\u001b[39;00m \u001b[39mRuntimeError\u001b[39;00m(\u001b[39m\"\u001b[39m\u001b[39mPyJulia does not support Julia < 0.7 anymore\u001b[39m\u001b[39m\"\u001b[39m)\n",
      "File \u001b[0;32m~/miniconda3/envs/EP/lib/python3.9/site-packages/julia/juliainfo.py:68\u001b[0m, in \u001b[0;36mJuliaInfo.load\u001b[0;34m(cls, julia, **popen_kwargs)\u001b[0m\n\u001b[1;32m     61\u001b[0m \u001b[39m\"\"\"\u001b[39;00m\n\u001b[1;32m     62\u001b[0m \u001b[39mGet basic information from `julia`.\u001b[39;00m\n\u001b[1;32m     63\u001b[0m \u001b[39m\"\"\"\u001b[39;00m\n\u001b[1;32m     65\u001b[0m juliainfo_script \u001b[39m=\u001b[39m os\u001b[39m.\u001b[39mpath\u001b[39m.\u001b[39mjoin(\n\u001b[1;32m     66\u001b[0m     os\u001b[39m.\u001b[39mpath\u001b[39m.\u001b[39mdirname(os\u001b[39m.\u001b[39mpath\u001b[39m.\u001b[39mrealpath(\u001b[39m__file__\u001b[39m)), \u001b[39m\"\u001b[39m\u001b[39mjuliainfo.jl\u001b[39m\u001b[39m\"\u001b[39m\n\u001b[1;32m     67\u001b[0m )\n\u001b[0;32m---> 68\u001b[0m proc \u001b[39m=\u001b[39m subprocess\u001b[39m.\u001b[39;49mPopen(\n\u001b[1;32m     69\u001b[0m     [julia, \u001b[39m\"\u001b[39;49m\u001b[39m--startup-file=no\u001b[39;49m\u001b[39m\"\u001b[39;49m, juliainfo_script],\n\u001b[1;32m     70\u001b[0m     stdout\u001b[39m=\u001b[39;49msubprocess\u001b[39m.\u001b[39;49mPIPE,\n\u001b[1;32m     71\u001b[0m     stderr\u001b[39m=\u001b[39;49msubprocess\u001b[39m.\u001b[39;49mPIPE,\n\u001b[1;32m     72\u001b[0m     universal_newlines\u001b[39m=\u001b[39;49m\u001b[39mTrue\u001b[39;49;00m,\n\u001b[1;32m     73\u001b[0m     \u001b[39m*\u001b[39;49m\u001b[39m*\u001b[39;49mpopen_kwargs\n\u001b[1;32m     74\u001b[0m )\n\u001b[1;32m     76\u001b[0m stdout, stderr \u001b[39m=\u001b[39m proc\u001b[39m.\u001b[39mcommunicate()\n\u001b[1;32m     77\u001b[0m retcode \u001b[39m=\u001b[39m proc\u001b[39m.\u001b[39mwait()\n",
      "File \u001b[0;32m~/miniconda3/envs/EP/lib/python3.9/subprocess.py:951\u001b[0m, in \u001b[0;36mPopen.__init__\u001b[0;34m(self, args, bufsize, executable, stdin, stdout, stderr, preexec_fn, close_fds, shell, cwd, env, universal_newlines, startupinfo, creationflags, restore_signals, start_new_session, pass_fds, user, group, extra_groups, encoding, errors, text, umask)\u001b[0m\n\u001b[1;32m    947\u001b[0m         \u001b[39mif\u001b[39;00m \u001b[39mself\u001b[39m\u001b[39m.\u001b[39mtext_mode:\n\u001b[1;32m    948\u001b[0m             \u001b[39mself\u001b[39m\u001b[39m.\u001b[39mstderr \u001b[39m=\u001b[39m io\u001b[39m.\u001b[39mTextIOWrapper(\u001b[39mself\u001b[39m\u001b[39m.\u001b[39mstderr,\n\u001b[1;32m    949\u001b[0m                     encoding\u001b[39m=\u001b[39mencoding, errors\u001b[39m=\u001b[39merrors)\n\u001b[0;32m--> 951\u001b[0m     \u001b[39mself\u001b[39;49m\u001b[39m.\u001b[39;49m_execute_child(args, executable, preexec_fn, close_fds,\n\u001b[1;32m    952\u001b[0m                         pass_fds, cwd, env,\n\u001b[1;32m    953\u001b[0m                         startupinfo, creationflags, shell,\n\u001b[1;32m    954\u001b[0m                         p2cread, p2cwrite,\n\u001b[1;32m    955\u001b[0m                         c2pread, c2pwrite,\n\u001b[1;32m    956\u001b[0m                         errread, errwrite,\n\u001b[1;32m    957\u001b[0m                         restore_signals,\n\u001b[1;32m    958\u001b[0m                         gid, gids, uid, umask,\n\u001b[1;32m    959\u001b[0m                         start_new_session)\n\u001b[1;32m    960\u001b[0m \u001b[39mexcept\u001b[39;00m:\n\u001b[1;32m    961\u001b[0m     \u001b[39m# Cleanup if the child failed starting.\u001b[39;00m\n\u001b[1;32m    962\u001b[0m     \u001b[39mfor\u001b[39;00m f \u001b[39min\u001b[39;00m \u001b[39mfilter\u001b[39m(\u001b[39mNone\u001b[39;00m, (\u001b[39mself\u001b[39m\u001b[39m.\u001b[39mstdin, \u001b[39mself\u001b[39m\u001b[39m.\u001b[39mstdout, \u001b[39mself\u001b[39m\u001b[39m.\u001b[39mstderr)):\n",
      "File \u001b[0;32m~/miniconda3/envs/EP/lib/python3.9/subprocess.py:1821\u001b[0m, in \u001b[0;36mPopen._execute_child\u001b[0;34m(self, args, executable, preexec_fn, close_fds, pass_fds, cwd, env, startupinfo, creationflags, shell, p2cread, p2cwrite, c2pread, c2pwrite, errread, errwrite, restore_signals, gid, gids, uid, umask, start_new_session)\u001b[0m\n\u001b[1;32m   1819\u001b[0m     \u001b[39mif\u001b[39;00m errno_num \u001b[39m!=\u001b[39m \u001b[39m0\u001b[39m:\n\u001b[1;32m   1820\u001b[0m         err_msg \u001b[39m=\u001b[39m os\u001b[39m.\u001b[39mstrerror(errno_num)\n\u001b[0;32m-> 1821\u001b[0m     \u001b[39mraise\u001b[39;00m child_exception_type(errno_num, err_msg, err_filename)\n\u001b[1;32m   1822\u001b[0m \u001b[39mraise\u001b[39;00m child_exception_type(err_msg)\n",
      "\u001b[0;31mFileNotFoundError\u001b[0m: [Errno 2] No such file or directory: 'julia'"
     ]
    }
   ],
   "source": [
    "import julia\n",
    "from julia import Base\n",
    "\n",
    "julia.install()\n",
    "j = julia.Julia()\n",
    "j.using(\"LinearAlgebra\")\n"
   ]
  },
  {
   "cell_type": "code",
   "execution_count": null,
   "metadata": {},
   "outputs": [],
   "source": []
  }
 ],
 "metadata": {
  "kernelspec": {
   "display_name": "EP",
   "language": "python",
   "name": "python3"
  },
  "language_info": {
   "codemirror_mode": {
    "name": "ipython",
    "version": 3
   },
   "file_extension": ".py",
   "mimetype": "text/x-python",
   "name": "python",
   "nbconvert_exporter": "python",
   "pygments_lexer": "ipython3",
   "version": "3.9.15"
  },
  "orig_nbformat": 4,
  "vscode": {
   "interpreter": {
    "hash": "90e4321df57dcdaa38923c918cbc297c2df4b63e34e944f71f9cbb193a1f4ded"
   }
  }
 },
 "nbformat": 4,
 "nbformat_minor": 2
}
