{
 "cells": [
  {
   "cell_type": "markdown",
   "metadata": {},
   "source": [
    "# Setup"
   ]
  },
  {
   "cell_type": "code",
   "execution_count": null,
   "metadata": {},
   "outputs": [],
   "source": [
    "import torch\n",
    "\n",
    "from src.prog_scheme.utils import generate_target_weights\n",
    "\n",
    "input_size = 100\n",
    "output_size = 50\n",
    "rank = 30\n",
    "dim = input_size * output_size\n",
    "over_sampling = 2\n",
    "x_rand = False\n",
    "\n",
    "batch_size = 2\n",
    "tol = 1e-8\n",
    "max_iter = 1000\n",
    "norm_type = \"fro\"\n",
    "svd_every_k_iter = 1\n",
    "read_noise_std = 0.1\n",
    "update_noise_std = 0.1\n",
    "input_ratio = 1.1\n",
    "# generate low rank matrix\n",
    "w_target = generate_target_weights(input_size, output_size, rank)\n",
    "print(w_target[:5, :5])"
   ]
  },
  {
   "cell_type": "code",
   "execution_count": null,
   "metadata": {},
   "outputs": [],
   "source": [
    "from aihwkit.simulator.configs import FloatingPointRPUConfig, SingleRPUConfig\n",
    "from aihwkit.simulator.configs.devices import (\n",
    "    ConstantStepDevice,\n",
    "    DriftParameter,\n",
    "    ExpStepDevice,\n",
    "    FloatingPointDevice,\n",
    "    IdealDevice,\n",
    "    LinearStepDevice,\n",
    "    SimpleDriftParameter,\n",
    ")\n",
    "from aihwkit.simulator.configs.utils import (\n",
    "    InputRangeParameter,\n",
    "    PrePostProcessingParameter,\n",
    "    UpdateParameters,\n",
    ")\n",
    "from aihwkit.simulator.parameters.enums import PulseType\n",
    "from aihwkit.simulator.presets.configs import IdealizedPreset, PCMPreset, ReRamSBPreset\n",
    "from aihwkit.simulator.presets.devices import IdealizedPresetDevice\n",
    "from aihwkit.simulator.tiles import FloatingPointTile\n",
    "\n",
    "from src.core.aihwkit.utils import rpuconf2dict\n",
    "\n",
    "pre_post_cfg = PrePostProcessingParameter(input_range=InputRangeParameter(enable=False))\n",
    "# device_cfg = ExpStepDevice()\n",
    "device_cfg = LinearStepDevice()\n",
    "# device_cfg = IdealDevice()\n",
    "\n",
    "update_cfg = UpdateParameters(pulse_type=PulseType.STOCHASTIC, desired_bl=127)\n",
    "rpuconfig = SingleRPUConfig(update=update_cfg, device=device_cfg)\n",
    "rpuconfig.forward.out_noise = read_noise_std\n",
    "rpuconfig.device.write_noise_std = update_noise_std\n",
    "rpuconfig.device.w_max = 1.0\n",
    "rpuconfig.device.gamma_up = 0.3\n",
    "rpuconfig.device.gamma_down = 0.5\n",
    "rpuconfig.device.w_min = -1.0\n",
    "rpuconfig.device.w_max_dtod = 0.01\n",
    "rpuconfig.device.w_min_dtod = 0.01\n",
    "rpuconfig.device.dw_min_std = 0.0\n",
    "rpuconfig.device.mult_noise = False  # additive noise\n",
    "# rpuconfig.forward.inp_res = 0\n",
    "# rpuconfig = IdealizedPreset(update=update_cfg, device=device_cfg, pre_post=pre_post_cfg)\n",
    "\n",
    "rpuconf_dict = rpuconf2dict(rpuconfig, max_depth=2)\n",
    "\n",
    "conf = {\n",
    "    **rpuconf_dict,\n",
    "    \"matrix\": {\"input_size\": input_size, \"output_size\": output_size, \"rank\": rank},\n",
    "    \"methods\": {\n",
    "        \"tolerance\": tol,\n",
    "        \"max_iter\": max_iter,\n",
    "        \"batch_size\": batch_size,\n",
    "        \"norm_type\": norm_type,\n",
    "        \"svd_every_k_iter\": svd_every_k_iter,\n",
    "        \"input_ratio\": input_ratio,\n",
    "        \"read_noise_std\": read_noise_std,\n",
    "        \"update_noise_std\": update_noise_std,\n",
    "        \"w_init\": 0.01,\n",
    "        \"over_sampling\": over_sampling,\n",
    "        \"x_rand\": x_rand,\n",
    "    },\n",
    "}"
   ]
  },
  {
   "cell_type": "markdown",
   "metadata": {},
   "source": [
    "# AnalogTile"
   ]
  },
  {
   "cell_type": "markdown",
   "metadata": {},
   "source": [
    "## Compare"
   ]
  },
  {
   "cell_type": "code",
   "execution_count": null,
   "metadata": {},
   "outputs": [],
   "source": [
    "import copy\n",
    "\n",
    "from aihwkit.simulator.tiles.analog import AnalogTile\n",
    "\n",
    "atile = AnalogTile(output_size, input_size, rpu_config=rpuconfig)  # with periphery\n",
    "atile_dic = {}\n",
    "atile.state_dict(atile_dic)\n",
    "tiles = [atile]\n",
    "# atile3.load_state_dict(atile_dic, assign=True)\n",
    "method_names = [\"gdp\", \"gdp-kf\", \"svd\", \"svd-kf\"]\n",
    "for i in range(len(method_names) - 1):\n",
    "    tiles.append(copy.deepcopy(atile))\n",
    "if rpuconfig.device.__class__.__name__ == \"LinearStepDevice\":\n",
    "    tiles.append(copy.deepcopy(atile))\n",
    "    method_names.append(\"svd-ekf\")\n",
    "print(atile.tile.get_info())"
   ]
  },
  {
   "cell_type": "code",
   "execution_count": null,
   "metadata": {},
   "outputs": [],
   "source": [
    "from aihwkit.utils.visualization import plot_programming_error\n",
    "\n",
    "plot_programming_error(rpuconfig.device)"
   ]
  },
  {
   "cell_type": "code",
   "execution_count": null,
   "metadata": {},
   "outputs": [],
   "source": [
    "from aihwkit.simulator.tiles.periphery import TileWithPeriphery\n",
    "\n",
    "from src.prog_scheme.program_methods import GDP, SVD\n",
    "\n",
    "# enroll the programming methods\n",
    "for tile, method_cls in zip(tiles, [GDP, GDP] + [SVD] * (len(tiles) - 2)):\n",
    "    tile.program_weights = method_cls.program_weights.__get__(tile, TileWithPeriphery)"
   ]
  },
  {
   "cell_type": "code",
   "execution_count": null,
   "metadata": {},
   "outputs": [],
   "source": [
    "import time\n",
    "\n",
    "from src.prog_scheme.filters import DeviceKF, LinearDeviceEKF\n",
    "from src.prog_scheme.utils import program_n_log\n",
    "\n",
    "err_lists = []\n",
    "method_kwargs = conf[\"methods\"].copy()\n",
    "for tile, name in zip(tiles, method_names):\n",
    "    if name == \"gdp\":\n",
    "        fnc = None\n",
    "    elif name == \"svd\":\n",
    "        fnc = None\n",
    "    elif name.endswith(\"-kf\"):\n",
    "        fnc = DeviceKF(dim=dim, read_noise_std=read_noise_std, update_noise_std=update_noise_std)\n",
    "    elif name == \"svd-ekf\" and tile.rpu_config.device.__class__.__name__ == \"LinearStepDevice\":\n",
    "        fnc = LinearDeviceEKF(\n",
    "            dim=dim,\n",
    "            read_noise_std=read_noise_std,\n",
    "            update_noise_std=update_noise_std,\n",
    "            iterative_update=False,\n",
    "            **rpuconf_dict[\"device\"],\n",
    "        )\n",
    "    else:\n",
    "        raise ValueError(f\"Unknown method name: {name}\")\n",
    "    method_kwargs.update({\"fnc\": fnc})\n",
    "    err_list = program_n_log(tile, w_target.T, **method_kwargs)\n",
    "    err_lists.append(err_list)"
   ]
  },
  {
   "cell_type": "markdown",
   "metadata": {},
   "source": [
    "## Visualize"
   ]
  },
  {
   "cell_type": "code",
   "execution_count": null,
   "metadata": {},
   "outputs": [],
   "source": [
    "import matplotlib.pyplot as plt\n",
    "\n",
    "\n",
    "def plot_singular_values(Ws: tuple[torch.Tensor]):\n",
    "    for w in Ws:\n",
    "        s = torch.linalg.svdvals(w.squeeze())\n",
    "        plt.plot(s)\n",
    "    plt.yscale(\"log\")\n",
    "    plt.xlabel(\"Singular Value Index\")\n",
    "    plt.ylabel(\"Singular Value\")\n",
    "    plt.title(\"Singular Values of Weight Matrix\")\n",
    "    plt.show()"
   ]
  },
  {
   "cell_type": "code",
   "execution_count": null,
   "metadata": {},
   "outputs": [],
   "source": [
    "from src.core.aihwkit.utils import get_persistent_weights\n",
    "\n",
    "W = [w_target.T - get_persistent_weights(tile_.tile) for tile_ in tiles]\n",
    "\n",
    "plot_singular_values(W)\n",
    "print(f\"{norm_type} norm of \\n\")\n",
    "for i, w in enumerate(W):\n",
    "    print(f\"atile{i}: {torch.linalg.matrix_norm(w, ord=norm_type)}\")"
   ]
  },
  {
   "cell_type": "code",
   "execution_count": null,
   "metadata": {},
   "outputs": [],
   "source": [
    "for err in err_lists:\n",
    "    loss = torch.tensor(err) / dim\n",
    "    plt.semilogy(loss)\n",
    "    print(err[-1])\n",
    "# set legend\n",
    "plt.legend(method_names)\n",
    "\n",
    "\n",
    "plt.xlabel(\"Iteration\")\n",
    "plt.ylabel(f\"Avg. {norm_type} norm of weight error per cell\")\n",
    "plt.title(f\"Error vs Iteration @ {input_size}x{output_size}, rank={rank}\")\n",
    "plt.show()"
   ]
  },
  {
   "cell_type": "code",
   "execution_count": null,
   "metadata": {},
   "outputs": [],
   "source": [
    "import numpy as np\n",
    "from aihwkit.utils.visualization import (\n",
    "    compute_pulse_response,\n",
    "    plot_programming_error,\n",
    "    plot_response_overview,\n",
    ")\n",
    "\n",
    "# list to numpy array\n",
    "direction = np.array([1, 1, 1, 1])\n",
    "w_trace = compute_pulse_response(atile, direction)"
   ]
  },
  {
   "cell_type": "code",
   "execution_count": null,
   "metadata": {},
   "outputs": [],
   "source": [
    "plot_programming_error(rpuconfig.device, realistic_read=True, n_bins=51)"
   ]
  },
  {
   "cell_type": "markdown",
   "metadata": {},
   "source": [
    "## Log"
   ]
  },
  {
   "cell_type": "code",
   "execution_count": null,
   "metadata": {},
   "outputs": [],
   "source": [
    "import wandb\n",
    "\n",
    "# conf[\"methods\"][\"fnc\"] = conf[\"methods\"][\"fnc\"].__class__.__name__\n",
    "with wandb.init(project=\"prog-scheme\", entity=\"spk\", config=conf, dir=\"../../logs\") as run:\n",
    "    # Determine the maximum length\n",
    "    max_len = max([len(err_list) for err_list in err_lists])\n",
    "    # Pad the lists with 0s\n",
    "    for err_list in err_lists:\n",
    "        err_list += [None] * (max_len - len(err_list))\n",
    "    # Log the data\n",
    "    for i in range(max_len):\n",
    "        run.log(\n",
    "            {f\"{name}_{norm_type}\": err_list[i] for name, err_list in zip(method_names, err_lists)}\n",
    "        )"
   ]
  },
  {
   "cell_type": "markdown",
   "metadata": {},
   "source": [
    "## VISUALIZE UPDATES"
   ]
  },
  {
   "cell_type": "code",
   "execution_count": null,
   "metadata": {},
   "outputs": [],
   "source": [
    "import matplotlib.pyplot as plt\n",
    "import numpy as np\n",
    "from sklearn.decomposition import TruncatedSVD\n",
    "\n",
    "# assert (atile.initial_weights - atile2.initial_weights).max() == 0\n",
    "optimal_change = (w.T - tiles[0].initial_weights).flatten()\n",
    "\n",
    "# 데이터 가공\n",
    "actual_updates = atile.actual_weight_updates\n",
    "data = np.array(actual_updates)\n",
    "flattened_data = data.reshape(data.shape[0], -1)\n",
    "cumulative_update = np.cumsum(flattened_data, axis=0)\n",
    "\n",
    "data2 = np.array(tiles[2].actual_weight_updates)\n",
    "flattened_data2 = data2.reshape(data2.shape[0], -1)\n",
    "cumulative_update2 = np.cumsum(flattened_data2, axis=0)"
   ]
  },
  {
   "cell_type": "code",
   "execution_count": null,
   "metadata": {},
   "outputs": [],
   "source": [
    "# Calculate distances\n",
    "distance = []\n",
    "distance2 = []\n",
    "for i in range(len(cumulative_update)):\n",
    "    distance.append(optimal_change - cumulative_update[i])\n",
    "\n",
    "for i in range(len(cumulative_update2)):\n",
    "    distance2.append(optimal_change - cumulative_update2[i])\n",
    "\n",
    "distance = np.array(distance)\n",
    "distance2 = np.array(distance2)\n",
    "concat_distances = np.concatenate((distance, distance2), axis=0)\n",
    "\n",
    "# Apply TruncatedSVD\n",
    "svd = TruncatedSVD(n_components=2)\n",
    "svd_result = svd.fit_transform(distance)\n",
    "\n",
    "# Map original data to SVD space\n",
    "\n",
    "svd_gdp = svd_result[0 : max_iter - 1]\n",
    "svd_svd = svd_result[max_iter : max_iter * 2 - 1]\n",
    "\n",
    "# Set grid in SVD result range\n",
    "x = np.linspace(svd_result[:, 0].min(), svd_result[:, 0].max(), 100)\n",
    "y = np.linspace(svd_result[:, 1].min(), svd_result[:, 1].max(), 100)\n",
    "X, Y = np.meshgrid(x, y)\n",
    "\n",
    "# Calculate distance from origin in SVD space\n",
    "Z = np.sqrt(X**2 + Y**2)\n",
    "\n",
    "# Visualization\n",
    "plt.figure(figsize=(5, 4))\n",
    "contour = plt.contour(X, Y, Z, levels=20, cmap=\"viridis\")\n",
    "plt.colorbar(contour, label=\"Distance from Origin (SVD space)\")\n",
    "plt.scatter(svd_gdp[:, 0], svd_gdp[:, 1], alpha=0.7, label=\"gdp2\")\n",
    "plt.scatter(svd_svd[:, 0], svd_svd[:, 1], alpha=0.3, label=\"svd\")\n",
    "plt.legend()\n",
    "\n",
    "plt.xlabel(\"First Principal Component\")\n",
    "plt.ylabel(\"Second Principal Component\")\n",
    "plt.title(\"Truncated SVD of Weight Updates with Distance Contours\")\n",
    "\n",
    "# Add index to each point\n",
    "for i, (x, y) in enumerate(svd_gdp):\n",
    "    if i % 50 == 0:\n",
    "        plt.annotate(str(i), (x, y), xytext=(5, 5), textcoords=\"offset points\")\n",
    "\n",
    "for i, (x, y) in enumerate(svd_svd):\n",
    "    if i % 50 == 0:\n",
    "        plt.annotate(str(i), (x, y), xytext=(5, 5), textcoords=\"offset points\")\n",
    "\n",
    "plt.grid(True)\n",
    "plt.tight_layout()\n",
    "plt.show()"
   ]
  },
  {
   "cell_type": "markdown",
   "metadata": {},
   "source": [
    "## GDP batch-size effect"
   ]
  },
  {
   "cell_type": "code",
   "execution_count": null,
   "metadata": {},
   "outputs": [],
   "source": [
    "from sklearn.decomposition import PCA\n",
    "\n",
    "pca = PCA(n_components=2)\n",
    "pca_result = pca.fit_transform(distance)"
   ]
  },
  {
   "cell_type": "code",
   "execution_count": null,
   "metadata": {},
   "outputs": [],
   "source": [
    "from src.prog_scheme.utils import extract_error\n",
    "from src.utils.logging_utils import LogCapture"
   ]
  },
  {
   "cell_type": "code",
   "execution_count": null,
   "metadata": {},
   "outputs": [],
   "source": [
    "import numpy as np\n",
    "\n",
    "method_kwargs[\"fnc\"] = None\n",
    "for batch_size_ in [1, 5, 10, 20, 50]:\n",
    "    with LogCapture() as logc:\n",
    "        atile.tile.set_weights(w_target.T)\n",
    "        method_kwargs[\"batch_size\"] = batch_size_\n",
    "        atile.program_weights(atile, **method_kwargs)\n",
    "        log_list = logc.get_log_list()\n",
    "    err_list = extract_error(log_list)\n",
    "    num_iter = np.arange(len(err_list)) * batch_size_\n",
    "    plt.semilogy(num_iter, err_list, label=f\"batch_size={batch_size_}\")\n",
    "plt.legend()\n",
    "plt.xlabel(\"Iteration\")\n",
    "plt.ylabel(f\"{norm_type} norm of weight error\")\n",
    "plt.title(\n",
    "    f\"{input_size}x{output_size} rank={rank} matrix with {atile.rpu_config.device.__class__.__name__}\"\n",
    ")"
   ]
  },
  {
   "cell_type": "markdown",
   "metadata": {},
   "source": [
    "### d2d variaton"
   ]
  },
  {
   "cell_type": "code",
   "execution_count": null,
   "metadata": {},
   "outputs": [],
   "source": [
    "# print dataclass fields\n",
    "atile.rpu_config.device.__dict__"
   ]
  },
  {
   "cell_type": "code",
   "execution_count": null,
   "metadata": {},
   "outputs": [],
   "source": [
    "w.T[:5, :5]"
   ]
  },
  {
   "cell_type": "code",
   "execution_count": null,
   "metadata": {},
   "outputs": [],
   "source": [
    "# check whether the element wise perturbation is applied\n",
    "\n",
    "atile.tile.set_weights(w.T)\n",
    "wtile = atile.tile.get_weights()\n",
    "torch.allclose(wtile, w.T)"
   ]
  },
  {
   "cell_type": "markdown",
   "metadata": {},
   "source": [
    "# CustomTile"
   ]
  },
  {
   "cell_type": "code",
   "execution_count": null,
   "metadata": {},
   "outputs": [],
   "source": [
    "from aihwkit.simulator.tiles.custom import CustomTile\n",
    "\n",
    "ctile = CustomTile(output_size, input_size)\n",
    "ctile.get_weights(realistic=True)\n",
    "ctile2 = CustomTile(output_size, input_size)"
   ]
  },
  {
   "cell_type": "markdown",
   "metadata": {},
   "source": [
    "### RealisticTile(Ours)"
   ]
  },
  {
   "cell_type": "code",
   "execution_count": null,
   "metadata": {},
   "outputs": [],
   "source": [
    "from src.prog_scheme.realistic import RealisticTile, RPUConfigwithProgram\n",
    "\n",
    "# rpu_config = RPUConfigwithProgram(program_weights=gdp2)\n",
    "# ctile = RealisticTile(output_size, input_size, rpu_config=rpu_config)\n",
    "\n",
    "# rpu_config2 = RPUConfigwithProgram(program_weights=svd)\n",
    "# ctile2 = RealisticTile(output_size, input_size, rpu_config=rpu_config2)"
   ]
  },
  {
   "cell_type": "code",
   "execution_count": null,
   "metadata": {},
   "outputs": [],
   "source": [
    "# print(rpu_config)"
   ]
  },
  {
   "cell_type": "code",
   "execution_count": null,
   "metadata": {},
   "outputs": [],
   "source": [
    "with LogCapture() as logc:\n",
    "    ctile.set_weights(w, realistic=True)\n",
    "    log_list = logc.get_log_list()\n",
    "\n",
    "with LogCapture() as logc:\n",
    "    ctile2.set_weights(w, realistic=True)\n",
    "    log_list2 = logc.get_log_list()"
   ]
  },
  {
   "cell_type": "code",
   "execution_count": null,
   "metadata": {},
   "outputs": [],
   "source": [
    "# extract error and plot\n",
    "import matplotlib.pyplot as plt\n",
    "\n",
    "err_list = extract_error(log_list)\n",
    "err_list2 = extract_error(log_list2)\n",
    "\n",
    "plt.plot(err_list, label=\"gpc\")\n",
    "plt.plot(err_list2, label=\"svd\")\n",
    "plt.legend()\n",
    "plt.xlabel(\"Iteration\")\n",
    "plt.ylabel(\"Error\")\n",
    "plt.title(\"Error vs Iteration\")\n",
    "plt.show()"
   ]
  },
  {
   "cell_type": "markdown",
   "metadata": {},
   "source": [
    "# ETC"
   ]
  },
  {
   "cell_type": "markdown",
   "metadata": {},
   "source": [
    "only `AnalogTile` which inherits `TileWithPeriphery` class has `program_weights` method\n",
    "\n",
    "`program_weights` method implements \"Gradient descent-based programming of analog in-memory computing cores\" by default\n",
    "\n",
    "`set_weights` method is used to set the weights of the analog tile to the given values\\\n",
    "`program_weights` method is internally called by `set_weights` method to program the weights of the analog tile\\\n",
    "\n",
    "`get_weights` method is used to get the weights of the analog tile\\\n",
    "`read_weights` method is used to read the weights of the analog tile with read noise"
   ]
  },
  {
   "cell_type": "code",
   "execution_count": null,
   "metadata": {},
   "outputs": [],
   "source": [
    "from aihwkit.nn import AnalogLinear\n",
    "from aihwkit.optim import AnalogSGD"
   ]
  },
  {
   "cell_type": "code",
   "execution_count": null,
   "metadata": {},
   "outputs": [],
   "source": [
    "digital_layer = torch.nn.Linear(input_size, output_size, bias=False)\n",
    "layer = AnalogLinear.from_digital(digital_layer, rpuconfig)"
   ]
  },
  {
   "cell_type": "code",
   "execution_count": null,
   "metadata": {},
   "outputs": [],
   "source": [
    "optimizer = AnalogSGD(layer.parameters(), lr=0.005)\n",
    "losses = []\n",
    "for _ in range(1000):\n",
    "    x = torch.rand(input_size)\n",
    "    yhat = layer(x)\n",
    "    loss = (yhat**2).sum()\n",
    "    losses.append(loss.item())\n",
    "    optimizer.zero_grad()\n",
    "    loss.backward()\n",
    "    optimizer.step()"
   ]
  },
  {
   "cell_type": "code",
   "execution_count": null,
   "metadata": {},
   "outputs": [],
   "source": [
    "# plot losses\n",
    "import matplotlib.pyplot as plt\n",
    "\n",
    "plt.plot(losses)"
   ]
  }
 ],
 "metadata": {
  "kernelspec": {
   "display_name": "ml",
   "language": "python",
   "name": "python3"
  },
  "language_info": {
   "codemirror_mode": {
    "name": "ipython",
    "version": 3
   },
   "file_extension": ".py",
   "mimetype": "text/x-python",
   "name": "python",
   "nbconvert_exporter": "python",
   "pygments_lexer": "ipython3",
   "version": "3.10.15"
  }
 },
 "nbformat": 4,
 "nbformat_minor": 2
}
