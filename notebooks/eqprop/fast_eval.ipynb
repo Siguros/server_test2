{
 "cells": [
  {
   "cell_type": "code",
   "execution_count": null,
   "metadata": {},
   "outputs": [],
   "source": [
    "import numpy as np\n",
    "import torch\n",
    "from torch.utils.data import DataLoader\n",
    "\n",
    "from src.core.spice import circuits, spice_utils, subcircuits, xyce\n",
    "from src.data.xor_datamodule import XORDataModule, XORwithBiasDataModule"
   ]
  },
  {
   "cell_type": "code",
   "execution_count": null,
   "metadata": {},
   "outputs": [],
   "source": [
    "ckpt_path = \"/home/minsik/ml/logs/train/runs/2024-10-22_22-50-45/checkpoints/epoch_036.ckpt\"\n",
    "ckpt_path2 = \"/home/minsik/ml/logs/train/runs/2024-10-24_10-56-07/checkpoints/epoch_202.ckpt\"\n",
    "ckpt_30K_2M = \"/home/minsik/ml/logs/train/runs/2024-10-25_17-20-13/checkpoints/epoch_180.ckpt\"\n",
    "checkpoint = torch.load(ckpt_30K_2M)\n",
    "# Extract weights from the checkpoint (assuming net.model layers)\n",
    "W1 = checkpoint[\"state_dict\"][\"net.model.0.weight\"]  # First layer weights\n",
    "W2 = checkpoint[\"state_dict\"][\"net.model.1.weight\"]  # Second layer weights\n",
    "\n",
    "# Combine them into a list (if needed)\n",
    "W = [W1, W2]\n",
    "\n",
    "# Print the extracted weights\n",
    "print(\"W1 (First Layer Weights):\", W1)\n",
    "print(\"W2 (Second Layer Weights):\", W2)"
   ]
  },
  {
   "cell_type": "code",
   "execution_count": null,
   "metadata": {},
   "outputs": [],
   "source": [
    "print(W1)\n",
    "print(W2)"
   ]
  },
  {
   "cell_type": "code",
   "execution_count": null,
   "metadata": {},
   "outputs": [],
   "source": [
    "data_module = XORwithBiasDataModule(batch_size=1)\n",
    "\n",
    "data_module.setup()\n",
    "\n",
    "# Create a DataLoader\n",
    "dataloader = DataLoader(\n",
    "    data_module.dataset, batch_size=data_module.batch_size, num_workers=data_module.num_workers\n",
    ")\n",
    "\n",
    "# Iterate through the DataLoader to extract batches of x and y\n",
    "for batch in dataloader:\n",
    "    x, y = batch  # x will contain the inputs, y will contain the targets\n",
    "\n",
    "    # If you want to access individual elements from the batch\n",
    "    for i in range(len(x)):\n",
    "        x_item = x[i]\n",
    "        y_item = y[i]\n",
    "        print(f\"x: {x_item}, y: {y_item}\")"
   ]
  },
  {
   "cell_type": "code",
   "execution_count": null,
   "metadata": {},
   "outputs": [],
   "source": [
    "dims = [2, 2]\n",
    "SPICE_params = {\n",
    "    \"A\": 1,\n",
    "    \"beta\": \"0.001\",\n",
    "    \"Diode\": {\n",
    "        \"Path\": \"/home/minsik/ml/src/core/spice/1N4148.lib\",\n",
    "        \"ModelName\": \"1N4148\",\n",
    "        \"Rectifier\": \"BidRectifier\",\n",
    "    },\n",
    "    \"noise\": 0,\n",
    "}\n",
    "\n",
    "# Create the PyCircuit\n",
    "Pycircuit = circuits.create_circuit(\n",
    "    input=x[0][0][0],  # Assuming x is already defined\n",
    "    bias=None,\n",
    "    W=W,  # Loaded from the checkpoint\n",
    "    dimensions=dims,\n",
    "    **SPICE_params,\n",
    ")\n",
    "\n",
    "# Copy from PyCircuit to ShallowCircuit\n",
    "circuit = circuits.ShallowCircuit.copyFromCircuit(Pycircuit)"
   ]
  },
  {
   "cell_type": "code",
   "execution_count": null,
   "metadata": {},
   "outputs": [],
   "source": [
    "spice_utils.SPICENNParser.updateWeight(circuit, W)"
   ]
  },
  {
   "cell_type": "code",
   "execution_count": null,
   "metadata": {},
   "outputs": [],
   "source": [
    "print(circuit)"
   ]
  },
  {
   "cell_type": "code",
   "execution_count": null,
   "metadata": {},
   "outputs": [],
   "source": [
    "sim = xyce.XyceSim()\n",
    "\n",
    "nodes_list = []\n",
    "for batch in dataloader:\n",
    "    x, y = batch  # x will contain the inputs, y will contain the targets\n",
    "\n",
    "    # If you want to access individual elements from the batch\n",
    "    for i in range(len(x)):\n",
    "        print(x[i][0][0])\n",
    "        spice_utils.SPICENNParser.clampLayer(circuit, x[i][0][0])\n",
    "        raw_file = sim(spice_input=circuit)\n",
    "        voltages = spice_utils.SPICENNParser.fastRawfileParser(\n",
    "            raw_file, nodenames=circuit.nodes, dimensions=dims\n",
    "        )\n",
    "\n",
    "        combined_voltages = np.concatenate([voltages[1][0], voltages[1][1]])\n",
    "        nodes_list.append(combined_voltages)"
   ]
  },
  {
   "cell_type": "code",
   "execution_count": null,
   "metadata": {},
   "outputs": [],
   "source": [
    "voltages"
   ]
  },
  {
   "cell_type": "code",
   "execution_count": null,
   "metadata": {},
   "outputs": [],
   "source": []
  },
  {
   "cell_type": "code",
   "execution_count": null,
   "metadata": {},
   "outputs": [],
   "source": []
  }
 ],
 "metadata": {
  "kernelspec": {
   "display_name": "NMDL",
   "language": "python",
   "name": "python3"
  },
  "language_info": {
   "codemirror_mode": {
    "name": "ipython",
    "version": 3
   },
   "file_extension": ".py",
   "mimetype": "text/x-python",
   "name": "python",
   "nbconvert_exporter": "python",
   "pygments_lexer": "ipython3",
   "version": "3.10.13"
  }
 },
 "nbformat": 4,
 "nbformat_minor": 2
}
