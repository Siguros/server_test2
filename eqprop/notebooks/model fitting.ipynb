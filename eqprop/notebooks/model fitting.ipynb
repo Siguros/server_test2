{
 "cells": [
  {
   "cell_type": "code",
   "execution_count": 288,
   "metadata": {},
   "outputs": [],
   "source": [
    "import numpy as np\n",
    "import pandas as pd\n",
    "from scipy.optimize import least_squares\n"
   ]
  },
  {
   "cell_type": "code",
   "execution_count": 289,
   "metadata": {},
   "outputs": [],
   "source": [
    "data = pd.read_excel('test.xlsx')\n",
    "drop_num = [] # data preprocessing, remove odd data\n",
    "\n",
    "for i, val in enumerate(data['I']):\n",
    "    if (i>0) and (data['V_T'][i-1] > data['V_T'][i]) == 1:\n",
    "        drop_num.append(i)\n",
    "\n",
    "    if (val < 0) or (val > 9E-6):\n",
    "        drop_num.append(i)\n",
    "data.drop(drop_num, inplace=True)"
   ]
  },
  {
   "cell_type": "code",
   "execution_count": 290,
   "metadata": {},
   "outputs": [
    {
     "name": "stderr",
     "output_type": "stream",
     "text": [
      "c:\\Users\\nmdl-hspice\\anaconda3\\envs\\eqprop_python\\lib\\site-packages\\numpy\\core\\fromnumeric.py:43: VisibleDeprecationWarning: Creating an ndarray from ragged nested sequences (which is a list-or-tuple of lists-or-tuples-or ndarrays with different lengths or shapes) is deprecated. If you meant to do this, you must specify 'dtype=object' when creating the ndarray.\n",
      "  result = getattr(asarray(obj), method)(*args, **kwds)\n"
     ]
    }
   ],
   "source": [
    "groups = data.groupby(\"cell No.\")\n",
    "pieces = [group for _, group in groups]\n",
    "splitted_pieces = np.array_split(pieces, 6)"
   ]
  },
  {
   "cell_type": "code",
   "execution_count": 291,
   "metadata": {},
   "outputs": [],
   "source": [
    "def model_function(x, params):\n",
    "    # Example function: a * x^2 + b * x + c\n",
    "    Is, n = params\n",
    "    return Is*(np.exp(x/n*0.026)-1)\n",
    "\n",
    "def residual_function(params, x, y):\n",
    "    return model_function(x, params) - y\n",
    "\n",
    "result_Is = []\n",
    "result_n = []\n",
    "for i, piece in enumerate(splitted_pieces) :\n",
    "    x = splitted_pieces[i][0]['V_T']\n",
    "    y = splitted_pieces[i][0]['I']\n",
    "    initial_params = [1e-9, 1]\n",
    "    result = least_squares(residual_function, initial_params, args=(x,y), method='lm')\n",
    "    result_Is.append(result.x[0])\n",
    "    result_n.append(result.x[1])"
   ]
  },
  {
   "cell_type": "code",
   "execution_count": 292,
   "metadata": {},
   "outputs": [
    {
     "name": "stdout",
     "output_type": "stream",
     "text": [
      "2.8185369492738913e-09\n",
      "0.01844628009938582\n"
     ]
    }
   ],
   "source": [
    "print(np.average(result_Is))\n",
    "print(np.average(result_n))"
   ]
  }
 ],
 "metadata": {
  "kernelspec": {
   "display_name": "eqprop_python",
   "language": "python",
   "name": "python3"
  },
  "language_info": {
   "codemirror_mode": {
    "name": "ipython",
    "version": 3
   },
   "file_extension": ".py",
   "mimetype": "text/x-python",
   "name": "python",
   "nbconvert_exporter": "python",
   "pygments_lexer": "ipython3",
   "version": "3.7.13"
  },
  "orig_nbformat": 4
 },
 "nbformat": 4,
 "nbformat_minor": 2
}
