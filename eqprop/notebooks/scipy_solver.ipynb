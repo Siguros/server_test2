{
 "cells": [
  {
   "cell_type": "markdown",
   "metadata": {},
   "source": [
    "# setup"
   ]
  },
  {
   "cell_type": "code",
   "execution_count": null,
   "metadata": {},
   "outputs": [],
   "source": [
    "import numpy as np\n",
    "import torch\n",
    "from scipy.optimize import fsolve\n",
    "\n",
    "from src.eqprop.eqprop_util import OTS, P3OTS"
   ]
  },
  {
   "cell_type": "markdown",
   "metadata": {},
   "source": [
    "# prepare data"
   ]
  },
  {
   "cell_type": "code",
   "execution_count": null,
   "metadata": {},
   "outputs": [],
   "source": [
    "# dummy example\n",
    "batch_size = 32\n",
    "dims = [784, 100, 20]\n",
    "hdims = dims[1:]\n",
    "x = np.random.rand(batch_size, dims[0])\n",
    "W, B = [], []\n",
    "for i in range(len(dims) - 1):\n",
    "    W.append(np.random.rand(dims[i], dims[i + 1]).T)\n",
    "    B.append(np.random.rand(dims[i + 1]))\n",
    "# i_ext = np.random.rand(batch_size, dims[-1])\n",
    "i_ext = np.zeros((batch_size, dims[-1]))\n",
    "ots = P3OTS(Is=1e-6, Vth=1, Vl=0, Vr=0)\n",
    "B = np.concatenate(B, axis=-1)"
   ]
  },
  {
   "cell_type": "code",
   "execution_count": null,
   "metadata": {},
   "outputs": [],
   "source": [
    "# load from model ckpt\n",
    "ckpt_path = \".ckpt\"\n",
    "ckpt = torch.load(ckpt_path, weights_only=True, map_location=\"cpu\")"
   ]
  },
  {
   "cell_type": "markdown",
   "metadata": {},
   "source": [
    "# fsolve"
   ]
  },
  {
   "cell_type": "code",
   "execution_count": null,
   "metadata": {},
   "outputs": [],
   "source": [
    "def _lap(W: tuple[np.ndarray]):\n",
    "    if hasattr(_lap, \"L\"):\n",
    "        return _lap.L\n",
    "    global hdims\n",
    "    size = sum(hdims)\n",
    "\n",
    "    paddedG = [np.zeros((hdims[0], size))]\n",
    "    for i, g in enumerate(W[1:]):\n",
    "        padding = (\n",
    "            (0, 0),\n",
    "            (sum(hdims[:i]), sum(hdims[i + 1 :])),\n",
    "        )  # dim 0 (before, after), dim 1 (before, after)\n",
    "        paddedG.append(np.pad(-g, padding))\n",
    "    lower = np.concatenate(paddedG, axis=-2)\n",
    "    L = lower + lower.T\n",
    "    D0 = -lower.sum(axis=-2) - lower.sum(axis=-1) + np.pad(W[0].sum(axis=-1), (0, size - hdims[0]))\n",
    "    L += np.diag(D0)\n",
    "    _lap.L = L\n",
    "    return L\n",
    "\n",
    "\n",
    "def f(v: np.ndarray, x: np.ndarray, W: tuple[np.ndarray], B: np.ndarray, i_ext: np.ndarray):\n",
    "    L = _lap(W)\n",
    "    B = B.copy()\n",
    "    B[: hdims[0]] += x @ W[0].T\n",
    "    if i_ext is not None:\n",
    "        B[-hdims[-1] :] += i_ext\n",
    "    # initial solution\n",
    "    return L @ v - B + ots.i(torch.from_numpy(v)).numpy()\n",
    "\n",
    "\n",
    "def jac(v: np.ndarray, W: tuple[np.ndarray], *args):\n",
    "    L = _lap(W)\n",
    "    return L + ots.a(torch.from_numpy(v)).numpy()"
   ]
  },
  {
   "cell_type": "code",
   "execution_count": null,
   "metadata": {},
   "outputs": [],
   "source": [
    "v0 = np.linalg.solve(_lap(W), B)"
   ]
  },
  {
   "cell_type": "code",
   "execution_count": null,
   "metadata": {},
   "outputs": [],
   "source": [
    "for batch_idx in range(batch_size):\n",
    "    sol, info, _, msg = fsolve(\n",
    "        f, v0, fprime=jac, args=(x[batch_idx], W, B, i_ext[batch_idx]), full_output=True\n",
    "    )\n",
    "    # print(msg)"
   ]
  },
  {
   "cell_type": "markdown",
   "metadata": {},
   "source": [
    "# compare with newton solver"
   ]
  },
  {
   "cell_type": "code",
   "execution_count": null,
   "metadata": {},
   "outputs": [],
   "source": [
    "# load model"
   ]
  },
  {
   "cell_type": "markdown",
   "metadata": {},
   "source": [
    "# end"
   ]
  },
  {
   "cell_type": "markdown",
   "metadata": {},
   "source": []
  }
 ],
 "metadata": {
  "kernelspec": {
   "display_name": ".venv",
   "language": "python",
   "name": "python3"
  },
  "language_info": {
   "codemirror_mode": {
    "name": "ipython",
    "version": 3
   },
   "file_extension": ".py",
   "mimetype": "text/x-python",
   "name": "python",
   "nbconvert_exporter": "python",
   "pygments_lexer": "ipython3",
   "version": "3.11.0"
  }
 },
 "nbformat": 4,
 "nbformat_minor": 2
}
