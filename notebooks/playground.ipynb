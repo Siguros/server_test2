{
 "cells": [
  {
   "cell_type": "code",
   "execution_count": 3,
   "metadata": {},
   "outputs": [
    {
     "name": "stdout",
     "output_type": "stream",
     "text": [
      "torch.Size([1, 2, 6, 6])\n"
     ]
    },
    {
     "data": {
      "text/plain": [
       "tensor([[[12., 18., 18., 18., 18., 12.],\n",
       "         [18., 27., 27., 27., 27., 18.],\n",
       "         [18., 27., 27., 27., 27., 18.],\n",
       "         [18., 27., 27., 27., 27., 18.],\n",
       "         [18., 27., 27., 27., 27., 18.],\n",
       "         [12., 18., 18., 18., 18., 12.]],\n",
       "\n",
       "        [[12., 18., 18., 18., 18., 12.],\n",
       "         [18., 27., 27., 27., 27., 18.],\n",
       "         [18., 27., 27., 27., 27., 18.],\n",
       "         [18., 27., 27., 27., 27., 18.],\n",
       "         [18., 27., 27., 27., 27., 18.],\n",
       "         [12., 18., 18., 18., 18., 12.]]], grad_fn=<SelectBackward0>)"
      ]
     },
     "execution_count": 3,
     "metadata": {},
     "output_type": "execute_result"
    }
   ],
   "source": [
    "import torch\n",
    "import torch.nn as nn\n",
    "\n",
    "conv2d = nn.Conv2d(3, 2, kernel_size=3, padding=1, bias=False)\n",
    "conv2d.weight.data = torch.ones(2, 3, 3, 3)\n",
    "x = torch.ones(1, 3, 6, 6)\n",
    "\n",
    "y = conv2d(x)\n",
    "print(y.shape)\n",
    "y[0]"
   ]
  },
  {
   "cell_type": "code",
   "execution_count": null,
   "metadata": {},
   "outputs": [],
   "source": [
    "conv3d = nn.Conv3d(3, 2, kernel_size=3, padding=1, bias=False)\n",
    "conv3d.weight.data = torch.ones(2, 3, 3, 3, 3)\n",
    "\n",
    "x = torch.ones(1, 3, 6, 6, 6)"
   ]
  },
  {
   "cell_type": "markdown",
   "metadata": {},
   "source": [
    "# Hydra-zen"
   ]
  },
  {
   "cell_type": "code",
   "execution_count": 1,
   "metadata": {},
   "outputs": [],
   "source": [
    "from hydra_zen import builds, instantiate, to_yaml\n",
    "from src.models.components.simple_dense_net import SimpleDenseNet"
   ]
  },
  {
   "cell_type": "code",
   "execution_count": 2,
   "metadata": {},
   "outputs": [],
   "source": [
    "BackboneConf = builds(SimpleDenseNet, populate_full_signature=True)"
   ]
  },
  {
   "cell_type": "code",
   "execution_count": 3,
   "metadata": {},
   "outputs": [
    {
     "data": {
      "text/plain": [
       "SimpleDenseNet(\n",
       "  (model): Sequential(\n",
       "    (0): Linear(in_features=784, out_features=256, bias=True)\n",
       "    (1): BatchNorm1d(256, eps=1e-05, momentum=0.1, affine=True, track_running_stats=True)\n",
       "    (2): ReLU()\n",
       "    (3): Linear(in_features=256, out_features=256, bias=True)\n",
       "    (4): BatchNorm1d(256, eps=1e-05, momentum=0.1, affine=True, track_running_stats=True)\n",
       "    (5): ReLU()\n",
       "    (6): Linear(in_features=256, out_features=256, bias=True)\n",
       "    (7): BatchNorm1d(256, eps=1e-05, momentum=0.1, affine=True, track_running_stats=True)\n",
       "    (8): ReLU()\n",
       "    (9): Linear(in_features=256, out_features=20, bias=True)\n",
       "  )\n",
       ")"
      ]
     },
     "execution_count": 3,
     "metadata": {},
     "output_type": "execute_result"
    }
   ],
   "source": [
    "instantiate(BackboneConf(output_size=20))"
   ]
  },
  {
   "cell_type": "code",
   "execution_count": 4,
   "metadata": {},
   "outputs": [],
   "source": [
    "from configs.data import mnist"
   ]
  },
  {
   "cell_type": "code",
   "execution_count": 9,
   "metadata": {},
   "outputs": [
    {
     "ename": "TypeError",
     "evalue": "Building: 'torch.optim.Adam' ..\nIn `builds(<target>, ...), `<target>` must be callable/instantiable",
     "output_type": "error",
     "traceback": [
      "\u001b[0;31m---------------------------------------------------------------------------\u001b[0m",
      "\u001b[0;31mTypeError\u001b[0m                                 Traceback (most recent call last)",
      "Cell \u001b[0;32mIn[9], line 1\u001b[0m\n\u001b[0;32m----> 1\u001b[0m \u001b[43mbuilds\u001b[49m\u001b[43m(\u001b[49m\u001b[38;5;124;43m\"\u001b[39;49m\u001b[38;5;124;43mtorch.optim.Adam\u001b[39;49m\u001b[38;5;124;43m\"\u001b[39;49m\u001b[43m,\u001b[49m\u001b[43m \u001b[49m\u001b[43mpopulate_full_signature\u001b[49m\u001b[38;5;241;43m=\u001b[39;49m\u001b[38;5;28;43;01mTrue\u001b[39;49;00m\u001b[43m)\u001b[49m\n",
      "File \u001b[0;32m~/miniconda3/envs/torchbase/lib/python3.11/site-packages/hydra_zen/structured_configs/_implementations.py:1564\u001b[0m, in \u001b[0;36mbuilds\u001b[0;34m(***failed resolving arguments***)\u001b[0m\n\u001b[1;32m   1561\u001b[0m \u001b[38;5;28;01mdel\u001b[39;00m pos_args\n\u001b[1;32m   1563\u001b[0m \u001b[38;5;28;01mif\u001b[39;00m \u001b[38;5;129;01mnot\u001b[39;00m \u001b[38;5;28mcallable\u001b[39m(target):\n\u001b[0;32m-> 1564\u001b[0m     \u001b[38;5;28;01mraise\u001b[39;00m \u001b[38;5;167;01mTypeError\u001b[39;00m(\n\u001b[1;32m   1565\u001b[0m         BUILDS_ERROR_PREFIX\n\u001b[1;32m   1566\u001b[0m         \u001b[38;5;241m+\u001b[39m \u001b[38;5;124m\"\u001b[39m\u001b[38;5;124mIn `builds(<target>, ...), `<target>` must be callable/instantiable\u001b[39m\u001b[38;5;124m\"\u001b[39m\n\u001b[1;32m   1567\u001b[0m     )\n\u001b[1;32m   1569\u001b[0m \u001b[38;5;28;01mif\u001b[39;00m \u001b[38;5;129;01mnot\u001b[39;00m \u001b[38;5;28misinstance\u001b[39m(populate_full_signature, \u001b[38;5;28mbool\u001b[39m):\n\u001b[1;32m   1570\u001b[0m     \u001b[38;5;28;01mraise\u001b[39;00m \u001b[38;5;167;01mTypeError\u001b[39;00m(\n\u001b[1;32m   1571\u001b[0m         \u001b[38;5;124mf\u001b[39m\u001b[38;5;124m\"\u001b[39m\u001b[38;5;124m`populate_full_signature` must be a boolean type, got: \u001b[39m\u001b[38;5;132;01m{\u001b[39;00mpopulate_full_signature\u001b[38;5;132;01m}\u001b[39;00m\u001b[38;5;124m\"\u001b[39m\n\u001b[1;32m   1572\u001b[0m     )\n",
      "\u001b[0;31mTypeError\u001b[0m: Building: 'torch.optim.Adam' ..\nIn `builds(<target>, ...), `<target>` must be callable/instantiable"
     ]
    }
   ],
   "source": [
    "builds(\"torch.optim.Adam\", populate_full_signature=True)"
   ]
  },
  {
   "cell_type": "markdown",
   "metadata": {},
   "source": []
  }
 ],
 "metadata": {
  "kernelspec": {
   "display_name": "torchbase",
   "language": "python",
   "name": "python3"
  },
  "language_info": {
   "codemirror_mode": {
    "name": "ipython",
    "version": 3
   },
   "file_extension": ".py",
   "mimetype": "text/x-python",
   "name": "python",
   "nbconvert_exporter": "python",
   "pygments_lexer": "ipython3",
   "version": "3.11.4"
  }
 },
 "nbformat": 4,
 "nbformat_minor": 2
}
