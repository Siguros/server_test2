{
 "cells": [
  {
   "cell_type": "code",
   "execution_count": null,
   "metadata": {},
   "outputs": [],
   "source": [
    "import matplotlib.pyplot as plt\n",
    "import numpy as np\n",
    "from aihwkit.simulator.presets import (\n",
    "    MixedPrecisionEcRamMOPreset,\n",
    "    MixedPrecisionReRamESPreset,\n",
    "    StandardHWATrainingPreset,\n",
    ")\n",
    "from aihwkit.utils.visualization import plot_programming_error\n",
    "\n",
    "figure = plt.figure(figsize=[10, 5])\n",
    "ax = figure.add_subplot(1, 1, 1)\n",
    "\n",
    "for preset, name in [\n",
    "    (StandardHWATrainingPreset(), \"PCM model (1h)\"),\n",
    "    (MixedPrecisionReRamESPreset(), \"ReRAM [GDP]\"),\n",
    "    (MixedPrecisionEcRamMOPreset(), \"EcRAM MO [GDP]\"),\n",
    "]:\n",
    "    plot_programming_error(\n",
    "        preset,\n",
    "        w_range=(-0.9, 0.9),\n",
    "        n_bins=51,\n",
    "        t_inference=3600.0,\n",
    "        realistic_read=True,  # otherwise no drift compensation\n",
    "        label=name,\n",
    "        use_cuda=True,\n",
    "    )\n",
    "\n",
    "plt.legend()\n",
    "plt.show()"
   ]
  },
  {
   "cell_type": "code",
   "execution_count": null,
   "metadata": {},
   "outputs": [],
   "source": [
    "print(StandardHWATrainingPreset())"
   ]
  },
  {
   "cell_type": "code",
   "execution_count": null,
   "metadata": {},
   "outputs": [],
   "source": [
    "print(MixedPrecisionReRamESPreset())"
   ]
  },
  {
   "cell_type": "code",
   "execution_count": null,
   "metadata": {},
   "outputs": [],
   "source": []
  }
 ],
 "metadata": {
  "kernelspec": {
   "display_name": "aihw",
   "language": "python",
   "name": "python3"
  },
  "language_info": {
   "codemirror_mode": {
    "name": "ipython",
    "version": 3
   },
   "file_extension": ".py",
   "mimetype": "text/x-python",
   "name": "python",
   "nbconvert_exporter": "python",
   "pygments_lexer": "ipython3",
   "version": "3.11.9"
  }
 },
 "nbformat": 4,
 "nbformat_minor": 2
}
