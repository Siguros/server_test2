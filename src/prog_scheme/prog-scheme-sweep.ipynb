{
 "cells": [
  {
   "cell_type": "markdown",
   "metadata": {},
   "source": []
  },
  {
   "cell_type": "code",
   "execution_count": 2,
   "metadata": {},
   "outputs": [],
   "source": [
    "import wandb\n",
    "import torch\n",
    "from src.prog_scheme.utils import generate_target_weights, program_n_log\n",
    "from aihwkit.simulator.configs import SingleRPUConfig\n",
    "from aihwkit.simulator.configs.devices import LinearStepDevice\n",
    "from aihwkit.simulator.configs.utils import InputRangeParameter, PrePostProcessingParameter, UpdateParameters\n",
    "from aihwkit.simulator.parameters.enums import PulseType\n",
    "from aihwkit.simulator.tiles.analog import AnalogTile\n",
    "from torch import Tensor, eye\n",
    "from torch.autograd import no_grad\n",
    "from torch.linalg import lstsq\n",
    "import matplotlib.pyplot as plt\n",
    "import copy\n",
    "from typing import Optional, Tuple\n"
   ]
  },
  {
   "cell_type": "code",
   "execution_count": 3,
   "metadata": {},
   "outputs": [],
   "source": [
    "import torch\n",
    "import wandb\n",
    "import copy\n",
    "import matplotlib.pyplot as plt\n",
    "from typing import Any, List, Optional, Tuple, Union\n",
    "from torch import Tensor, eye\n",
    "from torch.autograd import no_grad\n",
    "from torch.linalg import lstsq"
   ]
  },
  {
   "cell_type": "code",
   "execution_count": 4,
   "metadata": {},
   "outputs": [],
   "source": [
    "from src.prog_scheme.utils import generate_target_weights, program_n_log,rpuconf2dict\n",
    "from aihwkit.simulator.configs import FloatingPointRPUConfig, SingleRPUConfig\n",
    "from aihwkit.simulator.configs.devices import (\n",
    "    ConstantStepDevice,\n",
    "    DriftParameter,\n",
    "    ExpStepDevice,\n",
    "    FloatingPointDevice,\n",
    "    IdealDevice,\n",
    "    LinearStepDevice,\n",
    "    SimpleDriftParameter,\n",
    ")\n",
    "from aihwkit.simulator.configs.utils import (\n",
    "    InputRangeParameter,\n",
    "    PrePostProcessingParameter,\n",
    "    UpdateParameters,\n",
    ")\n",
    "from aihwkit.simulator.parameters.enums import PulseType\n",
    "from aihwkit.simulator.presets.configs import IdealizedPreset, PCMPreset, ReRamSBPreset\n",
    "from aihwkit.simulator.presets.devices import IdealizedPresetDevice\n",
    "from aihwkit.simulator.tiles import FloatingPointTile\n",
    "\n",
    "from src.prog_scheme.kalman import ExpDeviceEKF, LinearDeviceEKF\n",
    "\n",
    "from aihwkit.simulator.tiles.analog import AnalogTile\n",
    "\n",
    "from aihwkit.simulator.tiles.periphery import TileWithPeriphery\n",
    "\n",
    "from src.prog_scheme.program_methods import gdp2, svd, svd_ekf_lqg, svd_kf"
   ]
  },
  {
   "cell_type": "markdown",
   "metadata": {},
   "source": [
    "Define customread_tile class"
   ]
  },
  {
   "cell_type": "code",
   "execution_count": 5,
   "metadata": {},
   "outputs": [],
   "source": [
    "\n",
    "class customread_tile(AnalogTile):\n",
    "    @no_grad()\n",
    "    def read_weights_(\n",
    "        self,\n",
    "        apply_weight_scaling: bool = False,\n",
    "        x_values: Optional[Tensor] = None,\n",
    "        x_rand: bool = False,\n",
    "        over_sampling: int = 10,\n",
    "    ) -> Tuple[Tensor, Optional[Tensor]]:\n",
    "        \"\"\"Reads the weights (and biases) in a realistic manner\n",
    "        by using the forward pass for weights readout.\n",
    "\n",
    "        Gets the tile weights and extracts the mathematical weight\n",
    "        matrix and biases (if present, by determined by the ``self.analog_bias``\n",
    "        parameter).\n",
    "\n",
    "        The weight will not be directly read, but linearly estimated\n",
    "        using random inputs using the analog forward pass.\n",
    "\n",
    "        Note:\n",
    "\n",
    "            If the tile includes digital periphery (e.g. out scaling),\n",
    "            these will be applied. Thus this weight is the logical\n",
    "            weights that correspond to the weights in an FP network.\n",
    "\n",
    "        Note:\n",
    "            weights are estimated using the ``lstsq`` solver from torch.\n",
    "\n",
    "        Args:\n",
    "            apply_weight_scaling: Whether to rescale the given weight matrix\n",
    "                and populate the digital output scaling factors as\n",
    "                specified in the configuration\n",
    "                :class:`~aihwkit.simulator.configs.MappingParameter`. A\n",
    "                new ``weight_scaling_omega`` can be given. Note that\n",
    "                this will overwrite the existing digital out scaling\n",
    "                factors.\n",
    "\n",
    "            x_values: Values to use for estimating the matrix. If\n",
    "                not given, inputs are standard normal vectors.\n",
    "\n",
    "            over_sampling: If ``x_values`` is not given,\n",
    "                ``over_sampling * in_size`` random vectors are used\n",
    "                for the estimation\n",
    "\n",
    "        Returns:\n",
    "            a tuple where the first item is the ``[out_size, in_size]`` weight\n",
    "            matrix; and the second item is either the ``[out_size]`` bias vector\n",
    "            or ``None`` if the tile is set not to use bias.\n",
    "\n",
    "        Raises:\n",
    "            TileError: in case wrong code usage of TileWithPeriphery\n",
    "        \"\"\"\n",
    "        dtype = self.get_dtype()\n",
    "        if x_values is None:\n",
    "            x_values = eye(self.in_size, self.in_size, device=self.device, dtype=dtype)\n",
    "            if x_rand:\n",
    "                x_values = torch.rand(self.in_size, self.in_size, device=self.device, dtype=dtype)\n",
    "        else:\n",
    "            x_values = x_values.to(self.device)\n",
    "\n",
    "        x_values = x_values.repeat(over_sampling, 1)\n",
    "\n",
    "        # forward pass in eval mode\n",
    "        was_training = self.training\n",
    "        is_indexed = self.is_indexed()\n",
    "        self.eval()\n",
    "        if is_indexed:\n",
    "            self.analog_ctx.set_indexed(False)\n",
    "        y_values = self.forward(x_values)\n",
    "        if was_training:\n",
    "            self.train()\n",
    "        if is_indexed:\n",
    "            self.analog_ctx.set_indexed(True)\n",
    "\n",
    "        if self.bias is not None:\n",
    "            y_values -= self.bias\n",
    "\n",
    "        est_weight = lstsq(x_values, y_values).solution.T.cpu()\n",
    "        weight, bias = self._separate_weights(est_weight)\n",
    "\n",
    "        if self.digital_bias:\n",
    "            bias = self.bias.detach().cpu()\n",
    "\n",
    "        if not apply_weight_scaling:\n",
    "            # we de-apply all scales\n",
    "            alpha = self.get_scales()\n",
    "            if alpha is not None:\n",
    "                alpha = alpha.detach().cpu()\n",
    "                return (weight / alpha.view(-1, 1), bias / alpha if self.analog_bias else bias)\n",
    "        return weight, bias"
   ]
  },
  {
   "cell_type": "markdown",
   "metadata": {},
   "source": [
    "sweep main function"
   ]
  },
  {
   "cell_type": "code",
   "execution_count": 6,
   "metadata": {},
   "outputs": [],
   "source": [
    "def main():\n",
    "    # Define default parameters\n",
    "    default_config = {\n",
    "        'input_size': 100,\n",
    "        'output_size': 50,\n",
    "        'rank': 50,\n",
    "        'over_sampling': 10,\n",
    "        'x_rand': False,\n",
    "        'batch_size': 1,\n",
    "        'tol': 1e-8,\n",
    "        'max_iter': 1000,\n",
    "        'norm_type': \"fro\",\n",
    "        'svd_every_k_iter': 5,\n",
    "        'read_noise_std': 0.1,\n",
    "        'update_noise_std': 0.1,\n",
    "        'w_init': 0.01,\n",
    "        'gamma_up': 0.1,\n",
    "        'gamma_down': 0.1,\n",
    "        'desired_bl': 127,\n",
    "        'w_max': 1,\n",
    "        'w_min': -1,\n",
    "    }\n",
    "\n",
    "\n",
    "\n",
    "    # Initialize wandb\n",
    "    wandb.init(config=default_config)\n",
    "    config = wandb.config\n",
    "\n",
    "\n",
    "\n",
    "    # Extract parameters from wandb.config\n",
    "    input_size = config.input_size\n",
    "    output_size = config.output_size\n",
    "    rank = config.rank\n",
    "    dim = input_size * output_size\n",
    "    over_sampling = config.over_sampling\n",
    "    x_rand = config.x_rand\n",
    "    batch_size = config.batch_size\n",
    "    tol = config.tol\n",
    "    max_iter = config.max_iter\n",
    "    norm_type = config.norm_type\n",
    "    svd_every_k_iter = config.svd_every_k_iter\n",
    "    read_noise_std = config.read_noise_std\n",
    "    update_noise_std = config.update_noise_std\n",
    "    w_init = config.w_init\n",
    "\n",
    "    # Generate low rank matrix\n",
    "    w_target = generate_target_weights(input_size, output_size, rank)\n",
    "\n",
    "    # Configure device and RPU\n",
    "    pre_post_cfg = PrePostProcessingParameter(input_range=InputRangeParameter(enable=False))\n",
    "    device_cfg = LinearStepDevice()\n",
    "    update_cfg = UpdateParameters(pulse_type=PulseType.STOCHASTIC, desired_bl=config.desired_bl)\n",
    "    rpuconfig = SingleRPUConfig(update=update_cfg, device=device_cfg)\n",
    "    rpuconfig.forward.out_noise = read_noise_std\n",
    "    rpuconfig.device.write_noise_std = update_noise_std\n",
    "    rpuconfig.device.w_max = config.w_max\n",
    "    rpuconfig.device.gamma_up = config.gamma_up\n",
    "    rpuconfig.device.gamma_down = config.gamma_down\n",
    "    rpuconfig.device.w_min = config.w_min\n",
    "    rpuconfig.device.w_max_dtod = 0.01\n",
    "    rpuconfig.device.w_min_dtod = 0.01\n",
    "    rpuconfig.device.dw_min_std = 0.0\n",
    "    rpuconfig.device.mult_noise = False  # Additive noise\n",
    "\n",
    "    # Convert RPU config to dict\n",
    "    rpuconf_dict = rpuconf2dict(rpuconfig, max_depth=2)\n",
    "    if isinstance(rpuconfig.device, LinearStepDevice):\n",
    "        device_ekf = LinearDeviceEKF(\n",
    "            dim=dim,\n",
    "            read_noise_std=read_noise_std,\n",
    "            update_noise_std=update_noise_std,\n",
    "            **rpuconf_dict[\"device\"],\n",
    "        )\n",
    "    elif isinstance(rpuconfig.device, ExpStepDevice):\n",
    "        device_ekf = ExpDeviceEKF(\n",
    "            dim=dim,\n",
    "            read_noise_std=read_noise_std,\n",
    "            update_noise_std=update_noise_std,\n",
    "            **rpuconf_dict[\"device\"],\n",
    "        )\n",
    "    else:\n",
    "        device_ekf = None\n",
    "\n",
    "    conf = {\n",
    "        **rpuconf_dict,\n",
    "        \"matrix\": {\"input_size\": input_size, \"output_size\": output_size, \"rank\": rank},\n",
    "        \"methods\": {\n",
    "            \"device_ekf\": device_ekf,\n",
    "            \"tolerance\": tol,\n",
    "            \"max_iter\": max_iter,\n",
    "            \"batch_size\": batch_size,\n",
    "            \"norm_type\": norm_type,\n",
    "            \"svd_every_k_iter\": svd_every_k_iter,\n",
    "            \"read_noise_std\": read_noise_std,\n",
    "            \"update_noise_std\": update_noise_std,\n",
    "            \"w_init\": w_init,\n",
    "            \"over_sampling\": over_sampling,\n",
    "            \"x_rand\": x_rand,\n",
    "        },\n",
    "    }\n",
    "\n",
    "    # Initialize tiles\n",
    "    atile = customread_tile(output_size, input_size, rpu_config=rpuconfig)  # with periphery\n",
    "    atile_dic = {}\n",
    "    atile.state_dict(atile_dic)\n",
    "    # atile2 = AnalogTile(output_size, input_size, rpu_config=rpuconfig)\n",
    "    atile2 = copy.deepcopy(atile)\n",
    "    # atile2.load_state_dict(atile_dic, assign=True)\n",
    "    # atile3 = AnalogTile(output_size, input_size, rpu_config=rpuconfig)\n",
    "    atile3 = copy.deepcopy(atile)\n",
    "    atile4 = copy.deepcopy(atile)\n",
    "    \n",
    "    atile.program_weights = gdp2.__get__(atile, TileWithPeriphery)\n",
    "    atile2.program_weights = svd.__get__(atile2, TileWithPeriphery)\n",
    "    atile3.program_weights = svd_kf.__get__(atile3, TileWithPeriphery)\n",
    "    atile4.program_weights = svd_ekf_lqg.__get__(atile4, TileWithPeriphery)\n",
    "    tiles = [atile, atile2, atile3]\n",
    "    tiles.append(atile4) if device_ekf is not None else None\n",
    "    method_names = [t.program_weights.__name__ for t in tiles]\n",
    "\n",
    "    # Program and log errors\n",
    "    err_lists = program_n_log(tiles, w_target.T, conf.get(\"methods\", {}))\n",
    "\n",
    "    # Log errors to wandb\n",
    "    for idx, err in enumerate(err_lists):\n",
    "        # Log the last error value for each method\n",
    "        wandb.log({f\"{method_names[idx]} Error\": err[-1]})\n",
    "        plt.semilogy(err, label=method_names[idx])\n",
    "\n",
    "    plt.xlabel(\"Iteration\")\n",
    "    plt.ylabel(f\"{norm_type} norm of weight error\")\n",
    "    plt.title(f\"Error vs Iteration @ {input_size}x{output_size}, rank={rank}\")\n",
    "    plt.legend()\n",
    "    plt.savefig(\"error_plot.png\")\n",
    "    wandb.log({\"Error Plot\": wandb.Image(\"error_plot.png\")})\n",
    "    plt.close()\n",
    "    \n",
    " "
   ]
  },
  {
   "cell_type": "markdown",
   "metadata": {},
   "source": [
    "Sweep"
   ]
  },
  {
   "cell_type": "code",
   "execution_count": 7,
   "metadata": {},
   "outputs": [
    {
     "name": "stderr",
     "output_type": "stream",
     "text": [
      "\u001b[34m\u001b[1mwandb\u001b[0m: Using wandb-core as the SDK backend. Please refer to https://wandb.me/wandb-core for more information.\n"
     ]
    },
    {
     "name": "stdout",
     "output_type": "stream",
     "text": [
      "Create sweep with ID: isn9lcsx\n",
      "Sweep URL: https://wandb.ai/spk/prog-scheme-sweep/sweeps/isn9lcsx\n"
     ]
    },
    {
     "name": "stderr",
     "output_type": "stream",
     "text": [
      "\u001b[34m\u001b[1mwandb\u001b[0m: Agent Starting Run: 8qp56h70 with config:\n",
      "\u001b[34m\u001b[1mwandb\u001b[0m: \trank: 10\n",
      "\u001b[34m\u001b[1mwandb\u001b[0m: \tsvd_every_k_iter: 1\n",
      "\u001b[34m\u001b[1mwandb\u001b[0m: Currently logged in as: \u001b[33mminwookk5\u001b[0m (\u001b[33mspk\u001b[0m). Use \u001b[1m`wandb login --relogin`\u001b[0m to force relogin\n"
     ]
    },
    {
     "data": {
      "text/html": [
       "Tracking run with wandb version 0.18.5"
      ],
      "text/plain": [
       "<IPython.core.display.HTML object>"
      ]
     },
     "metadata": {},
     "output_type": "display_data"
    },
    {
     "data": {
      "text/html": [
       "Run data is saved locally in <code>/home/minwook/ml/src/prog_scheme/wandb/run-20241108_153828-8qp56h70</code>"
      ],
      "text/plain": [
       "<IPython.core.display.HTML object>"
      ]
     },
     "metadata": {},
     "output_type": "display_data"
    },
    {
     "data": {
      "text/html": [
       "Syncing run <strong><a href='https://wandb.ai/spk/prog-scheme-sweep/runs/8qp56h70' target=\"_blank\">trim-sweep-1</a></strong> to <a href='https://wandb.ai/spk/prog-scheme-sweep' target=\"_blank\">Weights & Biases</a> (<a href='https://wandb.me/run' target=\"_blank\">docs</a>)<br/>Sweep page: <a href='https://wandb.ai/spk/prog-scheme-sweep/sweeps/isn9lcsx' target=\"_blank\">https://wandb.ai/spk/prog-scheme-sweep/sweeps/isn9lcsx</a>"
      ],
      "text/plain": [
       "<IPython.core.display.HTML object>"
      ]
     },
     "metadata": {},
     "output_type": "display_data"
    },
    {
     "data": {
      "text/html": [
       " View project at <a href='https://wandb.ai/spk/prog-scheme-sweep' target=\"_blank\">https://wandb.ai/spk/prog-scheme-sweep</a>"
      ],
      "text/plain": [
       "<IPython.core.display.HTML object>"
      ]
     },
     "metadata": {},
     "output_type": "display_data"
    },
    {
     "data": {
      "text/html": [
       " View sweep at <a href='https://wandb.ai/spk/prog-scheme-sweep/sweeps/isn9lcsx' target=\"_blank\">https://wandb.ai/spk/prog-scheme-sweep/sweeps/isn9lcsx</a>"
      ],
      "text/plain": [
       "<IPython.core.display.HTML object>"
      ]
     },
     "metadata": {},
     "output_type": "display_data"
    },
    {
     "data": {
      "text/html": [
       " View run at <a href='https://wandb.ai/spk/prog-scheme-sweep/runs/8qp56h70' target=\"_blank\">https://wandb.ai/spk/prog-scheme-sweep/runs/8qp56h70</a>"
      ],
      "text/plain": [
       "<IPython.core.display.HTML object>"
      ]
     },
     "metadata": {},
     "output_type": "display_data"
    },
    {
     "name": "stdout",
     "output_type": "stream",
     "text": [
      "Programming time: 13.09s\n",
      "Programming time: 4.94s\n",
      "Programming time: 4.72s\n",
      "Programming time: 4.70s\n"
     ]
    },
    {
     "data": {
      "text/html": [
       "<style>\n",
       "    table.wandb td:nth-child(1) { padding: 0 10px; text-align: left ; width: auto;} td:nth-child(2) {text-align: left ; width: 100%}\n",
       "    .wandb-row { display: flex; flex-direction: row; flex-wrap: wrap; justify-content: flex-start; width: 100% }\n",
       "    .wandb-col { display: flex; flex-direction: column; flex-basis: 100%; flex: 1; padding: 10px; }\n",
       "    </style>\n",
       "<div class=\"wandb-row\"><div class=\"wandb-col\"><h3>Run history:</h3><br/><table class=\"wandb\"><tr><td>gdp2 Error</td><td>▁</td></tr><tr><td>svd Error</td><td>▁</td></tr><tr><td>svd_ekf_lqg Error</td><td>▁</td></tr><tr><td>svd_kf Error</td><td>▁</td></tr></table><br/></div><div class=\"wandb-col\"><h3>Run summary:</h3><br/><table class=\"wandb\"><tr><td>gdp2 Error</td><td>2.4298</td></tr><tr><td>svd Error</td><td>2.42531</td></tr><tr><td>svd_ekf_lqg Error</td><td>1.72679</td></tr><tr><td>svd_kf Error</td><td>1.63733</td></tr></table><br/></div></div>"
      ],
      "text/plain": [
       "<IPython.core.display.HTML object>"
      ]
     },
     "metadata": {},
     "output_type": "display_data"
    },
    {
     "data": {
      "text/html": [
       " View run <strong style=\"color:#cdcd00\">trim-sweep-1</strong> at: <a href='https://wandb.ai/spk/prog-scheme-sweep/runs/8qp56h70' target=\"_blank\">https://wandb.ai/spk/prog-scheme-sweep/runs/8qp56h70</a><br/> View project at: <a href='https://wandb.ai/spk/prog-scheme-sweep' target=\"_blank\">https://wandb.ai/spk/prog-scheme-sweep</a><br/>Synced 5 W&B file(s), 0 media file(s), 2 artifact file(s) and 1 other file(s)"
      ],
      "text/plain": [
       "<IPython.core.display.HTML object>"
      ]
     },
     "metadata": {},
     "output_type": "display_data"
    },
    {
     "data": {
      "text/html": [
       "Find logs at: <code>./wandb/run-20241108_153828-8qp56h70/logs</code>"
      ],
      "text/plain": [
       "<IPython.core.display.HTML object>"
      ]
     },
     "metadata": {},
     "output_type": "display_data"
    },
    {
     "name": "stderr",
     "output_type": "stream",
     "text": [
      "\u001b[34m\u001b[1mwandb\u001b[0m: Agent Starting Run: ez5f2h74 with config:\n",
      "\u001b[34m\u001b[1mwandb\u001b[0m: \trank: 10\n",
      "\u001b[34m\u001b[1mwandb\u001b[0m: \tsvd_every_k_iter: 5\n"
     ]
    },
    {
     "data": {
      "text/html": [
       "Tracking run with wandb version 0.18.5"
      ],
      "text/plain": [
       "<IPython.core.display.HTML object>"
      ]
     },
     "metadata": {},
     "output_type": "display_data"
    },
    {
     "data": {
      "text/html": [
       "Run data is saved locally in <code>/home/minwook/ml/src/prog_scheme/wandb/run-20241108_153905-ez5f2h74</code>"
      ],
      "text/plain": [
       "<IPython.core.display.HTML object>"
      ]
     },
     "metadata": {},
     "output_type": "display_data"
    },
    {
     "data": {
      "text/html": [
       "Syncing run <strong><a href='https://wandb.ai/spk/prog-scheme-sweep/runs/ez5f2h74' target=\"_blank\">fiery-sweep-2</a></strong> to <a href='https://wandb.ai/spk/prog-scheme-sweep' target=\"_blank\">Weights & Biases</a> (<a href='https://wandb.me/run' target=\"_blank\">docs</a>)<br/>Sweep page: <a href='https://wandb.ai/spk/prog-scheme-sweep/sweeps/isn9lcsx' target=\"_blank\">https://wandb.ai/spk/prog-scheme-sweep/sweeps/isn9lcsx</a>"
      ],
      "text/plain": [
       "<IPython.core.display.HTML object>"
      ]
     },
     "metadata": {},
     "output_type": "display_data"
    },
    {
     "data": {
      "text/html": [
       " View project at <a href='https://wandb.ai/spk/prog-scheme-sweep' target=\"_blank\">https://wandb.ai/spk/prog-scheme-sweep</a>"
      ],
      "text/plain": [
       "<IPython.core.display.HTML object>"
      ]
     },
     "metadata": {},
     "output_type": "display_data"
    },
    {
     "data": {
      "text/html": [
       " View sweep at <a href='https://wandb.ai/spk/prog-scheme-sweep/sweeps/isn9lcsx' target=\"_blank\">https://wandb.ai/spk/prog-scheme-sweep/sweeps/isn9lcsx</a>"
      ],
      "text/plain": [
       "<IPython.core.display.HTML object>"
      ]
     },
     "metadata": {},
     "output_type": "display_data"
    },
    {
     "data": {
      "text/html": [
       " View run at <a href='https://wandb.ai/spk/prog-scheme-sweep/runs/ez5f2h74' target=\"_blank\">https://wandb.ai/spk/prog-scheme-sweep/runs/ez5f2h74</a>"
      ],
      "text/plain": [
       "<IPython.core.display.HTML object>"
      ]
     },
     "metadata": {},
     "output_type": "display_data"
    },
    {
     "name": "stdout",
     "output_type": "stream",
     "text": [
      "Programming time: 12.97s\n",
      "Programming time: 2.03s\n",
      "Programming time: 4.16s\n",
      "Programming time: 4.41s\n"
     ]
    },
    {
     "data": {
      "text/html": [
       "<style>\n",
       "    table.wandb td:nth-child(1) { padding: 0 10px; text-align: left ; width: auto;} td:nth-child(2) {text-align: left ; width: 100%}\n",
       "    .wandb-row { display: flex; flex-direction: row; flex-wrap: wrap; justify-content: flex-start; width: 100% }\n",
       "    .wandb-col { display: flex; flex-direction: column; flex-basis: 100%; flex: 1; padding: 10px; }\n",
       "    </style>\n",
       "<div class=\"wandb-row\"><div class=\"wandb-col\"><h3>Run history:</h3><br/><table class=\"wandb\"><tr><td>gdp2 Error</td><td>▁</td></tr><tr><td>svd Error</td><td>▁</td></tr><tr><td>svd_ekf_lqg Error</td><td>▁</td></tr><tr><td>svd_kf Error</td><td>▁</td></tr></table><br/></div><div class=\"wandb-col\"><h3>Run summary:</h3><br/><table class=\"wandb\"><tr><td>gdp2 Error</td><td>2.53986</td></tr><tr><td>svd Error</td><td>2.50805</td></tr><tr><td>svd_ekf_lqg Error</td><td>1.80133</td></tr><tr><td>svd_kf Error</td><td>1.80133</td></tr></table><br/></div></div>"
      ],
      "text/plain": [
       "<IPython.core.display.HTML object>"
      ]
     },
     "metadata": {},
     "output_type": "display_data"
    },
    {
     "data": {
      "text/html": [
       " View run <strong style=\"color:#cdcd00\">fiery-sweep-2</strong> at: <a href='https://wandb.ai/spk/prog-scheme-sweep/runs/ez5f2h74' target=\"_blank\">https://wandb.ai/spk/prog-scheme-sweep/runs/ez5f2h74</a><br/> View project at: <a href='https://wandb.ai/spk/prog-scheme-sweep' target=\"_blank\">https://wandb.ai/spk/prog-scheme-sweep</a><br/>Synced 5 W&B file(s), 0 media file(s), 0 artifact file(s) and 1 other file(s)"
      ],
      "text/plain": [
       "<IPython.core.display.HTML object>"
      ]
     },
     "metadata": {},
     "output_type": "display_data"
    },
    {
     "data": {
      "text/html": [
       "Find logs at: <code>./wandb/run-20241108_153905-ez5f2h74/logs</code>"
      ],
      "text/plain": [
       "<IPython.core.display.HTML object>"
      ]
     },
     "metadata": {},
     "output_type": "display_data"
    },
    {
     "name": "stderr",
     "output_type": "stream",
     "text": [
      "\u001b[34m\u001b[1mwandb\u001b[0m: Agent Starting Run: zbh5e4s0 with config:\n",
      "\u001b[34m\u001b[1mwandb\u001b[0m: \trank: 10\n",
      "\u001b[34m\u001b[1mwandb\u001b[0m: \tsvd_every_k_iter: 10\n"
     ]
    },
    {
     "data": {
      "text/html": [
       "Tracking run with wandb version 0.18.5"
      ],
      "text/plain": [
       "<IPython.core.display.HTML object>"
      ]
     },
     "metadata": {},
     "output_type": "display_data"
    },
    {
     "data": {
      "text/html": [
       "Run data is saved locally in <code>/home/minwook/ml/src/prog_scheme/wandb/run-20241108_153937-zbh5e4s0</code>"
      ],
      "text/plain": [
       "<IPython.core.display.HTML object>"
      ]
     },
     "metadata": {},
     "output_type": "display_data"
    },
    {
     "data": {
      "text/html": [
       "Syncing run <strong><a href='https://wandb.ai/spk/prog-scheme-sweep/runs/zbh5e4s0' target=\"_blank\">colorful-sweep-3</a></strong> to <a href='https://wandb.ai/spk/prog-scheme-sweep' target=\"_blank\">Weights & Biases</a> (<a href='https://wandb.me/run' target=\"_blank\">docs</a>)<br/>Sweep page: <a href='https://wandb.ai/spk/prog-scheme-sweep/sweeps/isn9lcsx' target=\"_blank\">https://wandb.ai/spk/prog-scheme-sweep/sweeps/isn9lcsx</a>"
      ],
      "text/plain": [
       "<IPython.core.display.HTML object>"
      ]
     },
     "metadata": {},
     "output_type": "display_data"
    },
    {
     "data": {
      "text/html": [
       " View project at <a href='https://wandb.ai/spk/prog-scheme-sweep' target=\"_blank\">https://wandb.ai/spk/prog-scheme-sweep</a>"
      ],
      "text/plain": [
       "<IPython.core.display.HTML object>"
      ]
     },
     "metadata": {},
     "output_type": "display_data"
    },
    {
     "data": {
      "text/html": [
       " View sweep at <a href='https://wandb.ai/spk/prog-scheme-sweep/sweeps/isn9lcsx' target=\"_blank\">https://wandb.ai/spk/prog-scheme-sweep/sweeps/isn9lcsx</a>"
      ],
      "text/plain": [
       "<IPython.core.display.HTML object>"
      ]
     },
     "metadata": {},
     "output_type": "display_data"
    },
    {
     "data": {
      "text/html": [
       " View run at <a href='https://wandb.ai/spk/prog-scheme-sweep/runs/zbh5e4s0' target=\"_blank\">https://wandb.ai/spk/prog-scheme-sweep/runs/zbh5e4s0</a>"
      ],
      "text/plain": [
       "<IPython.core.display.HTML object>"
      ]
     },
     "metadata": {},
     "output_type": "display_data"
    },
    {
     "name": "stdout",
     "output_type": "stream",
     "text": [
      "Programming time: 13.21s\n",
      "Programming time: 1.71s\n",
      "Programming time: 4.56s\n",
      "Programming time: 4.40s\n"
     ]
    },
    {
     "data": {
      "text/html": [
       "<style>\n",
       "    table.wandb td:nth-child(1) { padding: 0 10px; text-align: left ; width: auto;} td:nth-child(2) {text-align: left ; width: 100%}\n",
       "    .wandb-row { display: flex; flex-direction: row; flex-wrap: wrap; justify-content: flex-start; width: 100% }\n",
       "    .wandb-col { display: flex; flex-direction: column; flex-basis: 100%; flex: 1; padding: 10px; }\n",
       "    </style>\n",
       "<div class=\"wandb-row\"><div class=\"wandb-col\"><h3>Run history:</h3><br/><table class=\"wandb\"><tr><td>gdp2 Error</td><td>▁</td></tr><tr><td>svd Error</td><td>▁</td></tr><tr><td>svd_ekf_lqg Error</td><td>▁</td></tr><tr><td>svd_kf Error</td><td>▁</td></tr></table><br/></div><div class=\"wandb-col\"><h3>Run summary:</h3><br/><table class=\"wandb\"><tr><td>gdp2 Error</td><td>2.49583</td></tr><tr><td>svd Error</td><td>2.45985</td></tr><tr><td>svd_ekf_lqg Error</td><td>1.69543</td></tr><tr><td>svd_kf Error</td><td>1.69484</td></tr></table><br/></div></div>"
      ],
      "text/plain": [
       "<IPython.core.display.HTML object>"
      ]
     },
     "metadata": {},
     "output_type": "display_data"
    },
    {
     "data": {
      "text/html": [
       " View run <strong style=\"color:#cdcd00\">colorful-sweep-3</strong> at: <a href='https://wandb.ai/spk/prog-scheme-sweep/runs/zbh5e4s0' target=\"_blank\">https://wandb.ai/spk/prog-scheme-sweep/runs/zbh5e4s0</a><br/> View project at: <a href='https://wandb.ai/spk/prog-scheme-sweep' target=\"_blank\">https://wandb.ai/spk/prog-scheme-sweep</a><br/>Synced 5 W&B file(s), 0 media file(s), 0 artifact file(s) and 1 other file(s)"
      ],
      "text/plain": [
       "<IPython.core.display.HTML object>"
      ]
     },
     "metadata": {},
     "output_type": "display_data"
    },
    {
     "data": {
      "text/html": [
       "Find logs at: <code>./wandb/run-20241108_153937-zbh5e4s0/logs</code>"
      ],
      "text/plain": [
       "<IPython.core.display.HTML object>"
      ]
     },
     "metadata": {},
     "output_type": "display_data"
    },
    {
     "name": "stderr",
     "output_type": "stream",
     "text": [
      "\u001b[34m\u001b[1mwandb\u001b[0m: Agent Starting Run: tnbur1o1 with config:\n",
      "\u001b[34m\u001b[1mwandb\u001b[0m: \trank: 20\n",
      "\u001b[34m\u001b[1mwandb\u001b[0m: \tsvd_every_k_iter: 1\n"
     ]
    },
    {
     "data": {
      "text/html": [
       "Tracking run with wandb version 0.18.5"
      ],
      "text/plain": [
       "<IPython.core.display.HTML object>"
      ]
     },
     "metadata": {},
     "output_type": "display_data"
    },
    {
     "data": {
      "text/html": [
       "Run data is saved locally in <code>/home/minwook/ml/src/prog_scheme/wandb/run-20241108_154010-tnbur1o1</code>"
      ],
      "text/plain": [
       "<IPython.core.display.HTML object>"
      ]
     },
     "metadata": {},
     "output_type": "display_data"
    },
    {
     "data": {
      "text/html": [
       "Syncing run <strong><a href='https://wandb.ai/spk/prog-scheme-sweep/runs/tnbur1o1' target=\"_blank\">stellar-sweep-4</a></strong> to <a href='https://wandb.ai/spk/prog-scheme-sweep' target=\"_blank\">Weights & Biases</a> (<a href='https://wandb.me/run' target=\"_blank\">docs</a>)<br/>Sweep page: <a href='https://wandb.ai/spk/prog-scheme-sweep/sweeps/isn9lcsx' target=\"_blank\">https://wandb.ai/spk/prog-scheme-sweep/sweeps/isn9lcsx</a>"
      ],
      "text/plain": [
       "<IPython.core.display.HTML object>"
      ]
     },
     "metadata": {},
     "output_type": "display_data"
    },
    {
     "data": {
      "text/html": [
       " View project at <a href='https://wandb.ai/spk/prog-scheme-sweep' target=\"_blank\">https://wandb.ai/spk/prog-scheme-sweep</a>"
      ],
      "text/plain": [
       "<IPython.core.display.HTML object>"
      ]
     },
     "metadata": {},
     "output_type": "display_data"
    },
    {
     "data": {
      "text/html": [
       " View sweep at <a href='https://wandb.ai/spk/prog-scheme-sweep/sweeps/isn9lcsx' target=\"_blank\">https://wandb.ai/spk/prog-scheme-sweep/sweeps/isn9lcsx</a>"
      ],
      "text/plain": [
       "<IPython.core.display.HTML object>"
      ]
     },
     "metadata": {},
     "output_type": "display_data"
    },
    {
     "data": {
      "text/html": [
       " View run at <a href='https://wandb.ai/spk/prog-scheme-sweep/runs/tnbur1o1' target=\"_blank\">https://wandb.ai/spk/prog-scheme-sweep/runs/tnbur1o1</a>"
      ],
      "text/plain": [
       "<IPython.core.display.HTML object>"
      ]
     },
     "metadata": {},
     "output_type": "display_data"
    },
    {
     "name": "stdout",
     "output_type": "stream",
     "text": [
      "Programming time: 13.21s\n",
      "Programming time: 5.38s\n",
      "Programming time: 5.10s\n",
      "Programming time: 5.04s\n"
     ]
    },
    {
     "data": {
      "text/html": [
       "<style>\n",
       "    table.wandb td:nth-child(1) { padding: 0 10px; text-align: left ; width: auto;} td:nth-child(2) {text-align: left ; width: 100%}\n",
       "    .wandb-row { display: flex; flex-direction: row; flex-wrap: wrap; justify-content: flex-start; width: 100% }\n",
       "    .wandb-col { display: flex; flex-direction: column; flex-basis: 100%; flex: 1; padding: 10px; }\n",
       "    </style>\n",
       "<div class=\"wandb-row\"><div class=\"wandb-col\"><h3>Run history:</h3><br/><table class=\"wandb\"><tr><td>gdp2 Error</td><td>▁</td></tr><tr><td>svd Error</td><td>▁</td></tr><tr><td>svd_ekf_lqg Error</td><td>▁</td></tr><tr><td>svd_kf Error</td><td>▁</td></tr></table><br/></div><div class=\"wandb-col\"><h3>Run summary:</h3><br/><table class=\"wandb\"><tr><td>gdp2 Error</td><td>2.41863</td></tr><tr><td>svd Error</td><td>2.46497</td></tr><tr><td>svd_ekf_lqg Error</td><td>1.71614</td></tr><tr><td>svd_kf Error</td><td>1.70227</td></tr></table><br/></div></div>"
      ],
      "text/plain": [
       "<IPython.core.display.HTML object>"
      ]
     },
     "metadata": {},
     "output_type": "display_data"
    },
    {
     "data": {
      "text/html": [
       " View run <strong style=\"color:#cdcd00\">stellar-sweep-4</strong> at: <a href='https://wandb.ai/spk/prog-scheme-sweep/runs/tnbur1o1' target=\"_blank\">https://wandb.ai/spk/prog-scheme-sweep/runs/tnbur1o1</a><br/> View project at: <a href='https://wandb.ai/spk/prog-scheme-sweep' target=\"_blank\">https://wandb.ai/spk/prog-scheme-sweep</a><br/>Synced 5 W&B file(s), 0 media file(s), 0 artifact file(s) and 1 other file(s)"
      ],
      "text/plain": [
       "<IPython.core.display.HTML object>"
      ]
     },
     "metadata": {},
     "output_type": "display_data"
    },
    {
     "data": {
      "text/html": [
       "Find logs at: <code>./wandb/run-20241108_154010-tnbur1o1/logs</code>"
      ],
      "text/plain": [
       "<IPython.core.display.HTML object>"
      ]
     },
     "metadata": {},
     "output_type": "display_data"
    },
    {
     "name": "stderr",
     "output_type": "stream",
     "text": [
      "\u001b[34m\u001b[1mwandb\u001b[0m: Agent Starting Run: niy9fk4x with config:\n",
      "\u001b[34m\u001b[1mwandb\u001b[0m: \trank: 20\n",
      "\u001b[34m\u001b[1mwandb\u001b[0m: \tsvd_every_k_iter: 5\n"
     ]
    },
    {
     "data": {
      "text/html": [
       "Tracking run with wandb version 0.18.5"
      ],
      "text/plain": [
       "<IPython.core.display.HTML object>"
      ]
     },
     "metadata": {},
     "output_type": "display_data"
    },
    {
     "data": {
      "text/html": [
       "Run data is saved locally in <code>/home/minwook/ml/src/prog_scheme/wandb/run-20241108_154046-niy9fk4x</code>"
      ],
      "text/plain": [
       "<IPython.core.display.HTML object>"
      ]
     },
     "metadata": {},
     "output_type": "display_data"
    },
    {
     "data": {
      "text/html": [
       "Syncing run <strong><a href='https://wandb.ai/spk/prog-scheme-sweep/runs/niy9fk4x' target=\"_blank\">frosty-sweep-5</a></strong> to <a href='https://wandb.ai/spk/prog-scheme-sweep' target=\"_blank\">Weights & Biases</a> (<a href='https://wandb.me/run' target=\"_blank\">docs</a>)<br/>Sweep page: <a href='https://wandb.ai/spk/prog-scheme-sweep/sweeps/isn9lcsx' target=\"_blank\">https://wandb.ai/spk/prog-scheme-sweep/sweeps/isn9lcsx</a>"
      ],
      "text/plain": [
       "<IPython.core.display.HTML object>"
      ]
     },
     "metadata": {},
     "output_type": "display_data"
    },
    {
     "data": {
      "text/html": [
       " View project at <a href='https://wandb.ai/spk/prog-scheme-sweep' target=\"_blank\">https://wandb.ai/spk/prog-scheme-sweep</a>"
      ],
      "text/plain": [
       "<IPython.core.display.HTML object>"
      ]
     },
     "metadata": {},
     "output_type": "display_data"
    },
    {
     "data": {
      "text/html": [
       " View sweep at <a href='https://wandb.ai/spk/prog-scheme-sweep/sweeps/isn9lcsx' target=\"_blank\">https://wandb.ai/spk/prog-scheme-sweep/sweeps/isn9lcsx</a>"
      ],
      "text/plain": [
       "<IPython.core.display.HTML object>"
      ]
     },
     "metadata": {},
     "output_type": "display_data"
    },
    {
     "data": {
      "text/html": [
       " View run at <a href='https://wandb.ai/spk/prog-scheme-sweep/runs/niy9fk4x' target=\"_blank\">https://wandb.ai/spk/prog-scheme-sweep/runs/niy9fk4x</a>"
      ],
      "text/plain": [
       "<IPython.core.display.HTML object>"
      ]
     },
     "metadata": {},
     "output_type": "display_data"
    },
    {
     "name": "stdout",
     "output_type": "stream",
     "text": [
      "Programming time: 13.22s\n",
      "Programming time: 2.37s\n",
      "Programming time: 4.83s\n",
      "Programming time: 4.69s\n"
     ]
    },
    {
     "data": {
      "text/html": [
       "<style>\n",
       "    table.wandb td:nth-child(1) { padding: 0 10px; text-align: left ; width: auto;} td:nth-child(2) {text-align: left ; width: 100%}\n",
       "    .wandb-row { display: flex; flex-direction: row; flex-wrap: wrap; justify-content: flex-start; width: 100% }\n",
       "    .wandb-col { display: flex; flex-direction: column; flex-basis: 100%; flex: 1; padding: 10px; }\n",
       "    </style>\n",
       "<div class=\"wandb-row\"><div class=\"wandb-col\"><h3>Run history:</h3><br/><table class=\"wandb\"><tr><td>gdp2 Error</td><td>▁</td></tr><tr><td>svd Error</td><td>▁</td></tr><tr><td>svd_ekf_lqg Error</td><td>▁</td></tr><tr><td>svd_kf Error</td><td>▁</td></tr></table><br/></div><div class=\"wandb-col\"><h3>Run summary:</h3><br/><table class=\"wandb\"><tr><td>gdp2 Error</td><td>2.50641</td></tr><tr><td>svd Error</td><td>2.50549</td></tr><tr><td>svd_ekf_lqg Error</td><td>1.71257</td></tr><tr><td>svd_kf Error</td><td>1.69276</td></tr></table><br/></div></div>"
      ],
      "text/plain": [
       "<IPython.core.display.HTML object>"
      ]
     },
     "metadata": {},
     "output_type": "display_data"
    },
    {
     "data": {
      "text/html": [
       " View run <strong style=\"color:#cdcd00\">frosty-sweep-5</strong> at: <a href='https://wandb.ai/spk/prog-scheme-sweep/runs/niy9fk4x' target=\"_blank\">https://wandb.ai/spk/prog-scheme-sweep/runs/niy9fk4x</a><br/> View project at: <a href='https://wandb.ai/spk/prog-scheme-sweep' target=\"_blank\">https://wandb.ai/spk/prog-scheme-sweep</a><br/>Synced 5 W&B file(s), 0 media file(s), 0 artifact file(s) and 1 other file(s)"
      ],
      "text/plain": [
       "<IPython.core.display.HTML object>"
      ]
     },
     "metadata": {},
     "output_type": "display_data"
    },
    {
     "data": {
      "text/html": [
       "Find logs at: <code>./wandb/run-20241108_154046-niy9fk4x/logs</code>"
      ],
      "text/plain": [
       "<IPython.core.display.HTML object>"
      ]
     },
     "metadata": {},
     "output_type": "display_data"
    },
    {
     "name": "stderr",
     "output_type": "stream",
     "text": [
      "\u001b[34m\u001b[1mwandb\u001b[0m: Agent Starting Run: hc3lggfo with config:\n",
      "\u001b[34m\u001b[1mwandb\u001b[0m: \trank: 20\n",
      "\u001b[34m\u001b[1mwandb\u001b[0m: \tsvd_every_k_iter: 10\n"
     ]
    },
    {
     "data": {
      "text/html": [
       "Tracking run with wandb version 0.18.5"
      ],
      "text/plain": [
       "<IPython.core.display.HTML object>"
      ]
     },
     "metadata": {},
     "output_type": "display_data"
    },
    {
     "data": {
      "text/html": [
       "Run data is saved locally in <code>/home/minwook/ml/src/prog_scheme/wandb/run-20241108_154118-hc3lggfo</code>"
      ],
      "text/plain": [
       "<IPython.core.display.HTML object>"
      ]
     },
     "metadata": {},
     "output_type": "display_data"
    },
    {
     "data": {
      "text/html": [
       "Syncing run <strong><a href='https://wandb.ai/spk/prog-scheme-sweep/runs/hc3lggfo' target=\"_blank\">comic-sweep-6</a></strong> to <a href='https://wandb.ai/spk/prog-scheme-sweep' target=\"_blank\">Weights & Biases</a> (<a href='https://wandb.me/run' target=\"_blank\">docs</a>)<br/>Sweep page: <a href='https://wandb.ai/spk/prog-scheme-sweep/sweeps/isn9lcsx' target=\"_blank\">https://wandb.ai/spk/prog-scheme-sweep/sweeps/isn9lcsx</a>"
      ],
      "text/plain": [
       "<IPython.core.display.HTML object>"
      ]
     },
     "metadata": {},
     "output_type": "display_data"
    },
    {
     "data": {
      "text/html": [
       " View project at <a href='https://wandb.ai/spk/prog-scheme-sweep' target=\"_blank\">https://wandb.ai/spk/prog-scheme-sweep</a>"
      ],
      "text/plain": [
       "<IPython.core.display.HTML object>"
      ]
     },
     "metadata": {},
     "output_type": "display_data"
    },
    {
     "data": {
      "text/html": [
       " View sweep at <a href='https://wandb.ai/spk/prog-scheme-sweep/sweeps/isn9lcsx' target=\"_blank\">https://wandb.ai/spk/prog-scheme-sweep/sweeps/isn9lcsx</a>"
      ],
      "text/plain": [
       "<IPython.core.display.HTML object>"
      ]
     },
     "metadata": {},
     "output_type": "display_data"
    },
    {
     "data": {
      "text/html": [
       " View run at <a href='https://wandb.ai/spk/prog-scheme-sweep/runs/hc3lggfo' target=\"_blank\">https://wandb.ai/spk/prog-scheme-sweep/runs/hc3lggfo</a>"
      ],
      "text/plain": [
       "<IPython.core.display.HTML object>"
      ]
     },
     "metadata": {},
     "output_type": "display_data"
    },
    {
     "name": "stdout",
     "output_type": "stream",
     "text": [
      "Programming time: 13.36s\n",
      "Programming time: 1.82s\n",
      "Programming time: 4.44s\n",
      "Programming time: 4.52s\n"
     ]
    },
    {
     "data": {
      "text/html": [
       "<style>\n",
       "    table.wandb td:nth-child(1) { padding: 0 10px; text-align: left ; width: auto;} td:nth-child(2) {text-align: left ; width: 100%}\n",
       "    .wandb-row { display: flex; flex-direction: row; flex-wrap: wrap; justify-content: flex-start; width: 100% }\n",
       "    .wandb-col { display: flex; flex-direction: column; flex-basis: 100%; flex: 1; padding: 10px; }\n",
       "    </style>\n",
       "<div class=\"wandb-row\"><div class=\"wandb-col\"><h3>Run history:</h3><br/><table class=\"wandb\"><tr><td>gdp2 Error</td><td>▁</td></tr><tr><td>svd Error</td><td>▁</td></tr><tr><td>svd_ekf_lqg Error</td><td>▁</td></tr><tr><td>svd_kf Error</td><td>▁</td></tr></table><br/></div><div class=\"wandb-col\"><h3>Run summary:</h3><br/><table class=\"wandb\"><tr><td>gdp2 Error</td><td>2.47269</td></tr><tr><td>svd Error</td><td>2.51385</td></tr><tr><td>svd_ekf_lqg Error</td><td>1.71874</td></tr><tr><td>svd_kf Error</td><td>1.7373</td></tr></table><br/></div></div>"
      ],
      "text/plain": [
       "<IPython.core.display.HTML object>"
      ]
     },
     "metadata": {},
     "output_type": "display_data"
    },
    {
     "data": {
      "text/html": [
       " View run <strong style=\"color:#cdcd00\">comic-sweep-6</strong> at: <a href='https://wandb.ai/spk/prog-scheme-sweep/runs/hc3lggfo' target=\"_blank\">https://wandb.ai/spk/prog-scheme-sweep/runs/hc3lggfo</a><br/> View project at: <a href='https://wandb.ai/spk/prog-scheme-sweep' target=\"_blank\">https://wandb.ai/spk/prog-scheme-sweep</a><br/>Synced 5 W&B file(s), 0 media file(s), 0 artifact file(s) and 1 other file(s)"
      ],
      "text/plain": [
       "<IPython.core.display.HTML object>"
      ]
     },
     "metadata": {},
     "output_type": "display_data"
    },
    {
     "data": {
      "text/html": [
       "Find logs at: <code>./wandb/run-20241108_154118-hc3lggfo/logs</code>"
      ],
      "text/plain": [
       "<IPython.core.display.HTML object>"
      ]
     },
     "metadata": {},
     "output_type": "display_data"
    },
    {
     "name": "stderr",
     "output_type": "stream",
     "text": [
      "\u001b[34m\u001b[1mwandb\u001b[0m: Agent Starting Run: 19t34nxw with config:\n",
      "\u001b[34m\u001b[1mwandb\u001b[0m: \trank: 30\n",
      "\u001b[34m\u001b[1mwandb\u001b[0m: \tsvd_every_k_iter: 1\n"
     ]
    },
    {
     "data": {
      "text/html": [
       "Tracking run with wandb version 0.18.5"
      ],
      "text/plain": [
       "<IPython.core.display.HTML object>"
      ]
     },
     "metadata": {},
     "output_type": "display_data"
    },
    {
     "data": {
      "text/html": [
       "Run data is saved locally in <code>/home/minwook/ml/src/prog_scheme/wandb/run-20241108_154149-19t34nxw</code>"
      ],
      "text/plain": [
       "<IPython.core.display.HTML object>"
      ]
     },
     "metadata": {},
     "output_type": "display_data"
    },
    {
     "data": {
      "text/html": [
       "Syncing run <strong><a href='https://wandb.ai/spk/prog-scheme-sweep/runs/19t34nxw' target=\"_blank\">blooming-sweep-7</a></strong> to <a href='https://wandb.ai/spk/prog-scheme-sweep' target=\"_blank\">Weights & Biases</a> (<a href='https://wandb.me/run' target=\"_blank\">docs</a>)<br/>Sweep page: <a href='https://wandb.ai/spk/prog-scheme-sweep/sweeps/isn9lcsx' target=\"_blank\">https://wandb.ai/spk/prog-scheme-sweep/sweeps/isn9lcsx</a>"
      ],
      "text/plain": [
       "<IPython.core.display.HTML object>"
      ]
     },
     "metadata": {},
     "output_type": "display_data"
    },
    {
     "data": {
      "text/html": [
       " View project at <a href='https://wandb.ai/spk/prog-scheme-sweep' target=\"_blank\">https://wandb.ai/spk/prog-scheme-sweep</a>"
      ],
      "text/plain": [
       "<IPython.core.display.HTML object>"
      ]
     },
     "metadata": {},
     "output_type": "display_data"
    },
    {
     "data": {
      "text/html": [
       " View sweep at <a href='https://wandb.ai/spk/prog-scheme-sweep/sweeps/isn9lcsx' target=\"_blank\">https://wandb.ai/spk/prog-scheme-sweep/sweeps/isn9lcsx</a>"
      ],
      "text/plain": [
       "<IPython.core.display.HTML object>"
      ]
     },
     "metadata": {},
     "output_type": "display_data"
    },
    {
     "data": {
      "text/html": [
       " View run at <a href='https://wandb.ai/spk/prog-scheme-sweep/runs/19t34nxw' target=\"_blank\">https://wandb.ai/spk/prog-scheme-sweep/runs/19t34nxw</a>"
      ],
      "text/plain": [
       "<IPython.core.display.HTML object>"
      ]
     },
     "metadata": {},
     "output_type": "display_data"
    },
    {
     "name": "stdout",
     "output_type": "stream",
     "text": [
      "Programming time: 12.90s\n",
      "Programming time: 5.35s\n",
      "Programming time: 5.30s\n",
      "Programming time: 5.50s\n"
     ]
    },
    {
     "data": {
      "text/html": [
       "<style>\n",
       "    table.wandb td:nth-child(1) { padding: 0 10px; text-align: left ; width: auto;} td:nth-child(2) {text-align: left ; width: 100%}\n",
       "    .wandb-row { display: flex; flex-direction: row; flex-wrap: wrap; justify-content: flex-start; width: 100% }\n",
       "    .wandb-col { display: flex; flex-direction: column; flex-basis: 100%; flex: 1; padding: 10px; }\n",
       "    </style>\n",
       "<div class=\"wandb-row\"><div class=\"wandb-col\"><h3>Run history:</h3><br/><table class=\"wandb\"><tr><td>gdp2 Error</td><td>▁</td></tr><tr><td>svd Error</td><td>▁</td></tr><tr><td>svd_ekf_lqg Error</td><td>▁</td></tr><tr><td>svd_kf Error</td><td>▁</td></tr></table><br/></div><div class=\"wandb-col\"><h3>Run summary:</h3><br/><table class=\"wandb\"><tr><td>gdp2 Error</td><td>2.45308</td></tr><tr><td>svd Error</td><td>2.4787</td></tr><tr><td>svd_ekf_lqg Error</td><td>1.7326</td></tr><tr><td>svd_kf Error</td><td>1.71476</td></tr></table><br/></div></div>"
      ],
      "text/plain": [
       "<IPython.core.display.HTML object>"
      ]
     },
     "metadata": {},
     "output_type": "display_data"
    },
    {
     "data": {
      "text/html": [
       " View run <strong style=\"color:#cdcd00\">blooming-sweep-7</strong> at: <a href='https://wandb.ai/spk/prog-scheme-sweep/runs/19t34nxw' target=\"_blank\">https://wandb.ai/spk/prog-scheme-sweep/runs/19t34nxw</a><br/> View project at: <a href='https://wandb.ai/spk/prog-scheme-sweep' target=\"_blank\">https://wandb.ai/spk/prog-scheme-sweep</a><br/>Synced 5 W&B file(s), 0 media file(s), 0 artifact file(s) and 1 other file(s)"
      ],
      "text/plain": [
       "<IPython.core.display.HTML object>"
      ]
     },
     "metadata": {},
     "output_type": "display_data"
    },
    {
     "data": {
      "text/html": [
       "Find logs at: <code>./wandb/run-20241108_154149-19t34nxw/logs</code>"
      ],
      "text/plain": [
       "<IPython.core.display.HTML object>"
      ]
     },
     "metadata": {},
     "output_type": "display_data"
    },
    {
     "name": "stderr",
     "output_type": "stream",
     "text": [
      "\u001b[34m\u001b[1mwandb\u001b[0m: Agent Starting Run: b4o4ct19 with config:\n",
      "\u001b[34m\u001b[1mwandb\u001b[0m: \trank: 30\n",
      "\u001b[34m\u001b[1mwandb\u001b[0m: \tsvd_every_k_iter: 5\n"
     ]
    },
    {
     "data": {
      "text/html": [
       "Tracking run with wandb version 0.18.5"
      ],
      "text/plain": [
       "<IPython.core.display.HTML object>"
      ]
     },
     "metadata": {},
     "output_type": "display_data"
    },
    {
     "data": {
      "text/html": [
       "Run data is saved locally in <code>/home/minwook/ml/src/prog_scheme/wandb/run-20241108_154226-b4o4ct19</code>"
      ],
      "text/plain": [
       "<IPython.core.display.HTML object>"
      ]
     },
     "metadata": {},
     "output_type": "display_data"
    },
    {
     "data": {
      "text/html": [
       "Syncing run <strong><a href='https://wandb.ai/spk/prog-scheme-sweep/runs/b4o4ct19' target=\"_blank\">lucky-sweep-8</a></strong> to <a href='https://wandb.ai/spk/prog-scheme-sweep' target=\"_blank\">Weights & Biases</a> (<a href='https://wandb.me/run' target=\"_blank\">docs</a>)<br/>Sweep page: <a href='https://wandb.ai/spk/prog-scheme-sweep/sweeps/isn9lcsx' target=\"_blank\">https://wandb.ai/spk/prog-scheme-sweep/sweeps/isn9lcsx</a>"
      ],
      "text/plain": [
       "<IPython.core.display.HTML object>"
      ]
     },
     "metadata": {},
     "output_type": "display_data"
    },
    {
     "data": {
      "text/html": [
       " View project at <a href='https://wandb.ai/spk/prog-scheme-sweep' target=\"_blank\">https://wandb.ai/spk/prog-scheme-sweep</a>"
      ],
      "text/plain": [
       "<IPython.core.display.HTML object>"
      ]
     },
     "metadata": {},
     "output_type": "display_data"
    },
    {
     "data": {
      "text/html": [
       " View sweep at <a href='https://wandb.ai/spk/prog-scheme-sweep/sweeps/isn9lcsx' target=\"_blank\">https://wandb.ai/spk/prog-scheme-sweep/sweeps/isn9lcsx</a>"
      ],
      "text/plain": [
       "<IPython.core.display.HTML object>"
      ]
     },
     "metadata": {},
     "output_type": "display_data"
    },
    {
     "data": {
      "text/html": [
       " View run at <a href='https://wandb.ai/spk/prog-scheme-sweep/runs/b4o4ct19' target=\"_blank\">https://wandb.ai/spk/prog-scheme-sweep/runs/b4o4ct19</a>"
      ],
      "text/plain": [
       "<IPython.core.display.HTML object>"
      ]
     },
     "metadata": {},
     "output_type": "display_data"
    },
    {
     "name": "stdout",
     "output_type": "stream",
     "text": [
      "Programming time: 13.05s\n",
      "Programming time: 2.40s\n",
      "Programming time: 4.66s\n",
      "Programming time: 4.82s\n"
     ]
    },
    {
     "data": {
      "text/html": [
       "<style>\n",
       "    table.wandb td:nth-child(1) { padding: 0 10px; text-align: left ; width: auto;} td:nth-child(2) {text-align: left ; width: 100%}\n",
       "    .wandb-row { display: flex; flex-direction: row; flex-wrap: wrap; justify-content: flex-start; width: 100% }\n",
       "    .wandb-col { display: flex; flex-direction: column; flex-basis: 100%; flex: 1; padding: 10px; }\n",
       "    </style>\n",
       "<div class=\"wandb-row\"><div class=\"wandb-col\"><h3>Run history:</h3><br/><table class=\"wandb\"><tr><td>gdp2 Error</td><td>▁</td></tr><tr><td>svd Error</td><td>▁</td></tr><tr><td>svd_ekf_lqg Error</td><td>▁</td></tr><tr><td>svd_kf Error</td><td>▁</td></tr></table><br/></div><div class=\"wandb-col\"><h3>Run summary:</h3><br/><table class=\"wandb\"><tr><td>gdp2 Error</td><td>2.43264</td></tr><tr><td>svd Error</td><td>2.49436</td></tr><tr><td>svd_ekf_lqg Error</td><td>1.70677</td></tr><tr><td>svd_kf Error</td><td>1.67875</td></tr></table><br/></div></div>"
      ],
      "text/plain": [
       "<IPython.core.display.HTML object>"
      ]
     },
     "metadata": {},
     "output_type": "display_data"
    },
    {
     "data": {
      "text/html": [
       " View run <strong style=\"color:#cdcd00\">lucky-sweep-8</strong> at: <a href='https://wandb.ai/spk/prog-scheme-sweep/runs/b4o4ct19' target=\"_blank\">https://wandb.ai/spk/prog-scheme-sweep/runs/b4o4ct19</a><br/> View project at: <a href='https://wandb.ai/spk/prog-scheme-sweep' target=\"_blank\">https://wandb.ai/spk/prog-scheme-sweep</a><br/>Synced 5 W&B file(s), 0 media file(s), 0 artifact file(s) and 1 other file(s)"
      ],
      "text/plain": [
       "<IPython.core.display.HTML object>"
      ]
     },
     "metadata": {},
     "output_type": "display_data"
    },
    {
     "data": {
      "text/html": [
       "Find logs at: <code>./wandb/run-20241108_154226-b4o4ct19/logs</code>"
      ],
      "text/plain": [
       "<IPython.core.display.HTML object>"
      ]
     },
     "metadata": {},
     "output_type": "display_data"
    },
    {
     "name": "stderr",
     "output_type": "stream",
     "text": [
      "\u001b[34m\u001b[1mwandb\u001b[0m: Agent Starting Run: twtx0w79 with config:\n",
      "\u001b[34m\u001b[1mwandb\u001b[0m: \trank: 30\n",
      "\u001b[34m\u001b[1mwandb\u001b[0m: \tsvd_every_k_iter: 10\n"
     ]
    },
    {
     "data": {
      "text/html": [
       "Tracking run with wandb version 0.18.5"
      ],
      "text/plain": [
       "<IPython.core.display.HTML object>"
      ]
     },
     "metadata": {},
     "output_type": "display_data"
    },
    {
     "data": {
      "text/html": [
       "Run data is saved locally in <code>/home/minwook/ml/src/prog_scheme/wandb/run-20241108_154313-twtx0w79</code>"
      ],
      "text/plain": [
       "<IPython.core.display.HTML object>"
      ]
     },
     "metadata": {},
     "output_type": "display_data"
    },
    {
     "data": {
      "text/html": [
       "Syncing run <strong><a href='https://wandb.ai/spk/prog-scheme-sweep/runs/twtx0w79' target=\"_blank\">brisk-sweep-9</a></strong> to <a href='https://wandb.ai/spk/prog-scheme-sweep' target=\"_blank\">Weights & Biases</a> (<a href='https://wandb.me/run' target=\"_blank\">docs</a>)<br/>Sweep page: <a href='https://wandb.ai/spk/prog-scheme-sweep/sweeps/isn9lcsx' target=\"_blank\">https://wandb.ai/spk/prog-scheme-sweep/sweeps/isn9lcsx</a>"
      ],
      "text/plain": [
       "<IPython.core.display.HTML object>"
      ]
     },
     "metadata": {},
     "output_type": "display_data"
    },
    {
     "data": {
      "text/html": [
       " View project at <a href='https://wandb.ai/spk/prog-scheme-sweep' target=\"_blank\">https://wandb.ai/spk/prog-scheme-sweep</a>"
      ],
      "text/plain": [
       "<IPython.core.display.HTML object>"
      ]
     },
     "metadata": {},
     "output_type": "display_data"
    },
    {
     "data": {
      "text/html": [
       " View sweep at <a href='https://wandb.ai/spk/prog-scheme-sweep/sweeps/isn9lcsx' target=\"_blank\">https://wandb.ai/spk/prog-scheme-sweep/sweeps/isn9lcsx</a>"
      ],
      "text/plain": [
       "<IPython.core.display.HTML object>"
      ]
     },
     "metadata": {},
     "output_type": "display_data"
    },
    {
     "data": {
      "text/html": [
       " View run at <a href='https://wandb.ai/spk/prog-scheme-sweep/runs/twtx0w79' target=\"_blank\">https://wandb.ai/spk/prog-scheme-sweep/runs/twtx0w79</a>"
      ],
      "text/plain": [
       "<IPython.core.display.HTML object>"
      ]
     },
     "metadata": {},
     "output_type": "display_data"
    },
    {
     "name": "stdout",
     "output_type": "stream",
     "text": [
      "Programming time: 13.24s\n",
      "Programming time: 1.80s\n",
      "Programming time: 4.33s\n",
      "Programming time: 4.63s\n"
     ]
    },
    {
     "data": {
      "text/html": [
       "<style>\n",
       "    table.wandb td:nth-child(1) { padding: 0 10px; text-align: left ; width: auto;} td:nth-child(2) {text-align: left ; width: 100%}\n",
       "    .wandb-row { display: flex; flex-direction: row; flex-wrap: wrap; justify-content: flex-start; width: 100% }\n",
       "    .wandb-col { display: flex; flex-direction: column; flex-basis: 100%; flex: 1; padding: 10px; }\n",
       "    </style>\n",
       "<div class=\"wandb-row\"><div class=\"wandb-col\"><h3>Run history:</h3><br/><table class=\"wandb\"><tr><td>gdp2 Error</td><td>▁</td></tr><tr><td>svd Error</td><td>▁</td></tr><tr><td>svd_ekf_lqg Error</td><td>▁</td></tr><tr><td>svd_kf Error</td><td>▁</td></tr></table><br/></div><div class=\"wandb-col\"><h3>Run summary:</h3><br/><table class=\"wandb\"><tr><td>gdp2 Error</td><td>2.51729</td></tr><tr><td>svd Error</td><td>2.52886</td></tr><tr><td>svd_ekf_lqg Error</td><td>1.77518</td></tr><tr><td>svd_kf Error</td><td>1.72119</td></tr></table><br/></div></div>"
      ],
      "text/plain": [
       "<IPython.core.display.HTML object>"
      ]
     },
     "metadata": {},
     "output_type": "display_data"
    },
    {
     "data": {
      "text/html": [
       " View run <strong style=\"color:#cdcd00\">brisk-sweep-9</strong> at: <a href='https://wandb.ai/spk/prog-scheme-sweep/runs/twtx0w79' target=\"_blank\">https://wandb.ai/spk/prog-scheme-sweep/runs/twtx0w79</a><br/> View project at: <a href='https://wandb.ai/spk/prog-scheme-sweep' target=\"_blank\">https://wandb.ai/spk/prog-scheme-sweep</a><br/>Synced 5 W&B file(s), 0 media file(s), 0 artifact file(s) and 1 other file(s)"
      ],
      "text/plain": [
       "<IPython.core.display.HTML object>"
      ]
     },
     "metadata": {},
     "output_type": "display_data"
    },
    {
     "data": {
      "text/html": [
       "Find logs at: <code>./wandb/run-20241108_154313-twtx0w79/logs</code>"
      ],
      "text/plain": [
       "<IPython.core.display.HTML object>"
      ]
     },
     "metadata": {},
     "output_type": "display_data"
    },
    {
     "name": "stderr",
     "output_type": "stream",
     "text": [
      "\u001b[34m\u001b[1mwandb\u001b[0m: Agent Starting Run: 2asnsxbw with config:\n",
      "\u001b[34m\u001b[1mwandb\u001b[0m: \trank: 40\n",
      "\u001b[34m\u001b[1mwandb\u001b[0m: \tsvd_every_k_iter: 1\n"
     ]
    },
    {
     "data": {
      "text/html": [
       "Tracking run with wandb version 0.18.5"
      ],
      "text/plain": [
       "<IPython.core.display.HTML object>"
      ]
     },
     "metadata": {},
     "output_type": "display_data"
    },
    {
     "data": {
      "text/html": [
       "Run data is saved locally in <code>/home/minwook/ml/src/prog_scheme/wandb/run-20241108_154345-2asnsxbw</code>"
      ],
      "text/plain": [
       "<IPython.core.display.HTML object>"
      ]
     },
     "metadata": {},
     "output_type": "display_data"
    },
    {
     "data": {
      "text/html": [
       "Syncing run <strong><a href='https://wandb.ai/spk/prog-scheme-sweep/runs/2asnsxbw' target=\"_blank\">different-sweep-10</a></strong> to <a href='https://wandb.ai/spk/prog-scheme-sweep' target=\"_blank\">Weights & Biases</a> (<a href='https://wandb.me/run' target=\"_blank\">docs</a>)<br/>Sweep page: <a href='https://wandb.ai/spk/prog-scheme-sweep/sweeps/isn9lcsx' target=\"_blank\">https://wandb.ai/spk/prog-scheme-sweep/sweeps/isn9lcsx</a>"
      ],
      "text/plain": [
       "<IPython.core.display.HTML object>"
      ]
     },
     "metadata": {},
     "output_type": "display_data"
    },
    {
     "data": {
      "text/html": [
       " View project at <a href='https://wandb.ai/spk/prog-scheme-sweep' target=\"_blank\">https://wandb.ai/spk/prog-scheme-sweep</a>"
      ],
      "text/plain": [
       "<IPython.core.display.HTML object>"
      ]
     },
     "metadata": {},
     "output_type": "display_data"
    },
    {
     "data": {
      "text/html": [
       " View sweep at <a href='https://wandb.ai/spk/prog-scheme-sweep/sweeps/isn9lcsx' target=\"_blank\">https://wandb.ai/spk/prog-scheme-sweep/sweeps/isn9lcsx</a>"
      ],
      "text/plain": [
       "<IPython.core.display.HTML object>"
      ]
     },
     "metadata": {},
     "output_type": "display_data"
    },
    {
     "data": {
      "text/html": [
       " View run at <a href='https://wandb.ai/spk/prog-scheme-sweep/runs/2asnsxbw' target=\"_blank\">https://wandb.ai/spk/prog-scheme-sweep/runs/2asnsxbw</a>"
      ],
      "text/plain": [
       "<IPython.core.display.HTML object>"
      ]
     },
     "metadata": {},
     "output_type": "display_data"
    },
    {
     "name": "stdout",
     "output_type": "stream",
     "text": [
      "Programming time: 13.42s\n",
      "Programming time: 5.57s\n",
      "Programming time: 5.27s\n",
      "Programming time: 5.29s\n"
     ]
    },
    {
     "data": {
      "text/html": [
       "<style>\n",
       "    table.wandb td:nth-child(1) { padding: 0 10px; text-align: left ; width: auto;} td:nth-child(2) {text-align: left ; width: 100%}\n",
       "    .wandb-row { display: flex; flex-direction: row; flex-wrap: wrap; justify-content: flex-start; width: 100% }\n",
       "    .wandb-col { display: flex; flex-direction: column; flex-basis: 100%; flex: 1; padding: 10px; }\n",
       "    </style>\n",
       "<div class=\"wandb-row\"><div class=\"wandb-col\"><h3>Run history:</h3><br/><table class=\"wandb\"><tr><td>gdp2 Error</td><td>▁</td></tr><tr><td>svd Error</td><td>▁</td></tr><tr><td>svd_ekf_lqg Error</td><td>▁</td></tr><tr><td>svd_kf Error</td><td>▁</td></tr></table><br/></div><div class=\"wandb-col\"><h3>Run summary:</h3><br/><table class=\"wandb\"><tr><td>gdp2 Error</td><td>2.48722</td></tr><tr><td>svd Error</td><td>2.55173</td></tr><tr><td>svd_ekf_lqg Error</td><td>1.82698</td></tr><tr><td>svd_kf Error</td><td>1.73268</td></tr></table><br/></div></div>"
      ],
      "text/plain": [
       "<IPython.core.display.HTML object>"
      ]
     },
     "metadata": {},
     "output_type": "display_data"
    },
    {
     "data": {
      "text/html": [
       " View run <strong style=\"color:#cdcd00\">different-sweep-10</strong> at: <a href='https://wandb.ai/spk/prog-scheme-sweep/runs/2asnsxbw' target=\"_blank\">https://wandb.ai/spk/prog-scheme-sweep/runs/2asnsxbw</a><br/> View project at: <a href='https://wandb.ai/spk/prog-scheme-sweep' target=\"_blank\">https://wandb.ai/spk/prog-scheme-sweep</a><br/>Synced 5 W&B file(s), 0 media file(s), 0 artifact file(s) and 1 other file(s)"
      ],
      "text/plain": [
       "<IPython.core.display.HTML object>"
      ]
     },
     "metadata": {},
     "output_type": "display_data"
    },
    {
     "data": {
      "text/html": [
       "Find logs at: <code>./wandb/run-20241108_154345-2asnsxbw/logs</code>"
      ],
      "text/plain": [
       "<IPython.core.display.HTML object>"
      ]
     },
     "metadata": {},
     "output_type": "display_data"
    },
    {
     "name": "stderr",
     "output_type": "stream",
     "text": [
      "\u001b[34m\u001b[1mwandb\u001b[0m: Agent Starting Run: c10rrb87 with config:\n",
      "\u001b[34m\u001b[1mwandb\u001b[0m: \trank: 40\n",
      "\u001b[34m\u001b[1mwandb\u001b[0m: \tsvd_every_k_iter: 5\n"
     ]
    },
    {
     "data": {
      "text/html": [
       "Tracking run with wandb version 0.18.5"
      ],
      "text/plain": [
       "<IPython.core.display.HTML object>"
      ]
     },
     "metadata": {},
     "output_type": "display_data"
    },
    {
     "data": {
      "text/html": [
       "Run data is saved locally in <code>/home/minwook/ml/src/prog_scheme/wandb/run-20241108_154422-c10rrb87</code>"
      ],
      "text/plain": [
       "<IPython.core.display.HTML object>"
      ]
     },
     "metadata": {},
     "output_type": "display_data"
    },
    {
     "data": {
      "text/html": [
       "Syncing run <strong><a href='https://wandb.ai/spk/prog-scheme-sweep/runs/c10rrb87' target=\"_blank\">effortless-sweep-11</a></strong> to <a href='https://wandb.ai/spk/prog-scheme-sweep' target=\"_blank\">Weights & Biases</a> (<a href='https://wandb.me/run' target=\"_blank\">docs</a>)<br/>Sweep page: <a href='https://wandb.ai/spk/prog-scheme-sweep/sweeps/isn9lcsx' target=\"_blank\">https://wandb.ai/spk/prog-scheme-sweep/sweeps/isn9lcsx</a>"
      ],
      "text/plain": [
       "<IPython.core.display.HTML object>"
      ]
     },
     "metadata": {},
     "output_type": "display_data"
    },
    {
     "data": {
      "text/html": [
       " View project at <a href='https://wandb.ai/spk/prog-scheme-sweep' target=\"_blank\">https://wandb.ai/spk/prog-scheme-sweep</a>"
      ],
      "text/plain": [
       "<IPython.core.display.HTML object>"
      ]
     },
     "metadata": {},
     "output_type": "display_data"
    },
    {
     "data": {
      "text/html": [
       " View sweep at <a href='https://wandb.ai/spk/prog-scheme-sweep/sweeps/isn9lcsx' target=\"_blank\">https://wandb.ai/spk/prog-scheme-sweep/sweeps/isn9lcsx</a>"
      ],
      "text/plain": [
       "<IPython.core.display.HTML object>"
      ]
     },
     "metadata": {},
     "output_type": "display_data"
    },
    {
     "data": {
      "text/html": [
       " View run at <a href='https://wandb.ai/spk/prog-scheme-sweep/runs/c10rrb87' target=\"_blank\">https://wandb.ai/spk/prog-scheme-sweep/runs/c10rrb87</a>"
      ],
      "text/plain": [
       "<IPython.core.display.HTML object>"
      ]
     },
     "metadata": {},
     "output_type": "display_data"
    },
    {
     "name": "stdout",
     "output_type": "stream",
     "text": [
      "Programming time: 13.04s\n",
      "Programming time: 2.33s\n",
      "Programming time: 5.29s\n",
      "Programming time: 5.30s\n"
     ]
    },
    {
     "data": {
      "text/html": [
       "<style>\n",
       "    table.wandb td:nth-child(1) { padding: 0 10px; text-align: left ; width: auto;} td:nth-child(2) {text-align: left ; width: 100%}\n",
       "    .wandb-row { display: flex; flex-direction: row; flex-wrap: wrap; justify-content: flex-start; width: 100% }\n",
       "    .wandb-col { display: flex; flex-direction: column; flex-basis: 100%; flex: 1; padding: 10px; }\n",
       "    </style>\n",
       "<div class=\"wandb-row\"><div class=\"wandb-col\"><h3>Run history:</h3><br/><table class=\"wandb\"><tr><td>gdp2 Error</td><td>▁</td></tr><tr><td>svd Error</td><td>▁</td></tr><tr><td>svd_ekf_lqg Error</td><td>▁</td></tr><tr><td>svd_kf Error</td><td>▁</td></tr></table><br/></div><div class=\"wandb-col\"><h3>Run summary:</h3><br/><table class=\"wandb\"><tr><td>gdp2 Error</td><td>2.44598</td></tr><tr><td>svd Error</td><td>2.56382</td></tr><tr><td>svd_ekf_lqg Error</td><td>1.79939</td></tr><tr><td>svd_kf Error</td><td>1.74783</td></tr></table><br/></div></div>"
      ],
      "text/plain": [
       "<IPython.core.display.HTML object>"
      ]
     },
     "metadata": {},
     "output_type": "display_data"
    },
    {
     "data": {
      "text/html": [
       " View run <strong style=\"color:#cdcd00\">effortless-sweep-11</strong> at: <a href='https://wandb.ai/spk/prog-scheme-sweep/runs/c10rrb87' target=\"_blank\">https://wandb.ai/spk/prog-scheme-sweep/runs/c10rrb87</a><br/> View project at: <a href='https://wandb.ai/spk/prog-scheme-sweep' target=\"_blank\">https://wandb.ai/spk/prog-scheme-sweep</a><br/>Synced 5 W&B file(s), 0 media file(s), 0 artifact file(s) and 1 other file(s)"
      ],
      "text/plain": [
       "<IPython.core.display.HTML object>"
      ]
     },
     "metadata": {},
     "output_type": "display_data"
    },
    {
     "data": {
      "text/html": [
       "Find logs at: <code>./wandb/run-20241108_154422-c10rrb87/logs</code>"
      ],
      "text/plain": [
       "<IPython.core.display.HTML object>"
      ]
     },
     "metadata": {},
     "output_type": "display_data"
    },
    {
     "name": "stderr",
     "output_type": "stream",
     "text": [
      "\u001b[34m\u001b[1mwandb\u001b[0m: Agent Starting Run: q724tioy with config:\n",
      "\u001b[34m\u001b[1mwandb\u001b[0m: \trank: 40\n",
      "\u001b[34m\u001b[1mwandb\u001b[0m: \tsvd_every_k_iter: 10\n"
     ]
    },
    {
     "data": {
      "text/html": [
       "Tracking run with wandb version 0.18.5"
      ],
      "text/plain": [
       "<IPython.core.display.HTML object>"
      ]
     },
     "metadata": {},
     "output_type": "display_data"
    },
    {
     "data": {
      "text/html": [
       "Run data is saved locally in <code>/home/minwook/ml/src/prog_scheme/wandb/run-20241108_154454-q724tioy</code>"
      ],
      "text/plain": [
       "<IPython.core.display.HTML object>"
      ]
     },
     "metadata": {},
     "output_type": "display_data"
    },
    {
     "data": {
      "text/html": [
       "Syncing run <strong><a href='https://wandb.ai/spk/prog-scheme-sweep/runs/q724tioy' target=\"_blank\">fast-sweep-12</a></strong> to <a href='https://wandb.ai/spk/prog-scheme-sweep' target=\"_blank\">Weights & Biases</a> (<a href='https://wandb.me/run' target=\"_blank\">docs</a>)<br/>Sweep page: <a href='https://wandb.ai/spk/prog-scheme-sweep/sweeps/isn9lcsx' target=\"_blank\">https://wandb.ai/spk/prog-scheme-sweep/sweeps/isn9lcsx</a>"
      ],
      "text/plain": [
       "<IPython.core.display.HTML object>"
      ]
     },
     "metadata": {},
     "output_type": "display_data"
    },
    {
     "data": {
      "text/html": [
       " View project at <a href='https://wandb.ai/spk/prog-scheme-sweep' target=\"_blank\">https://wandb.ai/spk/prog-scheme-sweep</a>"
      ],
      "text/plain": [
       "<IPython.core.display.HTML object>"
      ]
     },
     "metadata": {},
     "output_type": "display_data"
    },
    {
     "data": {
      "text/html": [
       " View sweep at <a href='https://wandb.ai/spk/prog-scheme-sweep/sweeps/isn9lcsx' target=\"_blank\">https://wandb.ai/spk/prog-scheme-sweep/sweeps/isn9lcsx</a>"
      ],
      "text/plain": [
       "<IPython.core.display.HTML object>"
      ]
     },
     "metadata": {},
     "output_type": "display_data"
    },
    {
     "data": {
      "text/html": [
       " View run at <a href='https://wandb.ai/spk/prog-scheme-sweep/runs/q724tioy' target=\"_blank\">https://wandb.ai/spk/prog-scheme-sweep/runs/q724tioy</a>"
      ],
      "text/plain": [
       "<IPython.core.display.HTML object>"
      ]
     },
     "metadata": {},
     "output_type": "display_data"
    },
    {
     "name": "stdout",
     "output_type": "stream",
     "text": [
      "Programming time: 13.66s\n",
      "Programming time: 2.15s\n",
      "Programming time: 4.97s\n",
      "Programming time: 5.16s\n"
     ]
    },
    {
     "data": {
      "text/html": [
       "<style>\n",
       "    table.wandb td:nth-child(1) { padding: 0 10px; text-align: left ; width: auto;} td:nth-child(2) {text-align: left ; width: 100%}\n",
       "    .wandb-row { display: flex; flex-direction: row; flex-wrap: wrap; justify-content: flex-start; width: 100% }\n",
       "    .wandb-col { display: flex; flex-direction: column; flex-basis: 100%; flex: 1; padding: 10px; }\n",
       "    </style>\n",
       "<div class=\"wandb-row\"><div class=\"wandb-col\"><h3>Run history:</h3><br/><table class=\"wandb\"><tr><td>gdp2 Error</td><td>▁</td></tr><tr><td>svd Error</td><td>▁</td></tr><tr><td>svd_ekf_lqg Error</td><td>▁</td></tr><tr><td>svd_kf Error</td><td>▁</td></tr></table><br/></div><div class=\"wandb-col\"><h3>Run summary:</h3><br/><table class=\"wandb\"><tr><td>gdp2 Error</td><td>2.47594</td></tr><tr><td>svd Error</td><td>2.61344</td></tr><tr><td>svd_ekf_lqg Error</td><td>1.79469</td></tr><tr><td>svd_kf Error</td><td>1.7958</td></tr></table><br/></div></div>"
      ],
      "text/plain": [
       "<IPython.core.display.HTML object>"
      ]
     },
     "metadata": {},
     "output_type": "display_data"
    },
    {
     "data": {
      "text/html": [
       " View run <strong style=\"color:#cdcd00\">fast-sweep-12</strong> at: <a href='https://wandb.ai/spk/prog-scheme-sweep/runs/q724tioy' target=\"_blank\">https://wandb.ai/spk/prog-scheme-sweep/runs/q724tioy</a><br/> View project at: <a href='https://wandb.ai/spk/prog-scheme-sweep' target=\"_blank\">https://wandb.ai/spk/prog-scheme-sweep</a><br/>Synced 5 W&B file(s), 0 media file(s), 0 artifact file(s) and 1 other file(s)"
      ],
      "text/plain": [
       "<IPython.core.display.HTML object>"
      ]
     },
     "metadata": {},
     "output_type": "display_data"
    },
    {
     "data": {
      "text/html": [
       "Find logs at: <code>./wandb/run-20241108_154454-q724tioy/logs</code>"
      ],
      "text/plain": [
       "<IPython.core.display.HTML object>"
      ]
     },
     "metadata": {},
     "output_type": "display_data"
    },
    {
     "name": "stderr",
     "output_type": "stream",
     "text": [
      "\u001b[34m\u001b[1mwandb\u001b[0m: Agent Starting Run: 1beezovi with config:\n",
      "\u001b[34m\u001b[1mwandb\u001b[0m: \trank: 50\n",
      "\u001b[34m\u001b[1mwandb\u001b[0m: \tsvd_every_k_iter: 1\n"
     ]
    },
    {
     "data": {
      "text/html": [
       "Tracking run with wandb version 0.18.5"
      ],
      "text/plain": [
       "<IPython.core.display.HTML object>"
      ]
     },
     "metadata": {},
     "output_type": "display_data"
    },
    {
     "data": {
      "text/html": [
       "Run data is saved locally in <code>/home/minwook/ml/src/prog_scheme/wandb/run-20241108_154526-1beezovi</code>"
      ],
      "text/plain": [
       "<IPython.core.display.HTML object>"
      ]
     },
     "metadata": {},
     "output_type": "display_data"
    },
    {
     "data": {
      "text/html": [
       "Syncing run <strong><a href='https://wandb.ai/spk/prog-scheme-sweep/runs/1beezovi' target=\"_blank\">fiery-sweep-13</a></strong> to <a href='https://wandb.ai/spk/prog-scheme-sweep' target=\"_blank\">Weights & Biases</a> (<a href='https://wandb.me/run' target=\"_blank\">docs</a>)<br/>Sweep page: <a href='https://wandb.ai/spk/prog-scheme-sweep/sweeps/isn9lcsx' target=\"_blank\">https://wandb.ai/spk/prog-scheme-sweep/sweeps/isn9lcsx</a>"
      ],
      "text/plain": [
       "<IPython.core.display.HTML object>"
      ]
     },
     "metadata": {},
     "output_type": "display_data"
    },
    {
     "data": {
      "text/html": [
       " View project at <a href='https://wandb.ai/spk/prog-scheme-sweep' target=\"_blank\">https://wandb.ai/spk/prog-scheme-sweep</a>"
      ],
      "text/plain": [
       "<IPython.core.display.HTML object>"
      ]
     },
     "metadata": {},
     "output_type": "display_data"
    },
    {
     "data": {
      "text/html": [
       " View sweep at <a href='https://wandb.ai/spk/prog-scheme-sweep/sweeps/isn9lcsx' target=\"_blank\">https://wandb.ai/spk/prog-scheme-sweep/sweeps/isn9lcsx</a>"
      ],
      "text/plain": [
       "<IPython.core.display.HTML object>"
      ]
     },
     "metadata": {},
     "output_type": "display_data"
    },
    {
     "data": {
      "text/html": [
       " View run at <a href='https://wandb.ai/spk/prog-scheme-sweep/runs/1beezovi' target=\"_blank\">https://wandb.ai/spk/prog-scheme-sweep/runs/1beezovi</a>"
      ],
      "text/plain": [
       "<IPython.core.display.HTML object>"
      ]
     },
     "metadata": {},
     "output_type": "display_data"
    },
    {
     "name": "stdout",
     "output_type": "stream",
     "text": [
      "Programming time: 13.24s\n",
      "Programming time: 5.72s\n",
      "Programming time: 5.72s\n",
      "Programming time: 5.77s\n"
     ]
    },
    {
     "data": {
      "text/html": [
       "<style>\n",
       "    table.wandb td:nth-child(1) { padding: 0 10px; text-align: left ; width: auto;} td:nth-child(2) {text-align: left ; width: 100%}\n",
       "    .wandb-row { display: flex; flex-direction: row; flex-wrap: wrap; justify-content: flex-start; width: 100% }\n",
       "    .wandb-col { display: flex; flex-direction: column; flex-basis: 100%; flex: 1; padding: 10px; }\n",
       "    </style>\n",
       "<div class=\"wandb-row\"><div class=\"wandb-col\"><h3>Run history:</h3><br/><table class=\"wandb\"><tr><td>gdp2 Error</td><td>▁</td></tr><tr><td>svd Error</td><td>▁</td></tr><tr><td>svd_ekf_lqg Error</td><td>▁</td></tr><tr><td>svd_kf Error</td><td>▁</td></tr></table><br/></div><div class=\"wandb-col\"><h3>Run summary:</h3><br/><table class=\"wandb\"><tr><td>gdp2 Error</td><td>2.24759</td></tr><tr><td>svd Error</td><td>2.62203</td></tr><tr><td>svd_ekf_lqg Error</td><td>2.11605</td></tr><tr><td>svd_kf Error</td><td>1.86052</td></tr></table><br/></div></div>"
      ],
      "text/plain": [
       "<IPython.core.display.HTML object>"
      ]
     },
     "metadata": {},
     "output_type": "display_data"
    },
    {
     "data": {
      "text/html": [
       " View run <strong style=\"color:#cdcd00\">fiery-sweep-13</strong> at: <a href='https://wandb.ai/spk/prog-scheme-sweep/runs/1beezovi' target=\"_blank\">https://wandb.ai/spk/prog-scheme-sweep/runs/1beezovi</a><br/> View project at: <a href='https://wandb.ai/spk/prog-scheme-sweep' target=\"_blank\">https://wandb.ai/spk/prog-scheme-sweep</a><br/>Synced 5 W&B file(s), 0 media file(s), 0 artifact file(s) and 1 other file(s)"
      ],
      "text/plain": [
       "<IPython.core.display.HTML object>"
      ]
     },
     "metadata": {},
     "output_type": "display_data"
    },
    {
     "data": {
      "text/html": [
       "Find logs at: <code>./wandb/run-20241108_154526-1beezovi/logs</code>"
      ],
      "text/plain": [
       "<IPython.core.display.HTML object>"
      ]
     },
     "metadata": {},
     "output_type": "display_data"
    },
    {
     "name": "stderr",
     "output_type": "stream",
     "text": [
      "\u001b[34m\u001b[1mwandb\u001b[0m: Agent Starting Run: q9srh2lh with config:\n",
      "\u001b[34m\u001b[1mwandb\u001b[0m: \trank: 50\n",
      "\u001b[34m\u001b[1mwandb\u001b[0m: \tsvd_every_k_iter: 5\n"
     ]
    },
    {
     "data": {
      "text/html": [
       "Tracking run with wandb version 0.18.5"
      ],
      "text/plain": [
       "<IPython.core.display.HTML object>"
      ]
     },
     "metadata": {},
     "output_type": "display_data"
    },
    {
     "data": {
      "text/html": [
       "Run data is saved locally in <code>/home/minwook/ml/src/prog_scheme/wandb/run-20241108_154603-q9srh2lh</code>"
      ],
      "text/plain": [
       "<IPython.core.display.HTML object>"
      ]
     },
     "metadata": {},
     "output_type": "display_data"
    },
    {
     "data": {
      "text/html": [
       "Syncing run <strong><a href='https://wandb.ai/spk/prog-scheme-sweep/runs/q9srh2lh' target=\"_blank\">valiant-sweep-14</a></strong> to <a href='https://wandb.ai/spk/prog-scheme-sweep' target=\"_blank\">Weights & Biases</a> (<a href='https://wandb.me/run' target=\"_blank\">docs</a>)<br/>Sweep page: <a href='https://wandb.ai/spk/prog-scheme-sweep/sweeps/isn9lcsx' target=\"_blank\">https://wandb.ai/spk/prog-scheme-sweep/sweeps/isn9lcsx</a>"
      ],
      "text/plain": [
       "<IPython.core.display.HTML object>"
      ]
     },
     "metadata": {},
     "output_type": "display_data"
    },
    {
     "data": {
      "text/html": [
       " View project at <a href='https://wandb.ai/spk/prog-scheme-sweep' target=\"_blank\">https://wandb.ai/spk/prog-scheme-sweep</a>"
      ],
      "text/plain": [
       "<IPython.core.display.HTML object>"
      ]
     },
     "metadata": {},
     "output_type": "display_data"
    },
    {
     "data": {
      "text/html": [
       " View sweep at <a href='https://wandb.ai/spk/prog-scheme-sweep/sweeps/isn9lcsx' target=\"_blank\">https://wandb.ai/spk/prog-scheme-sweep/sweeps/isn9lcsx</a>"
      ],
      "text/plain": [
       "<IPython.core.display.HTML object>"
      ]
     },
     "metadata": {},
     "output_type": "display_data"
    },
    {
     "data": {
      "text/html": [
       " View run at <a href='https://wandb.ai/spk/prog-scheme-sweep/runs/q9srh2lh' target=\"_blank\">https://wandb.ai/spk/prog-scheme-sweep/runs/q9srh2lh</a>"
      ],
      "text/plain": [
       "<IPython.core.display.HTML object>"
      ]
     },
     "metadata": {},
     "output_type": "display_data"
    },
    {
     "name": "stdout",
     "output_type": "stream",
     "text": [
      "Programming time: 13.28s\n",
      "Programming time: 2.84s\n",
      "Programming time: 5.12s\n",
      "Programming time: 5.39s\n"
     ]
    },
    {
     "data": {
      "text/html": [
       "<style>\n",
       "    table.wandb td:nth-child(1) { padding: 0 10px; text-align: left ; width: auto;} td:nth-child(2) {text-align: left ; width: 100%}\n",
       "    .wandb-row { display: flex; flex-direction: row; flex-wrap: wrap; justify-content: flex-start; width: 100% }\n",
       "    .wandb-col { display: flex; flex-direction: column; flex-basis: 100%; flex: 1; padding: 10px; }\n",
       "    </style>\n",
       "<div class=\"wandb-row\"><div class=\"wandb-col\"><h3>Run history:</h3><br/><table class=\"wandb\"><tr><td>gdp2 Error</td><td>▁</td></tr><tr><td>svd Error</td><td>▁</td></tr><tr><td>svd_ekf_lqg Error</td><td>▁</td></tr><tr><td>svd_kf Error</td><td>▁</td></tr></table><br/></div><div class=\"wandb-col\"><h3>Run summary:</h3><br/><table class=\"wandb\"><tr><td>gdp2 Error</td><td>2.29479</td></tr><tr><td>svd Error</td><td>2.67571</td></tr><tr><td>svd_ekf_lqg Error</td><td>1.95685</td></tr><tr><td>svd_kf Error</td><td>1.9833</td></tr></table><br/></div></div>"
      ],
      "text/plain": [
       "<IPython.core.display.HTML object>"
      ]
     },
     "metadata": {},
     "output_type": "display_data"
    },
    {
     "data": {
      "text/html": [
       " View run <strong style=\"color:#cdcd00\">valiant-sweep-14</strong> at: <a href='https://wandb.ai/spk/prog-scheme-sweep/runs/q9srh2lh' target=\"_blank\">https://wandb.ai/spk/prog-scheme-sweep/runs/q9srh2lh</a><br/> View project at: <a href='https://wandb.ai/spk/prog-scheme-sweep' target=\"_blank\">https://wandb.ai/spk/prog-scheme-sweep</a><br/>Synced 5 W&B file(s), 0 media file(s), 0 artifact file(s) and 1 other file(s)"
      ],
      "text/plain": [
       "<IPython.core.display.HTML object>"
      ]
     },
     "metadata": {},
     "output_type": "display_data"
    },
    {
     "data": {
      "text/html": [
       "Find logs at: <code>./wandb/run-20241108_154603-q9srh2lh/logs</code>"
      ],
      "text/plain": [
       "<IPython.core.display.HTML object>"
      ]
     },
     "metadata": {},
     "output_type": "display_data"
    },
    {
     "name": "stderr",
     "output_type": "stream",
     "text": [
      "\u001b[34m\u001b[1mwandb\u001b[0m: Agent Starting Run: 4icaahi8 with config:\n",
      "\u001b[34m\u001b[1mwandb\u001b[0m: \trank: 50\n",
      "\u001b[34m\u001b[1mwandb\u001b[0m: \tsvd_every_k_iter: 10\n"
     ]
    },
    {
     "data": {
      "text/html": [
       "Tracking run with wandb version 0.18.5"
      ],
      "text/plain": [
       "<IPython.core.display.HTML object>"
      ]
     },
     "metadata": {},
     "output_type": "display_data"
    },
    {
     "data": {
      "text/html": [
       "Run data is saved locally in <code>/home/minwook/ml/src/prog_scheme/wandb/run-20241108_154634-4icaahi8</code>"
      ],
      "text/plain": [
       "<IPython.core.display.HTML object>"
      ]
     },
     "metadata": {},
     "output_type": "display_data"
    },
    {
     "data": {
      "text/html": [
       "Syncing run <strong><a href='https://wandb.ai/spk/prog-scheme-sweep/runs/4icaahi8' target=\"_blank\">dulcet-sweep-15</a></strong> to <a href='https://wandb.ai/spk/prog-scheme-sweep' target=\"_blank\">Weights & Biases</a> (<a href='https://wandb.me/run' target=\"_blank\">docs</a>)<br/>Sweep page: <a href='https://wandb.ai/spk/prog-scheme-sweep/sweeps/isn9lcsx' target=\"_blank\">https://wandb.ai/spk/prog-scheme-sweep/sweeps/isn9lcsx</a>"
      ],
      "text/plain": [
       "<IPython.core.display.HTML object>"
      ]
     },
     "metadata": {},
     "output_type": "display_data"
    },
    {
     "data": {
      "text/html": [
       " View project at <a href='https://wandb.ai/spk/prog-scheme-sweep' target=\"_blank\">https://wandb.ai/spk/prog-scheme-sweep</a>"
      ],
      "text/plain": [
       "<IPython.core.display.HTML object>"
      ]
     },
     "metadata": {},
     "output_type": "display_data"
    },
    {
     "data": {
      "text/html": [
       " View sweep at <a href='https://wandb.ai/spk/prog-scheme-sweep/sweeps/isn9lcsx' target=\"_blank\">https://wandb.ai/spk/prog-scheme-sweep/sweeps/isn9lcsx</a>"
      ],
      "text/plain": [
       "<IPython.core.display.HTML object>"
      ]
     },
     "metadata": {},
     "output_type": "display_data"
    },
    {
     "data": {
      "text/html": [
       " View run at <a href='https://wandb.ai/spk/prog-scheme-sweep/runs/4icaahi8' target=\"_blank\">https://wandb.ai/spk/prog-scheme-sweep/runs/4icaahi8</a>"
      ],
      "text/plain": [
       "<IPython.core.display.HTML object>"
      ]
     },
     "metadata": {},
     "output_type": "display_data"
    },
    {
     "name": "stdout",
     "output_type": "stream",
     "text": [
      "Programming time: 13.45s\n",
      "Programming time: 2.16s\n",
      "Programming time: 4.98s\n",
      "Programming time: 5.10s\n"
     ]
    },
    {
     "data": {
      "text/html": [
       "<style>\n",
       "    table.wandb td:nth-child(1) { padding: 0 10px; text-align: left ; width: auto;} td:nth-child(2) {text-align: left ; width: 100%}\n",
       "    .wandb-row { display: flex; flex-direction: row; flex-wrap: wrap; justify-content: flex-start; width: 100% }\n",
       "    .wandb-col { display: flex; flex-direction: column; flex-basis: 100%; flex: 1; padding: 10px; }\n",
       "    </style>\n",
       "<div class=\"wandb-row\"><div class=\"wandb-col\"><h3>Run history:</h3><br/><table class=\"wandb\"><tr><td>gdp2 Error</td><td>▁</td></tr><tr><td>svd Error</td><td>▁</td></tr><tr><td>svd_ekf_lqg Error</td><td>▁</td></tr><tr><td>svd_kf Error</td><td>▁</td></tr></table><br/></div><div class=\"wandb-col\"><h3>Run summary:</h3><br/><table class=\"wandb\"><tr><td>gdp2 Error</td><td>2.27216</td></tr><tr><td>svd Error</td><td>2.75272</td></tr><tr><td>svd_ekf_lqg Error</td><td>1.95632</td></tr><tr><td>svd_kf Error</td><td>1.94625</td></tr></table><br/></div></div>"
      ],
      "text/plain": [
       "<IPython.core.display.HTML object>"
      ]
     },
     "metadata": {},
     "output_type": "display_data"
    },
    {
     "data": {
      "text/html": [
       " View run <strong style=\"color:#cdcd00\">dulcet-sweep-15</strong> at: <a href='https://wandb.ai/spk/prog-scheme-sweep/runs/4icaahi8' target=\"_blank\">https://wandb.ai/spk/prog-scheme-sweep/runs/4icaahi8</a><br/> View project at: <a href='https://wandb.ai/spk/prog-scheme-sweep' target=\"_blank\">https://wandb.ai/spk/prog-scheme-sweep</a><br/>Synced 5 W&B file(s), 0 media file(s), 0 artifact file(s) and 1 other file(s)"
      ],
      "text/plain": [
       "<IPython.core.display.HTML object>"
      ]
     },
     "metadata": {},
     "output_type": "display_data"
    },
    {
     "data": {
      "text/html": [
       "Find logs at: <code>./wandb/run-20241108_154634-4icaahi8/logs</code>"
      ],
      "text/plain": [
       "<IPython.core.display.HTML object>"
      ]
     },
     "metadata": {},
     "output_type": "display_data"
    },
    {
     "name": "stderr",
     "output_type": "stream",
     "text": [
      "\u001b[34m\u001b[1mwandb\u001b[0m: Sweep Agent: Waiting for job.\n",
      "\u001b[34m\u001b[1mwandb\u001b[0m: Sweep Agent: Exiting.\n"
     ]
    }
   ],
   "source": [
    "   \n",
    "#sweep config 설정    \n",
    "sweep_config = {\n",
    "    'method': 'grid',  # 랜덤 서치를 위해서는 'random' 사용\n",
    "    'parameters': {\n",
    "      'rank': {\n",
    "            'values': [10, 20, 30, 40, 50]\n",
    "        },\n",
    "        'svd_every_k_iter': {\n",
    "            'values': [1, 5, 10]\n",
    "        }\n",
    "    }\n",
    "}\n",
    "\n",
    "# 스위프 실행\n",
    "sweep_id = wandb.sweep(sweep_config, project='prog-scheme-sweep')\n",
    "wandb.agent(sweep_id, function=main)"
   ]
  },
  {
   "cell_type": "code",
   "execution_count": null,
   "metadata": {},
   "outputs": [],
   "source": []
  }
 ],
 "metadata": {
  "kernelspec": {
   "display_name": "prog_scheme_py310",
   "language": "python",
   "name": "python3"
  },
  "language_info": {
   "codemirror_mode": {
    "name": "ipython",
    "version": 3
   },
   "file_extension": ".py",
   "mimetype": "text/x-python",
   "name": "python",
   "nbconvert_exporter": "python",
   "pygments_lexer": "ipython3",
   "version": "3.10.15"
  }
 },
 "nbformat": 4,
 "nbformat_minor": 2
}
