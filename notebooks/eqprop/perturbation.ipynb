{
 "cells": [
  {
   "cell_type": "markdown",
   "metadata": {},
   "source": [
    "$u_\\beta^*= \\argmin E(u)+\\beta \\mathcal L(u)$\n",
    "\n",
    "$u_\\beta^*-u_0^*=f(\\beta)$?, $f(0.01) > \\epsilon$?"
   ]
  },
  {
   "cell_type": "markdown",
   "metadata": {},
   "source": [
    "# setup model & data"
   ]
  },
  {
   "cell_type": "code",
   "execution_count": null,
   "metadata": {},
   "outputs": [],
   "source": [
    "# instantiate model\n",
    "from hydra import compose, initialize\n",
    "from hydra_zen import instantiate, store\n",
    "\n",
    "from configs import register_everything\n",
    "\n",
    "store._overwrite_ok = True\n",
    "overrrides = [\n",
    "    \"experiment=ep-xor-onehot\",\n",
    "    \"model.net.bias=false\",\n",
    "]\n",
    "register_everything()\n",
    "with initialize(config_path=\"../../configs\", version_base=\"1.3\"):\n",
    "    cfg = compose(config_name=\"train\", return_hydra_config=True, overrides=overrrides)\n",
    "\n",
    "net2 = instantiate(cfg.model.net)\n",
    "dm = instantiate(cfg.data)\n",
    "dm.setup()\n",
    "dl = dm.train_dataloader()\n",
    "print(net2)"
   ]
  },
  {
   "cell_type": "code",
   "execution_count": null,
   "metadata": {},
   "outputs": [],
   "source": [
    "# print dictconfig\n",
    "from omegaconf import OmegaConf\n",
    "\n",
    "print(OmegaConf.to_yaml(cfg.model))"
   ]
  },
  {
   "cell_type": "code",
   "execution_count": null,
   "metadata": {},
   "outputs": [],
   "source": [
    "import torch\n",
    "\n",
    "# load model checkpoint\n",
    "ckpt = torch.load(\"/root/workspace/ml/logs/train/runs/2024-05-07_23-21-47/checkpoints/last.ckpt\")\n",
    "# get weights from lin1 & last layers\n",
    "# w1 = ckpt[\"state_dict\"][\"net.model.0.weight\"]\n",
    "# w2 = ckpt[\"state_dict\"][\"net.model.1.weight\"]\n",
    "# get biases from lin1 & 1 layers\n",
    "# b1 = ckpt[\"state_dict\"][\"net.model.0.bias\"]\n",
    "# b2 = ckpt[\"state_dict\"][\"net.model.1.bias\"]\n",
    "# get input & output dimensions"
   ]
  },
  {
   "cell_type": "code",
   "execution_count": null,
   "metadata": {},
   "outputs": [],
   "source": [
    "# print all parameters\n",
    "for k, v in ckpt[\"state_dict\"].items():\n",
    "    print(f\"name:{k}, {v}\")"
   ]
  },
  {
   "cell_type": "code",
   "execution_count": null,
   "metadata": {},
   "outputs": [],
   "source": [
    "# remove the model prefix from the keys\n",
    "from collections import OrderedDict\n",
    "\n",
    "new_state_dict = OrderedDict()\n",
    "for k, v in ckpt[\"state_dict\"].items():\n",
    "    name = k.replace(\"net.\", \"\")\n",
    "    new_state_dict[name] = v\n",
    "# overwrite model weights from checkpoint\n",
    "net2.load_state_dict(new_state_dict, strict=False)\n",
    "net2.ypred = None"
   ]
  },
  {
   "cell_type": "markdown",
   "metadata": {},
   "source": [
    "# Train XOR"
   ]
  },
  {
   "cell_type": "code",
   "execution_count": null,
   "metadata": {},
   "outputs": [],
   "source": [
    "# free phase\n",
    "import torch.nn as nn\n",
    "\n",
    "criterion = nn.MSELoss()\n",
    "for x, y in dl:\n",
    "    x = x.view(x.size(0), -1)\n",
    "    ypred = net2(x)\n",
    "    # make y onehot\n",
    "    y = torch.nn.functional.one_hot(y, 2).float()\n",
    "    print(f\"ypred: {ypred.data}, y: {y}\")\n",
    "    loss = criterion(ypred, y)\n",
    "    loss.backward()\n",
    "    u_nudge, _ = net2.solver(x, nudge_phase=True, grad=net2.ypred.grad)\n",
    "    for idx, u_n in enumerate(u_nudge):\n",
    "        u_f = net2.model[idx].get_buffer(\"positive_node\")\n",
    "        diff = torch.norm(u_n - u_f)\n",
    "        # compute cosine similarity\n",
    "        cos = nn.CosineSimilarity(dim=1)\n",
    "        cos_sim = cos(u_n, u_f)\n",
    "        print(f\"Layer {idx} diff: {diff}, cos_sim: {cos_sim}\")"
   ]
  },
  {
   "cell_type": "code",
   "execution_count": null,
   "metadata": {},
   "outputs": [],
   "source": [
    "u_nudge[0].item()"
   ]
  },
  {
   "cell_type": "code",
   "execution_count": null,
   "metadata": {},
   "outputs": [],
   "source": [
    "net2.model[1].get_buffer(\"positive_node\")"
   ]
  },
  {
   "cell_type": "code",
   "execution_count": null,
   "metadata": {},
   "outputs": [],
   "source": []
  }
 ],
 "metadata": {
  "kernelspec": {
   "display_name": "torchbase",
   "language": "python",
   "name": "python3"
  },
  "language_info": {
   "codemirror_mode": {
    "name": "ipython",
    "version": 3
   },
   "file_extension": ".py",
   "mimetype": "text/x-python",
   "name": "python",
   "nbconvert_exporter": "python",
   "pygments_lexer": "ipython3",
   "version": "3.1.undefined"
  }
 },
 "nbformat": 4,
 "nbformat_minor": 2
}
