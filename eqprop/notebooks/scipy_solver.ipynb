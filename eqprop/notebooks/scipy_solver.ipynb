{
 "cells": [
  {
   "cell_type": "markdown",
   "metadata": {},
   "source": [
    "# setup"
   ]
  },
  {
   "cell_type": "code",
   "execution_count": null,
   "metadata": {},
   "outputs": [],
   "source": [
    "import numpy as np\n",
    "import torch\n",
    "from scipy.optimize import fsolve\n",
    "\n",
    "from src.eqprop.eqprop_util import OTS, P3OTS"
   ]
  },
  {
   "cell_type": "markdown",
   "metadata": {},
   "source": [
    "# prepare data"
   ]
  },
  {
   "cell_type": "code",
   "execution_count": null,
   "metadata": {},
   "outputs": [],
   "source": [
    "# setup parameters\n",
    "batch_size = 4\n",
    "dims = [784 * 2, 128, 10 * 4]\n",
    "hdims = dims[1:]\n",
    "\n",
    "ots = OTS(Is=1e-6, Vth=0.2, Vl=0, Vr=0)\n",
    "i_ext = np.zeros((batch_size, dims[-1]))"
   ]
  },
  {
   "cell_type": "code",
   "execution_count": null,
   "metadata": {},
   "outputs": [],
   "source": [
    "# setup random weights and biases\n",
    "W, B = [], []\n",
    "for i in range(len(dims) - 1):\n",
    "    W.append(np.random.rand(dims[i], dims[i + 1]).T)  # random input in [0, 1]\n",
    "    B.append(np.random.rand(dims[i + 1]))\n",
    "\n",
    "B = np.concatenate(B, axis=-1)"
   ]
  },
  {
   "cell_type": "code",
   "execution_count": null,
   "metadata": {},
   "outputs": [],
   "source": [
    "ckpt_path = \"../logs/train/runs/2023-11-19_17-59-54/checkpoints/last.ckpt\"\n",
    "ckpt = torch.load(ckpt_path, map_location=\"cpu\")\n",
    "ckpt[\"state_dict\"]\n",
    "W, B = [], []\n",
    "for k, v in ckpt[\"state_dict\"].items():\n",
    "    if \"weight\" in k:\n",
    "        W.append(v.numpy())\n",
    "    elif \"bias\" in k:\n",
    "        B.append(v.numpy())\n",
    "B_cat = np.concatenate(B, axis=-1)"
   ]
  },
  {
   "cell_type": "code",
   "execution_count": null,
   "metadata": {},
   "outputs": [],
   "source": [
    "# dummy example\n",
    "x = np.random.rand(batch_size, dims[0])"
   ]
  },
  {
   "cell_type": "code",
   "execution_count": null,
   "metadata": {},
   "outputs": [],
   "source": [
    "# load mnist data\n",
    "from src.data.mnist_datamodule import MNISTDataModule\n",
    "\n",
    "dm = MNISTDataModule(data_dir=\"../data/\", batch_size=batch_size)\n",
    "dm.setup()\n",
    "dl = dm.train_dataloader().__iter__()"
   ]
  },
  {
   "cell_type": "code",
   "execution_count": null,
   "metadata": {},
   "outputs": [],
   "source": [
    "x, y = dl._next_data()\n",
    "x = x.view(x.size(0), -1)  # == x.view(-1,x.size(-1)**2)\n",
    "x = x.repeat_interleave(2, dim=1)\n",
    "x[:, 1::2] = -x[:, ::2]\n",
    "x = x.numpy()\n",
    "y = y.numpy()"
   ]
  },
  {
   "cell_type": "markdown",
   "metadata": {},
   "source": [
    "# fsolve"
   ]
  },
  {
   "cell_type": "code",
   "execution_count": null,
   "metadata": {},
   "outputs": [],
   "source": [
    "def _lap(W: tuple[np.ndarray]):\n",
    "    if hasattr(_lap, \"L\"):\n",
    "        return _lap.L\n",
    "    global hdims\n",
    "    size = sum(hdims)\n",
    "\n",
    "    paddedG = [np.zeros((hdims[0], size))]\n",
    "    for i, g in enumerate(W[1:]):\n",
    "        padding = (\n",
    "            (0, 0),\n",
    "            (sum(hdims[:i]), sum(hdims[i + 1 :])),\n",
    "        )  # dim 0 (before, after), dim 1 (before, after)\n",
    "        paddedG.append(np.pad(-g, padding))\n",
    "    lower = np.concatenate(paddedG, axis=-2)\n",
    "    L = lower + lower.T\n",
    "    D0 = -lower.sum(axis=-2) - lower.sum(axis=-1) + np.pad(W[0].sum(axis=-1), (0, size - hdims[0]))\n",
    "    L += np.diag(D0)\n",
    "    _lap.L = L\n",
    "    return L\n",
    "\n",
    "\n",
    "def f(v: np.ndarray, x: np.ndarray, W: tuple[np.ndarray], B: np.ndarray, i_ext: np.ndarray):\n",
    "    L = _lap(W)\n",
    "    B = B.copy()\n",
    "    B[: hdims[0]] += x @ W[0].T\n",
    "    if i_ext is not None:\n",
    "        B[-hdims[-1] :] += i_ext\n",
    "    # initial solution\n",
    "    return L @ v - B + ots.i(torch.from_numpy(v)).numpy()\n",
    "\n",
    "\n",
    "def jac(v: np.ndarray, W: tuple[np.ndarray], *args):\n",
    "    L = _lap(W)\n",
    "    return L + ots.a(torch.from_numpy(v)).numpy()"
   ]
  },
  {
   "cell_type": "code",
   "execution_count": null,
   "metadata": {},
   "outputs": [],
   "source": [
    "# expand B_cat to batch size\n",
    "v0_arr = np.empty((batch_size, sum(dims[1:])), dtype=np.float64)\n",
    "for i in range(batch_size):\n",
    "    B_init = B_cat.copy()\n",
    "    B_init[: hdims[0]] += x[i] @ W[0].T\n",
    "    v0_arr[i] = np.linalg.solve(_lap(W), B_init)\n",
    "sol_arr = np.empty((batch_size, sum(dims[1:])), dtype=np.float64)"
   ]
  },
  {
   "cell_type": "code",
   "execution_count": null,
   "metadata": {},
   "outputs": [],
   "source": [
    "for batch_idx in range(batch_size):\n",
    "    sol, info, _, msg = fsolve(\n",
    "        f,\n",
    "        v0_arr[batch_idx],\n",
    "        fprime=jac,\n",
    "        args=(x[batch_idx], W, B_cat, i_ext[batch_idx]),\n",
    "        full_output=True,\n",
    "    )\n",
    "    sol_arr[batch_idx] = sol\n",
    "    print(msg)"
   ]
  },
  {
   "cell_type": "code",
   "execution_count": null,
   "metadata": {},
   "outputs": [],
   "source": [
    "info"
   ]
  },
  {
   "cell_type": "markdown",
   "metadata": {},
   "source": [
    "# compare with newton strategy"
   ]
  },
  {
   "cell_type": "code",
   "execution_count": null,
   "metadata": {},
   "outputs": [],
   "source": [
    "W_t = [torch.from_numpy(w) for w in W]\n",
    "B_t = [torch.from_numpy(b) for b in B]"
   ]
  },
  {
   "cell_type": "code",
   "execution_count": null,
   "metadata": {},
   "outputs": [],
   "source": [
    "# set pylogger to debug to see the convergence\n",
    "import logging\n",
    "from venv import logger\n",
    "\n",
    "from src.eqprop.strategy import NewtonStrategy\n",
    "\n",
    "logger.setLevel(logging.DEBUG)\n",
    "\n",
    "strategy = NewtonStrategy(clip_threshold=1, max_iter=100, atol=1e-6, activation=ots)\n",
    "strategy.check_and_set_attrs({\"dims\": hdims})"
   ]
  },
  {
   "cell_type": "code",
   "execution_count": null,
   "metadata": {},
   "outputs": [],
   "source": [
    "# n_sol = strategy.solve(torch.from_numpy(x), torch.from_numpy(i_ext), params=(W_t, B_t), dims=hdims)\n",
    "# n_sol = torch.cat(n_sol, dim=-1).numpy()\n",
    "n_sol = strategy._densecholsol(torch.from_numpy(x), W_t, B_t).numpy()"
   ]
  },
  {
   "cell_type": "markdown",
   "metadata": {},
   "source": [
    "# Analysis"
   ]
  },
  {
   "cell_type": "code",
   "execution_count": null,
   "metadata": {},
   "outputs": [],
   "source": [
    "# compute cosine distance (1-cosine similarity) between sol and v0\n",
    "from scipy.spatial.distance import cosine\n",
    "\n",
    "cosine(sol_arr[-1], v0_arr[-1])"
   ]
  },
  {
   "cell_type": "code",
   "execution_count": null,
   "metadata": {},
   "outputs": [],
   "source": [
    "cosine(n_sol[-1], sol_arr[-1])"
   ]
  },
  {
   "cell_type": "code",
   "execution_count": null,
   "metadata": {},
   "outputs": [],
   "source": [
    "# visualize solution\n",
    "import matplotlib.pyplot as plt\n",
    "\n",
    "plt.plot(sol_arr[-1], label=\"sol\")\n",
    "plt.plot(v0_arr[-1], label=\"v0\")\n",
    "plt.plot(n_sol[-1], label=\"n_sol\")\n",
    "plt.legend()"
   ]
  },
  {
   "cell_type": "code",
   "execution_count": null,
   "metadata": {},
   "outputs": [],
   "source": [
    "plt.plot(sol_arr[-1] - v0_arr[-1], label=\"err\")"
   ]
  },
  {
   "cell_type": "markdown",
   "metadata": {},
   "source": [
    "## linear sol + correction"
   ]
  },
  {
   "cell_type": "markdown",
   "metadata": {},
   "source": [
    "instead of solving $Lv=b-f(v)$ iteratively, we can solve $Lv=b$ and then correct the solution by adding $-L^\\dagger f(v)$"
   ]
  },
  {
   "cell_type": "code",
   "execution_count": null,
   "metadata": {},
   "outputs": [],
   "source": [
    "cor = np.linalg.pinv(_lap(W)) @ ots.i(torch.from_numpy(v0_arr[-1])).numpy()\n",
    "plt.plot(cor)"
   ]
  },
  {
   "cell_type": "code",
   "execution_count": null,
   "metadata": {},
   "outputs": [],
   "source": [
    "plt.plot(sol_arr[-1], label=\"sol\", marker=\"o\")\n",
    "plt.plot(v0_arr[-1] - cor, label=\"v_cor\")\n",
    "plt.legend()"
   ]
  },
  {
   "cell_type": "code",
   "execution_count": null,
   "metadata": {},
   "outputs": [],
   "source": [
    "plt.plot(sol_arr[-1] - v0_arr[-1] + cor, label=\"err\", marker=\"o\")"
   ]
  },
  {
   "cell_type": "markdown",
   "metadata": {},
   "source": [
    "# end"
   ]
  },
  {
   "cell_type": "markdown",
   "metadata": {},
   "source": []
  }
 ],
 "metadata": {
  "kernelspec": {
   "display_name": ".venv",
   "language": "python",
   "name": "python3"
  },
  "language_info": {
   "codemirror_mode": {
    "name": "ipython",
    "version": 3
   },
   "file_extension": ".py",
   "mimetype": "text/x-python",
   "name": "python",
   "nbconvert_exporter": "python",
   "pygments_lexer": "ipython3",
   "version": "3.11.0"
  }
 },
 "nbformat": 4,
 "nbformat_minor": 2
}
