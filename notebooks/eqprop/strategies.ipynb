{
 "cells": [
  {
   "cell_type": "markdown",
   "metadata": {},
   "source": [
    "# SETUP"
   ]
  },
  {
   "cell_type": "code",
   "execution_count": null,
   "metadata": {},
   "outputs": [],
   "source": [
    "import os\n",
    "\n",
    "import numpy as np\n",
    "import torch\n",
    "\n",
    "from src.core.eqprop.eqprop_util import OTS, P3OTS\n",
    "from src.core.eqprop.strategy import GradientDescentStrategy, NewtonStrategy\n",
    "from src.utils.logging_utils import LogCapture"
   ]
  },
  {
   "cell_type": "code",
   "execution_count": null,
   "metadata": {},
   "outputs": [],
   "source": [
    "ckpt_dir = \"../../logs/test\"\n",
    "ckpt_filename = \"last.ckpt\"\n",
    "ckpt_path = os.path.join(ckpt_dir, ckpt_filename)\n",
    "\n",
    "ckpt = torch.load(ckpt_path, map_location=\"cpu\")\n",
    "w1 = ckpt[\"state_dict\"][\"net.model.0.weight\"]\n",
    "w2 = ckpt[\"state_dict\"][\"net.model.1.weight\"]\n",
    "\n",
    "model = torch.nn.Sequential(torch.nn.Linear(3, 2, bias=False), torch.nn.Linear(2, 2, bias=False))\n",
    "model[0].weight.data = w1\n",
    "model[1].weight.data = w2\n",
    "\n",
    "torch.set_printoptions(precision=10)"
   ]
  },
  {
   "cell_type": "code",
   "execution_count": null,
   "metadata": {},
   "outputs": [],
   "source": [
    "v_xyce = torch.load(os.path.join(ckpt_dir, \"[1, 1]\"), map_location=\"cpu\")\n",
    "gt = torch.cat(v_xyce, dim=1)\n",
    "gt"
   ]
  },
  {
   "cell_type": "code",
   "execution_count": null,
   "metadata": {},
   "outputs": [],
   "source": [
    "print(w1)\n",
    "print(w2)"
   ]
  },
  {
   "cell_type": "code",
   "execution_count": null,
   "metadata": {},
   "outputs": [],
   "source": [
    "st = NewtonStrategy(\n",
    "    activation=OTS(Is=1e-8, Vl=0.1, Vr=0.9, Vth=0.026),\n",
    "    clip_threshold=0.5,\n",
    "    amp_factor=1.0,\n",
    "    max_iter=50,\n",
    "    atol=1e-7,\n",
    "    add_nonlin_last=False,\n",
    "    momentum=0.1,\n",
    ")\n",
    "st.set_strategy_params(model)"
   ]
  },
  {
   "cell_type": "code",
   "execution_count": null,
   "metadata": {},
   "outputs": [],
   "source": [
    "print(ckpt[\"state_dict\"][\"net.model.0.positive_node\"])\n",
    "print(ckpt[\"state_dict\"][\"net.model.1.positive_node\"])\n",
    "print(ckpt[\"state_dict\"][\"net.model.0.negative_node\"])\n",
    "print(ckpt[\"state_dict\"][\"net.model.1.negative_node\"])"
   ]
  },
  {
   "cell_type": "code",
   "execution_count": null,
   "metadata": {},
   "outputs": [],
   "source": [
    "p0 = ckpt[\"state_dict\"][\"net.model.0.positive_node\"]\n",
    "p1 = ckpt[\"state_dict\"][\"net.model.1.positive_node\"]\n",
    "# torch.allclose(p0, p1, rtol=1e-7)\n",
    "p1"
   ]
  },
  {
   "cell_type": "markdown",
   "metadata": {},
   "source": [
    "# Run"
   ]
  },
  {
   "cell_type": "code",
   "execution_count": null,
   "metadata": {},
   "outputs": [],
   "source": [
    "import re\n",
    "\n",
    "\n",
    "def extract_and_convert_tensors(log_list):\n",
    "    tensor_list = []\n",
    "    tensor_pattern = re.compile(r\"tensor\\(\\[\\[(.*?)\\]\\]\\)\")\n",
    "\n",
    "    for log in log_list:\n",
    "        match = tensor_pattern.search(log)\n",
    "        if match:\n",
    "            tensor_str = match.group(1)\n",
    "            tensor_values = [float(x) for x in tensor_str.split(\", \")]\n",
    "            tensor = torch.tensor(tensor_values)  # Reshape to match the original format\n",
    "            tensor_list.append(tensor)\n",
    "\n",
    "    return tensor_list"
   ]
  },
  {
   "cell_type": "code",
   "execution_count": null,
   "metadata": {},
   "outputs": [],
   "source": [
    "x = torch.tensor([[-2, 2, 1]]).float()\n",
    "i_ext = None  # torch.tensor(0)\n",
    "st.momentum = 0.1\n",
    "st.max_iter = 50\n",
    "with LogCapture(\"src.core.eqprop.strategy\") as log_capture:\n",
    "    v = st.solve(x, i_ext)\n",
    "    log_list = log_capture.get_log_list()"
   ]
  },
  {
   "cell_type": "code",
   "execution_count": null,
   "metadata": {},
   "outputs": [],
   "source": [
    "log_list"
   ]
  },
  {
   "cell_type": "code",
   "execution_count": null,
   "metadata": {},
   "outputs": [],
   "source": [
    "v_traj = extract_and_convert_tensors(log_list)"
   ]
  },
  {
   "cell_type": "markdown",
   "metadata": {},
   "source": [
    "2 2 1.358 1.999\n",
    "2 -2 "
   ]
  },
  {
   "cell_type": "markdown",
   "metadata": {},
   "source": [
    "## Reimplement the solve method"
   ]
  },
  {
   "cell_type": "code",
   "execution_count": null,
   "metadata": {},
   "outputs": [],
   "source": []
  },
  {
   "cell_type": "markdown",
   "metadata": {},
   "source": [
    "# Visualize"
   ]
  },
  {
   "cell_type": "code",
   "execution_count": null,
   "metadata": {},
   "outputs": [],
   "source": [
    "import matplotlib.pyplot as plt"
   ]
  },
  {
   "cell_type": "code",
   "execution_count": null,
   "metadata": {},
   "outputs": [],
   "source": [
    "def project_and_plot(trajectories, ground_truth, target_dim=2, plot_label: bool = False):\n",
    "    \"\"\"\n",
    "    n차원 데이터를 2차원 또는 3차원으로 투영하고 플롯합니다.\n",
    "\n",
    "    Parameters:\n",
    "        trajectories (list): n차원 벡터 궤적 리스트\n",
    "        target_dim (int): 투영할 목표 차원 (2 또는 3)\n",
    "        plot_label (bool): 레이블을 플롯에 추가할지 여부\n",
    "    \"\"\"\n",
    "    # 텐서로 변환\n",
    "    # data = torch.tensor(trajectories, dtype=torch.float32)\n",
    "    size = len(trajectories)\n",
    "    data = torch.cat(trajectories).reshape(size, -1)\n",
    "    # SVD 수행\n",
    "    U, S, Vh = torch.linalg.svd(data)\n",
    "\n",
    "    # 첫 target_dim 개의 eigenvector\n",
    "    eigenvectors = Vh[:target_dim, :]\n",
    "\n",
    "    # 데이터를 target_dim 평면으로 투영\n",
    "    projected_data = torch.matmul(data, eigenvectors.T).numpy()\n",
    "    projected_gt = torch.matmul(ground_truth, eigenvectors.T).numpy()\n",
    "    # 플롯\n",
    "    if target_dim == 2:\n",
    "        plt.figure(figsize=(8, 6))\n",
    "        plt.plot(projected_data[:, 0], projected_data[:, 1], \"o-\", label=\"Projected Trajectory\")\n",
    "        plt.plot(projected_data[-1, 0], projected_data[-1, 1], \"k^\", markersize=10)\n",
    "        plt.plot(\n",
    "            projected_gt[-1, 0], projected_gt[-1, 1], \"r*\", markersize=10, label=\"Ground Truth\"\n",
    "        )\n",
    "        if plot_label:\n",
    "            for i in range(len(projected_data) - 1):\n",
    "                # plot label if i%10 == 0\n",
    "                if i % 10 == 0:\n",
    "                    plt.text(\n",
    "                        projected_data[i, 0],\n",
    "                        projected_data[i, 1],\n",
    "                        str(i),\n",
    "                        fontsize=12,\n",
    "                        color=\"blue\",\n",
    "                    )\n",
    "\n",
    "        plt.xlabel(\"First Principal Component\")\n",
    "        plt.ylabel(\"Second Principal Component\")\n",
    "        plt.title(\"Trajectory Projection onto 2D Plane\")\n",
    "        plt.legend()\n",
    "        plt.grid(True)\n",
    "        plt.show()\n",
    "        # mark star at the end point\n",
    "    elif target_dim == 3:\n",
    "        fig = plt.figure(figsize=(10, 8))\n",
    "        ax = fig.add_subplot(111, projection=\"3d\")\n",
    "        # rotate the 3D plot\n",
    "        ax.view_init(elev=20, azim=40)\n",
    "        ax.plot(\n",
    "            projected_data[:, 0],\n",
    "            projected_data[:, 1],\n",
    "            projected_data[:, 2],\n",
    "            \"o-\",\n",
    "            label=\"Projected Trajectory\",\n",
    "        )\n",
    "        ax.plot(\n",
    "            projected_data[-1, 0], projected_data[-1, 1], projected_data[-1, 2], \"k^\", markersize=10\n",
    "        )\n",
    "        ax.plot(\n",
    "            projected_gt[-1, 0],\n",
    "            projected_gt[-1, 1],\n",
    "            projected_gt[-1, 2],\n",
    "            \"r*\",\n",
    "            markersize=10,\n",
    "            label=\"Ground Truth\",\n",
    "        )\n",
    "        if plot_label:\n",
    "            for i in range(len(projected_data) - 1):\n",
    "                if i % 10 == 0:\n",
    "                    ax.text(\n",
    "                        projected_data[i, 0],\n",
    "                        projected_data[i, 1],\n",
    "                        projected_data[i, 2],\n",
    "                        str(i),\n",
    "                        fontsize=12,\n",
    "                        color=\"blue\",\n",
    "                    )\n",
    "        ax.set_xlabel(\"First Principal Component\")\n",
    "        ax.set_ylabel(\"Second Principal Component\")\n",
    "        ax.set_zlabel(\"Third Principal Component\")\n",
    "        ax.set_title(\"Trajectory Projection onto 3D Space\")\n",
    "        ax.legend()\n",
    "        plt.show()\n",
    "    else:\n",
    "        raise ValueError(\"target_dim must be 2 or 3\")"
   ]
  },
  {
   "cell_type": "code",
   "execution_count": null,
   "metadata": {},
   "outputs": [],
   "source": [
    "project_and_plot(v_traj[:-1], gt, target_dim=3, plot_label=True)"
   ]
  },
  {
   "cell_type": "markdown",
   "metadata": {},
   "source": [
    "# ETC"
   ]
  },
  {
   "cell_type": "code",
   "execution_count": null,
   "metadata": {},
   "outputs": [],
   "source": [
    "v_xyce"
   ]
  },
  {
   "cell_type": "code",
   "execution_count": null,
   "metadata": {},
   "outputs": [],
   "source": [
    "v_traj[-1]"
   ]
  },
  {
   "cell_type": "code",
   "execution_count": null,
   "metadata": {},
   "outputs": [],
   "source": [
    "st.bias()"
   ]
  },
  {
   "cell_type": "code",
   "execution_count": null,
   "metadata": {},
   "outputs": [],
   "source": [
    "st.OTS.i(v_traj[-1])"
   ]
  },
  {
   "cell_type": "code",
   "execution_count": null,
   "metadata": {},
   "outputs": [],
   "source": [
    "st.rhs(x).shape"
   ]
  },
  {
   "cell_type": "code",
   "execution_count": null,
   "metadata": {},
   "outputs": [],
   "source": [
    "torch.any(st.residual(v_traj[1], x, None).abs() > 1e-5)"
   ]
  },
  {
   "cell_type": "code",
   "execution_count": null,
   "metadata": {},
   "outputs": [],
   "source": [
    "st.residual(gt, x, None)"
   ]
  },
  {
   "cell_type": "code",
   "execution_count": null,
   "metadata": {},
   "outputs": [],
   "source": [
    "L = st.laplacian()"
   ]
  }
 ],
 "metadata": {
  "kernelspec": {
   "display_name": "torchbase",
   "language": "python",
   "name": "python3"
  },
  "language_info": {
   "codemirror_mode": {
    "name": "ipython",
    "version": 3
   },
   "file_extension": ".py",
   "mimetype": "text/x-python",
   "name": "python",
   "nbconvert_exporter": "python",
   "pygments_lexer": "ipython3",
   "version": "3.10.8"
  }
 },
 "nbformat": 4,
 "nbformat_minor": 2
}
