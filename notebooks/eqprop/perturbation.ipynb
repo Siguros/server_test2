{
 "cells": [
  {
   "cell_type": "markdown",
   "metadata": {},
   "source": [
    "$u_\\beta^*= \\argmin E(u)+\\beta \\mathcal L(u)$\n",
    "\n",
    "$u_\\beta^*-u_0^*=f(\\beta)$?, $f(0.01) > \\epsilon$?"
   ]
  },
  {
   "cell_type": "code",
   "execution_count": null,
   "metadata": {},
   "outputs": [],
   "source": [
    "# instantiate model\n",
    "from hydra import compose, initialize\n",
    "from hydra_zen import instantiate, store\n",
    "\n",
    "from configs import register_everything\n",
    "\n",
    "store._overwrite_ok = True\n",
    "overrrides = [\n",
    "    \"experiment=ep-xor\",\n",
    "    \"model.positive_w=false\",\n",
    "    \"model.bias=false\",\n",
    "    \"model.normalize_weights=false\",\n",
    "    \"model.clip_weights=false\",\n",
    "    \"model.scale_output=2\",\n",
    "    \"model.scale_input=1\",\n",
    "]\n",
    "register_everything()\n",
    "with initialize(config_path=\"../../configs\", version_base=\"1.3\"):\n",
    "    cfg = compose(config_name=\"train\", return_hydra_config=True, overrides=overrrides)\n",
    "\n",
    "net2 = instantiate(cfg.model.net)()  #\n",
    "dm = instantiate(cfg.data)\n",
    "dm.setup()\n",
    "dl = dm.train_dataloader()\n",
    "print(net2)"
   ]
  },
  {
   "cell_type": "code",
   "execution_count": null,
   "metadata": {},
   "outputs": [],
   "source": [
    "import torch\n",
    "\n",
    "# load model checkpoint\n",
    "ckpt = torch.load(\"../logs/debug/runs/2024-04-05_15-26-14/checkpoints/epoch=19-step=80.ckpt\")\n",
    "# get weights from lin1 & last layers\n",
    "# w1 = ckpt[\"state_dict\"][\"net.model.0.weight\"]\n",
    "# w2 = ckpt[\"state_dict\"][\"net.model.1.weight\"]\n",
    "# get biases from lin1 & 1 layers\n",
    "# b1 = ckpt[\"state_dict\"][\"net.model.0.bias\"]\n",
    "# b2 = ckpt[\"state_dict\"][\"net.model.1.bias\"]\n",
    "# get input & output dimensions"
   ]
  },
  {
   "cell_type": "code",
   "execution_count": null,
   "metadata": {},
   "outputs": [],
   "source": [
    "net2.model = ckpt[\"state_dict\"][\"net.model\"]"
   ]
  },
  {
   "cell_type": "code",
   "execution_count": null,
   "metadata": {},
   "outputs": [],
   "source": [
    "# free phase\n",
    "for x, y in dl:\n",
    "    u_free = net2.solver(x)\n",
    "    # TODO: loss backprop, decouple solver from model.ypred\n",
    "    u_nudge = net2.solver(x, y)\n",
    "    u_diff = torch.norm(u_nudge - u_free)\n",
    "    print(u_diff)"
   ]
  }
 ],
 "metadata": {
  "kernelspec": {
   "display_name": "torchbase",
   "language": "python",
   "name": "python3"
  },
  "language_info": {
   "codemirror_mode": {
    "name": "ipython",
    "version": 3
   },
   "file_extension": ".py",
   "mimetype": "text/x-python",
   "name": "python",
   "nbconvert_exporter": "python",
   "pygments_lexer": "ipython3",
   "version": "3.11.4"
  }
 },
 "nbformat": 4,
 "nbformat_minor": 2
}
