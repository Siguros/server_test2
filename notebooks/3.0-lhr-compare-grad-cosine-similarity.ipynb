{
 "cells": [
  {
   "cell_type": "code",
   "execution_count": null,
   "metadata": {},
   "outputs": [],
   "source": [
    "# instantiate a model from src\n",
    "\n",
    "from hydra_zen import instantiate"
   ]
  },
  {
   "cell_type": "code",
   "execution_count": null,
   "metadata": {},
   "outputs": [],
   "source": [
    "import torch\n",
    "import torch.nn as nn\n",
    "import torch.optim as optim\n",
    "from torch.nn.utils import parameters_to_vector\n",
    "\n",
    "\n",
    "# 모델 정의\n",
    "class SimpleModel(nn.Module):\n",
    "    def __init__(self):\n",
    "        super().__init__()\n",
    "        self.linear = nn.Sequential(nn.Linear(10, 3), nn.ReLU(), nn.Linear(3, 1))\n",
    "\n",
    "    def forward(self, x):\n",
    "        return self.linear(x)\n",
    "\n",
    "\n",
    "# 코사인 유사도 계산 함수\n",
    "def cosine_similarity(grads1, grads2):\n",
    "    vec1 = parameters_to_vector(grads1)\n",
    "    vec2 = parameters_to_vector(grads2)\n",
    "    return torch.nn.functional.cosine_similarity(vec1.unsqueeze(0), vec2.unsqueeze(0), dim=1)\n",
    "\n",
    "\n",
    "# 모델 인스턴스화\n",
    "model1 = SimpleModel()\n",
    "model2 = SimpleModel()\n",
    "\n",
    "# 옵티마이저 정의 (모델1에 대해서만)\n",
    "optimizer = optim.SGD(model1.parameters(), lr=0.01)\n",
    "optimizer2 = optim.SGD(model2.parameters(), lr=0.01)\n",
    "# 임의의 데이터 생성 (10차원 입력, 1차원 출력)\n",
    "x = torch.randn(64, 10)\n",
    "y = torch.randn(64, 1)\n",
    "\n",
    "similarity_list = []\n",
    "for idx, iteration in enumerate(range(2000)):\n",
    "    optimizer.zero_grad()  # 그래디언트 초기화\n",
    "\n",
    "    # 두 모델의 예측 및 손실 계산\n",
    "    pred1 = model1(x)\n",
    "    pred2 = model2(x)\n",
    "    loss1 = (pred1 - y).pow(2).mean()\n",
    "    loss2 = (pred2 - y).pow(2).mean()\n",
    "    (\n",
    "        print(f\"Iteration {iteration}: Loss1 = {loss1.item()}, Loss2 = {loss2.item()}\")\n",
    "        if idx % 100 == 0\n",
    "        else None\n",
    "    )\n",
    "    # 그래디언트 계산\n",
    "    loss1.backward()\n",
    "    loss2.backward()\n",
    "\n",
    "    # 그래디언트 코사인 유사도 계산\n",
    "    grads1 = [p.grad.detach().clone() for p in model1.parameters()]\n",
    "    grads2 = [p.grad for p in model2.parameters()]\n",
    "    similarity_list.append(cosine_similarity(grads1, grads2))\n",
    "    # print(f\"Iteration {iteration}: Cosine Similarity = {similarity.item()}\")\n",
    "    # 모델1의 파라미터 업데이트\n",
    "    optimizer.step()\n",
    "    for p, grad in zip(model2.parameters(), grads1):\n",
    "        p.grad = grad\n",
    "    optimizer2.step()"
   ]
  },
  {
   "cell_type": "code",
   "execution_count": null,
   "metadata": {},
   "outputs": [],
   "source": [
    "# plot the cosine similarity\n",
    "import matplotlib.pyplot as plt\n",
    "\n",
    "plt.plot(similarity_list)\n",
    "plt.xlabel(\"Iteration\")\n",
    "plt.ylabel(\"Cosine Similarity\")\n",
    "plt.title(\"Cosine Similarity between Model1 and Model2 Gradients\")\n",
    "plt.show()"
   ]
  },
  {
   "cell_type": "code",
   "execution_count": null,
   "metadata": {},
   "outputs": [],
   "source": []
  }
 ],
 "metadata": {
  "kernelspec": {
   "display_name": "torchbase",
   "language": "python",
   "name": "python3"
  },
  "language_info": {
   "codemirror_mode": {
    "name": "ipython",
    "version": 3
   },
   "file_extension": ".py",
   "mimetype": "text/x-python",
   "name": "python",
   "nbconvert_exporter": "python",
   "pygments_lexer": "ipython3",
   "version": "3.11.4"
  }
 },
 "nbformat": 4,
 "nbformat_minor": 2
}
