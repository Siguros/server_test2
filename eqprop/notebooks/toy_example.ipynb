{
 "cells": [
  {
   "cell_type": "markdown",
   "metadata": {},
   "source": [
    "2 by 2 XOR problem"
   ]
  },
  {
   "cell_type": "code",
   "execution_count": null,
   "metadata": {},
   "outputs": [],
   "source": [
    "import torch\n",
    "from omegaconf import OmegaConf"
   ]
  },
  {
   "cell_type": "code",
   "execution_count": null,
   "metadata": {},
   "outputs": [],
   "source": [
    "# prepare XOR data\n",
    "X = torch.tensor([[-1, -1], [-1, 1], [1, -1], [1, 1]]).float()\n",
    "y = torch.tensor([[0], [1], [1], [0]])\n",
    "\n",
    "cfg = \"\"\"\n",
    "net:\n",
    "  _target_: src.models.components.eqprop_backbone.AnalogEP2\n",
    "  _partial_: true\n",
    "  batch_size: 1\n",
    "  dims: [2,2,1]\n",
    "  beta: 0.01\n",
    "  solver:\n",
    "    _target_: src.eqprop.solver.AnalogEqPropSolver\n",
    "    _partial_: true\n",
    "    amp_factor: 1.0\n",
    "    beta: ${net.beta}\n",
    "    strategy:\n",
    "      _target_: src.eqprop.strategy.NewtonStrategy\n",
    "      clip_threshold: 0.1\n",
    "      amp_factor: ${net.solver.amp_factor}\n",
    "      max_iter: 5\n",
    "      atol: 1e-5\n",
    "      activation:\n",
    "        _target_: src.eqprop.eqprop_util.P3OTS\n",
    "        Is: 1e-6\n",
    "        Vth: 1\n",
    "        Vl: 0\n",
    "        Vr: 0\"\"\"\n",
    "\n",
    "cfg = OmegaConf.create(cfg)"
   ]
  },
  {
   "cell_type": "code",
   "execution_count": null,
   "metadata": {},
   "outputs": [],
   "source": [
    "from hydra.utils import instantiate\n",
    "\n",
    "net = instantiate(cfg.net)\n",
    "net = net(hyper_params={\"bias\": True})"
   ]
  },
  {
   "cell_type": "code",
   "execution_count": null,
   "metadata": {},
   "outputs": [],
   "source": [
    "# train\n",
    "import torch.nn.functional as F\n",
    "\n",
    "from src.eqprop.eqprop_util import init_params\n",
    "\n",
    "optimizer = torch.optim.SGD(net.parameters(), lr=0.01)\n",
    "loss_fn = torch.nn.MSELoss(reduction=\"sum\")\n",
    "net.apply(init_params(min_w=1e-6, max_w_gain=0.3))\n",
    "\n",
    "for i in range(1000):\n",
    "    x = X[i % 4].unsqueeze(0)\n",
    "    optimizer.zero_grad()\n",
    "    logit = net(x)\n",
    "    yhat = F.sigmoid(logit)\n",
    "    y_onehot = F.one_hot(y[i % 4], 2).float()\n",
    "    loss = loss_fn(yhat, y_onehot)\n",
    "    loss.backward()\n",
    "    net.eqprop(x)\n",
    "    optimizer.step()\n",
    "    if i % 100 == 0:\n",
    "        print(net.loss.item())"
   ]
  },
  {
   "cell_type": "code",
   "execution_count": null,
   "metadata": {},
   "outputs": [],
   "source": [
    "for buf in net.named_buffers():\n",
    "    print(buf[0], buf[1].shape)"
   ]
  },
  {
   "cell_type": "code",
   "execution_count": null,
   "metadata": {},
   "outputs": [],
   "source": []
  }
 ],
 "metadata": {
  "kernelspec": {
   "display_name": ".venv",
   "language": "python",
   "name": "python3"
  },
  "language_info": {
   "codemirror_mode": {
    "name": "ipython",
    "version": 3
   },
   "file_extension": ".py",
   "mimetype": "text/x-python",
   "name": "python",
   "nbconvert_exporter": "python",
   "pygments_lexer": "ipython3",
   "version": "3.11.0"
  }
 },
 "nbformat": 4,
 "nbformat_minor": 2
}
